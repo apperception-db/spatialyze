{
 "cells": [
  {
   "cell_type": "code",
   "execution_count": null,
   "id": "e8677230-ce92-420c-8b03-44769c7b4e44",
   "metadata": {},
   "outputs": [],
   "source": [
    "import json\n",
    "import os\n",
    "from collections import defaultdict\n",
    "\n",
    "performance_dir = \"performance--q2-de_1\"\n",
    "noop_performance_dir = \"performance--q2-noopt_1\"\n",
    "detection_dir = \"detection--q2-de_1\"\n",
    "\n",
    "def filter_cars(detections):\n",
    "    return [d for d in detections if d[-1] == 2.0]\n",
    "\n",
    "performance_files = sorted(os.listdir(performance_dir))\n",
    "noop_performance_files = sorted(os.listdir(noop_performance_dir))\n",
    "detection_files = sorted(os.listdir(detection_dir))\n",
    "\n",
    "skip_map = defaultdict(lambda: {'count': 0, 'overskip': 0, 'de_strongsort_time': 0, 'total_strongsort_time': 0})\n",
    "\n",
    "for i in range(len(performance_files)):\n",
    "    with open(os.path.join(performance_dir, performance_files[i])) as f:\n",
    "        performance = json.load(f)\n",
    "    with open(os.path.join(noop_performance_dir, noop_performance_files[i])) as f:\n",
    "        noop_performance = json.load(f)\n",
    "    with open(os.path.join(detection_dir, detection_files[i])) as f:\n",
    "        all_detections = json.load(f)\n",
    "\n",
    "    detection_estimation_benchmark = performance[5][\"benchmark\"]\n",
    "    strong_sort_benchmark = noop_performance[5][\"benchmark\"]\n",
    "    skip_track = detection_estimation_benchmark.get(\"skip_track\", [])\n",
    "\n",
    "    for track in skip_track:\n",
    "        current_f, next_f, process_time = track\n",
    "        skip_map[next_f-current_f-1][\"count\"] += 2\n",
    "        skip_map[next_f-current_f-1][\"de_strongsort_time\"] = process_time + strong_sort_benchmark[\"frame_process_time\"][current_f]\n",
    "        current_detections = filter_cars(all_detections[current_f][0])\n",
    "        overskip_counted = False\n",
    "        for f in range(current_f, next_f):\n",
    "            skip_map[next_f-current_f-1][\"total_strongsort_time\"] += strong_sort_benchmark[\"frame_process_time\"][f]\n",
    "            f_detections = filter_cars(all_detections[f][0])\n",
    "            ### Temporary place holder for the accuracy comparison\n",
    "            if len(f_detections) != len(current_detections) and not overskip_counted:\n",
    "                skip_map[next_f-current_f-1][\"overskip\"] += 1\n",
    "                overskip_counted = True\n",
    "\n",
    "skip_map = dict(skip_map)\n",
    "print(skip_map)"
   ]
  },
  {
   "cell_type": "code",
   "execution_count": null,
   "id": "39d582a2-9a70-4adf-aba3-e8cea54bb124",
   "metadata": {},
   "outputs": [],
   "source": [
    "import matplotlib.pyplot as plt\n",
    "\n",
    "# Assuming skip_map is the dictionary you have after running the above code\n",
    "# Prepare the data for plotting\n",
    "x_values = sorted(skip_map.keys())[1:]  # Sorting the keys to ensure the plot is ordered\n",
    "y_values = [skip_map[k]['total_strongsort_time'] - skip_map[k]['de_strongsort_time'] for k in x_values]\n",
    "\n",
    "# Plotting the data\n",
    "plt.figure(figsize=(10, 5))  # You can adjust the figure size as needed\n",
    "plt.bar(x_values, y_values, color='skyblue')  # Create a bar plot\n",
    "\n",
    "# Add titles and labels\n",
    "plt.title('Difference Between Total and DE StrongSort Time by Skip Distance')\n",
    "plt.xlabel('Skip Distance (Key in skip_map)')\n",
    "plt.ylabel('Time Difference (Total - DE)')\n",
    "\n",
    "# Show grid lines for better readability\n",
    "plt.grid(True, which='both', linestyle='--', linewidth=0.5)\n",
    "\n",
    "# Display the plot\n",
    "plt.show()\n"
   ]
  },
  {
   "cell_type": "code",
   "execution_count": null,
   "id": "dcf59fd7-cdba-4833-9861-b43330c276c3",
   "metadata": {},
   "outputs": [],
   "source": []
  }
 ],
 "metadata": {
  "kernelspec": {
   "display_name": "Python 3 (ipykernel)",
   "language": "python",
   "name": "python3"
  },
  "language_info": {
   "codemirror_mode": {
    "name": "ipython",
    "version": 3
   },
   "file_extension": ".py",
   "mimetype": "text/x-python",
   "name": "python",
   "nbconvert_exporter": "python",
   "pygments_lexer": "ipython3",
   "version": "3.10.13"
  }
 },
 "nbformat": 4,
 "nbformat_minor": 5
}
