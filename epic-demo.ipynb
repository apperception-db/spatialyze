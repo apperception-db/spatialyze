{
 "cells": [
  {
   "cell_type": "code",
   "execution_count": null,
   "id": "484a9a3e-ff9d-4136-a59f-6f83fd4d57f4",
   "metadata": {
    "tags": []
   },
   "outputs": [],
   "source": [
    "from spatialyze.world import World\n",
    "from spatialyze.geospatial_video import GeospatialVideo\n",
    "from spatialyze.video_processor.cache import disable_cache\n",
    "import pickle"
   ]
  },
  {
   "cell_type": "code",
   "execution_count": null,
   "id": "a040d0c9-6425-4065-995f-841df9a9d0d0",
   "metadata": {
    "tags": []
   },
   "outputs": [],
   "source": [
    "disable_cache()"
   ]
  },
  {
   "cell_type": "code",
   "execution_count": null,
   "id": "9fd68092-fb44-47a6-aab5-3eb782025e67",
   "metadata": {
    "tags": []
   },
   "outputs": [],
   "source": [
    "world = World()"
   ]
  },
  {
   "cell_type": "code",
   "execution_count": null,
   "id": "9e79a806-51a7-4d69-9d06-f3bd3c762eff",
   "metadata": {
    "tags": []
   },
   "outputs": [],
   "source": [
    "world.addVideo(GeospatialVideo(\n",
    "    './data/pipeline/videos/boston-seaport-scene-0655-CAM_FRONT.mp4',\n",
    "    './data/pipeline/videos/boston-seaport-scene-0655-CAM_FRONT.camera.pkl'\n",
    "))"
   ]
  },
  {
   "cell_type": "code",
   "execution_count": null,
   "id": "366a7da0-0d08-474a-af9d-71eb16f72353",
   "metadata": {
    "tags": []
   },
   "outputs": [],
   "source": [
    "world.addVideo(GeospatialVideo(\n",
    "    './data/pipeline/videos/boston-seaport-scene-0757-CAM_FRONT.mp4',\n",
    "    './data/pipeline/videos/boston-seaport-scene-0757-CAM_FRONT.camera.pkl'\n",
    "))"
   ]
  },
  {
   "cell_type": "code",
   "execution_count": null,
   "id": "7c22528d-e244-4dd2-9e8b-dc8a08678421",
   "metadata": {
    "tags": []
   },
   "outputs": [],
   "source": [
    "obj = world.object()"
   ]
  },
  {
   "cell_type": "code",
   "execution_count": null,
   "id": "f008f71a-7093-43c4-a255-f79410b197d9",
   "metadata": {
    "tags": []
   },
   "outputs": [],
   "source": [
    "world.filter(obj.type == 'bus')"
   ]
  },
  {
   "cell_type": "code",
   "execution_count": null,
   "id": "434323c5-495e-4814-8c10-d63f7c0492ac",
   "metadata": {
    "tags": []
   },
   "outputs": [],
   "source": [
    "objects = world.saveVideos('./output_videos', addBoundingBoxes=True)"
   ]
  },
  {
   "cell_type": "code",
   "execution_count": null,
   "id": "4291a743-be08-490d-8ac0-171c414a52d6",
   "metadata": {},
   "outputs": [],
   "source": []
  }
 ],
 "metadata": {
  "kernelspec": {
   "display_name": "Python 3 (ipykernel)",
   "language": "python",
   "name": "python3"
  },
  "language_info": {
   "codemirror_mode": {
    "name": "ipython",
    "version": 3
   },
   "file_extension": ".py",
   "mimetype": "text/x-python",
   "name": "python",
   "nbconvert_exporter": "python",
   "pygments_lexer": "ipython3",
   "version": "3.10.12"
  }
 },
 "nbformat": 4,
 "nbformat_minor": 5
}
