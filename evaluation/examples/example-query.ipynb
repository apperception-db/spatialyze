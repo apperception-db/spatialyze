{
 "cells": [
  {
   "cell_type": "code",
   "execution_count": 1,
   "metadata": {},
   "outputs": [],
   "source": [
    "from os import environ\n",
    "environ[\"AP_PORT\"] = \"25432\" # str(input('port'))\n",
    "# README command uses port=25432"
   ]
  },
  {
   "cell_type": "code",
   "execution_count": 2,
   "metadata": {},
   "outputs": [
    {
     "name": "stdout",
     "output_type": "stream",
     "text": [
      "CUDA is available.\n",
      " > 0: NVIDIA TITAN Xp\n",
      "   1: NVIDIA TITAN Xp\n",
      "   2: NVIDIA TITAN Xp\n",
      "   3: NVIDIA TITAN Xp\n",
      "   4: NVIDIA TITAN Xp\n",
      "   5: NVIDIA TITAN Xp\n"
     ]
    }
   ],
   "source": [
    "import pickle\n",
    "import json\n",
    "import os\n",
    "import psycopg2\n",
    "import numpy as np\n",
    "\n",
    "from spatialyze.database import Database\n",
    "from spatialyze.geospatial_video import GeospatialVideo\n",
    "from spatialyze.road_network import RoadNetwork\n",
    "from spatialyze.video_processor.camera_config import camera_config\n",
    "from spatialyze.video_processor.stages.tracking_3d.tracking_3d import Tracking3DResult\n",
    "from spatialyze.world import World, _execute\n",
    "from spatialyze.video_processor.cache import disable_cache\n",
    "from spatialyze.video_processor.metadata_json_encoder import MetadataJSONEncoder"
   ]
  },
  {
   "cell_type": "code",
   "execution_count": 3,
   "metadata": {},
   "outputs": [],
   "source": [
    "OUTPUT_DIR = '../../data/pipeline/test-results'\n",
    "VIDEO_DIR =  '../../data/pipeline/videos'\n",
    "ROAD_DIR = '../../data/scenic/road-network/boston-seaport'\n",
    "\n",
    "files = os.listdir(VIDEO_DIR)\n",
    "with open(os.path.join(VIDEO_DIR, 'frames.pkl'), 'rb') as f:\n",
    "    videos = pickle.load(f)\n",
    "    \n",
    "disable_cache()"
   ]
  },
  {
   "cell_type": "code",
   "execution_count": 4,
   "metadata": {},
   "outputs": [],
   "source": [
    "database = Database(\n",
    "    psycopg2.connect(\n",
    "        dbname=environ.get(\"AP_DB\", \"mobilitydb\"),\n",
    "        user=environ.get(\"AP_USER\", \"docker\"),\n",
    "        host=environ.get(\"AP_HOST\", \"localhost\"),\n",
    "        port=environ.get(\"AP_PORT\", \"25432\"),\n",
    "        password=environ.get(\"AP_PASSWORD\", \"docker\"),\n",
    "    )\n",
    ")"
   ]
  },
  {
   "cell_type": "code",
   "execution_count": 5,
   "metadata": {},
   "outputs": [
    {
     "data": {
      "text/plain": [
       "<spatialyze.world.World at 0x7f961c9a6890>"
      ]
     },
     "execution_count": 5,
     "metadata": {},
     "output_type": "execute_result"
    }
   ],
   "source": [
    "world = World(database)\n",
    "world.addGeogConstructs(RoadNetwork('Boston-Seaport', ROAD_DIR))"
   ]
  },
  {
   "cell_type": "code",
   "execution_count": 6,
   "metadata": {},
   "outputs": [],
   "source": [
    "for video in videos.values():\n",
    "    if video['filename'] not in files:\n",
    "        continue\n",
    "    \n",
    "    videofile = os.path.join(VIDEO_DIR, video['filename'])\n",
    "    camera = [camera_config(*c) for c in video['frames']]\n",
    "\n",
    "    world.addVideo(GeospatialVideo(videofile, camera))"
   ]
  },
  {
   "cell_type": "code",
   "execution_count": 7,
   "metadata": {},
   "outputs": [
    {
     "data": {
      "text/plain": [
       "<spatialyze.world.World at 0x7f961c9a6890>"
      ]
     },
     "execution_count": 7,
     "metadata": {},
     "output_type": "execute_result"
    }
   ],
   "source": [
    "from spatialyze.utils import F\n",
    "\n",
    "o = world.object()\n",
    "c = world.camera()\n",
    "world.filter((o.type == 'car') &\n",
    "              F.contained(o.trans@c.time, 'intersection') \n",
    ")"
   ]
  },
  {
   "cell_type": "code",
   "execution_count": 9,
   "metadata": {},
   "outputs": [
    {
     "name": "stdout",
     "output_type": "stream",
     "text": [
      "types ['car']\n"
     ]
    }
   ],
   "source": [
    "objects, trackings = _execute(world)"
   ]
  },
  {
   "cell_type": "code",
   "execution_count": null,
   "metadata": {},
   "outputs": [],
   "source": [
    "from typing import NamedTuple\n",
    "\n",
    "import numpy as np\n",
    "import numpy.typing as npt\n",
    "\n",
    "from ..data_types.camera_config import Float4\n",
    "from ..video_processor.stages.tracking_3d.tracking_3d import Tracking3DResult, Metadatum as T3DMetadatum\n",
    "\n",
    "\n",
    "# def get_point(database, filename, frameNum, objectId):\n",
    "#     point = database.execute(\n",
    "#         f\"\"\"\n",
    "#         SELECT valueAtTimestamp(t.translations, c.timestamp) \n",
    "#         FROM Cameras AS c JOIN Item_General_Trajectory AS t\n",
    "#         ON c.timestamp <@ t.trajCentroids::period AND c.cameraId =  t.cameraId\n",
    "#         WHERE c.filename = {filename} AND t.itemId = {objectId} AND c.frameNum = {frameNum}\n",
    "#         \"\"\"\n",
    "#     )\n",
    "#     return point[0]\n",
    "\n",
    "def interpolate_track(trackings, objectNum, frameNum):\n",
    "    left, right = None, None\n",
    "    leftNum, rightNum = frameNum, frameNum\n",
    "\n",
    "    while left is None and right is None:\n",
    "        if left is not None:\n",
    "            leftNum -= 1\n",
    "            if objectNum in trackings[video][leftNum]:\n",
    "                left = trackings[video][leftNum][objectNum]\n",
    "\n",
    "        if right is not None:\n",
    "            rightNum += 1\n",
    "            if objectNum in trackings[video][rightNum]:\n",
    "                right = trackings[video][rightNum][objectNum]\n",
    "    \n",
    "    newPoint = (left.point*leftNum + right.point*rightNum) / (leftNum + rightNum)\n",
    "    newBboxLeft = (left.bbox_left*leftNum + right.bbox_left*rightNum) / (leftNum + rightNum)\n",
    "    newBboxTop = (left.bbox_top*leftNum + right.bbox_top*rightNum) / (leftNum + rightNum)\n",
    "    newBboxHeight = (left.bbox_h*leftNum + right.bbox_h*rightNum) / (leftNum + rightNum)\n",
    "    newBboxWidth = (left.bbox_w*leftNum + right.bbox_w*rightNum) / (leftNum + rightNum)\n",
    "\n",
    "    return Tracking3DResult(frame_idx: frameNum, \n",
    "                            point: newPoint, \n",
    "                            bbox_left: newBboxLeft,\n",
    "                            bbox_top: newBboxTop, \n",
    "                            bbox_h: newBboxHeight,\n",
    "                            bbox_w: newBboxWidth)\n",
    "\n",
    "class MovableObject(NamedTuple):\n",
    "    id: \"int\"\n",
    "    type: \"str\"\n",
    "    track: \"list[npt.NDArray[np.floating]]\"\n",
    "    bboxes: \"list[Float4]\"\n",
    "    frame_ids: \"list[int]\"\n",
    "    camera_id: \"str\"\n",
    "\n",
    "\n",
    "def get_object_list(\n",
    "    objects: \"dict[str, list[tuple]]\",\n",
    "    trackings: \"dict[str, list[T3DMetadatum]]\",\n",
    ") -> \"list[MovableObject]\":\n",
    "    tracks: \"dict[str, dict[int, list[npt.NDArray[np.floating]]]]\" = {}\n",
    "    bboxes: \"dict[str, dict[int, list[Float4]]]\" = {}\n",
    "    frameIds: \"dict[str, dict[int, list[int]]]\" = {}\n",
    "    objectTypes: \"dict[str, dict[int, str]]\" = {}\n",
    "\n",
    "    for video in objects:\n",
    "        videoObjects = objects[video]\n",
    "        if len(videoObjects) == 0:\n",
    "            continue\n",
    "\n",
    "        cameraId = videoObjects[0][2]  # cameraId same for everything in a video\n",
    "        assert isinstance(cameraId, str), type(cameraId)\n",
    "        tracks[cameraId] = {}\n",
    "        bboxes[cameraId] = {}\n",
    "        frameIds[cameraId] = {}\n",
    "        objectTypes[cameraId] = {}\n",
    "\n",
    "        for obj in videoObjects:\n",
    "            frameId, objectId =\n",
    "\n",
    "            objectNum = \n",
    "\n",
    "            if objectNum in trackings[frameId]:\n",
    "                track = trackings[frameId][objectNum]\n",
    "            else:\n",
    "                track = interpolate_track(trackings, objectNum, frameId)\n",
    "\n",
    "            if objectId not in tracks[cameraId]:\n",
    "                tracks[cameraId][objectId] = []\n",
    "            tracks[cameraId][objectId].append(track.point)\n",
    "\n",
    "            if objectId not in bboxes[cameraId]:\n",
    "                bboxes[cameraId][objectId] = []\n",
    "            bboxes[cameraId][objectId].append(\n",
    "                (track.bbox_left, track.bbox_top, track.bbox_w, track.bbox_h)\n",
    "            )\n",
    "\n",
    "            if objectId not in frameIds[cameraId]:\n",
    "                frameIds[cameraId][objectId] = []\n",
    "            frameIds[cameraId][objectId].append(track.frame_idx)\n",
    "            \n",
    "            objectTypes[cameraId][objectId] = track.object_type\n",
    "\n",
    "    result: \"list[MovableObject]\" = []\n",
    "    for cameraId in tracks:\n",
    "        for objectId in tracks[cameraId]:\n",
    "            result.append(\n",
    "                MovableObject(\n",
    "                    objectId,\n",
    "                    objectTypes[cameraId][objectId],\n",
    "                    tracks[cameraId][objectId],\n",
    "                    bboxes[cameraId][objectId],\n",
    "                    frameIds[cameraId][objectId],\n",
    "                    cameraId,\n",
    "                )\n",
    "            )\n",
    "    return result"
   ]
  },
  {
   "cell_type": "code",
   "execution_count": null,
   "metadata": {},
   "outputs": [],
   "source": [
    "import cv2\n",
    "\n",
    "from ..video_processor.stages.tracking_3d.tracking_3d import Metadatum as T3DMetadatum\n",
    "from ..video_processor.stages.tracking_3d.tracking_3d import Tracking3DResult\n",
    "\n",
    "\n",
    "def save_video_util(\n",
    "    objects: \"dict[str, list[tuple]]\",\n",
    "    trackings: \"dict[str, list[T3DMetadatum]]\",\n",
    "    OUTPUT_PATH: \"str\",\n",
    "    addBoundingBoxes: \"bool\" = False,\n",
    ") -> \"list[tuple[str, int]]\":\n",
    "    frame_trackings = _get_frame_objects(trackings)\n",
    "    cameraIds = _get_camera_ids(objects)\n",
    "\n",
    "    result: \"list[tuple[str, int]]\" = []\n",
    "\n",
    "    for videoname, frame_tracking in frame_trackings.items():\n",
    "        cameraId = cameraIds[videoname]\n",
    "        output_file = OUTPUT_PATH + cameraId + \"-result.mp4\"\n",
    "\n",
    "        cap = cv2.VideoCapture(videoname)\n",
    "        if not cap.isOpened():\n",
    "            print(f\"WARNING: Cannot read video file: {videoname}\")\n",
    "            continue\n",
    "\n",
    "        width = int(cap.get(cv2.CAP_PROP_FRAME_WIDTH))\n",
    "        height = int(cap.get(cv2.CAP_PROP_FRAME_HEIGHT))\n",
    "        vid_writer = cv2.VideoWriter(\n",
    "            output_file, cv2.VideoWriter_fourcc(*'mp4v'), 30, (width, height)\n",
    "        )\n",
    "\n",
    "        frame_cnt = 0\n",
    "        while cap.isOpened():\n",
    "            ret, frame = cap.read()\n",
    "            if not ret:\n",
    "                break\n",
    "\n",
    "            if frame_cnt in frame_tracking:\n",
    "                if addBoundingBoxes:\n",
    "                    for track in frame_tracking.get(frame_cnt, []):\n",
    "                        bbox_left, bbox_top, bbox_w, bbox_h = (\n",
    "                            track.bbox_left,\n",
    "                            track.bbox_top,\n",
    "                            track.bbox_w,\n",
    "                            track.bbox_h,\n",
    "                        )\n",
    "                        x1, y1 = bbox_left, bbox_top\n",
    "                        x2, y2 = bbox_left + bbox_w, bbox_top - bbox_h\n",
    "                        frame = cv2.rectangle(\n",
    "                            frame, (int(x1), int(y1)), (int(x2), int(y2)), (255, 255, 0), 2\n",
    "                        )\n",
    "\n",
    "                vid_writer.write(frame)\n",
    "                result.append((videoname, frame_cnt))\n",
    "\n",
    "            frame_cnt += 1\n",
    "\n",
    "        vid_writer.release()\n",
    "\n",
    "    return result\n",
    "    \n",
    "\n",
    "\n",
    "def _get_frame_objects(trackings: \"dict[str, list[T3DMetadatum]]\"):\n",
    "    \"\"\"\n",
    "    Indexes objects based on frame ID\n",
    "    \"\"\"\n",
    "    result: \"dict[str, dict[int, list[Tracking3DResult]]]\" = {}\n",
    "    for video, tracking in trackings.items():\n",
    "        result[video] = {}\n",
    "        for frame in tracking:\n",
    "            for objectId in frame:\n",
    "                track = frame[objectId]\n",
    "                frameId = track.frame_idx\n",
    "                if frameId not in result[video]:\n",
    "                    result[video][frameId] = []\n",
    "                result[video][frameId].append(track)\n",
    "\n",
    "    return result\n",
    "\n",
    "\n",
    "def _get_camera_ids(objects: \"dict[str, list[tuple]]\"):\n",
    "    \"\"\"\n",
    "    Gets the cameraIds relating to each of the videos\n",
    "    \"\"\"\n",
    "    result: \"dict[str, str]\" = {}\n",
    "    for video, obj in objects.items():\n",
    "        if len(obj) == 0:\n",
    "            continue\n",
    "\n",
    "        result[video] = obj[0][2]\n",
    "    return result"
   ]
  },
  {
   "cell_type": "code",
   "execution_count": null,
   "metadata": {},
   "outputs": [],
   "source": [
    "trackings['../../data/pipeline/videos\\\\boston-seaport-scene-0655-CAM_FRONT.mp4'][8]"
   ]
  },
  {
   "cell_type": "code",
   "execution_count": null,
   "metadata": {},
   "outputs": [],
   "source": [
    "objects"
   ]
  }
 ],
 "metadata": {
  "kernelspec": {
   "display_name": "spatialyze",
   "language": "python",
   "name": "python3"
  },
  "language_info": {
   "codemirror_mode": {
    "name": "ipython",
    "version": 3
   },
   "file_extension": ".py",
   "mimetype": "text/x-python",
   "name": "python",
   "nbconvert_exporter": "python",
   "pygments_lexer": "ipython3",
   "version": "3.10.12"
  },
  "vscode": {
   "interpreter": {
    "hash": "84811f0b18467531d9159c52389f859386c3fe2775a4d2964ee51061827c5c88"
   }
  }
 },
 "nbformat": 4,
 "nbformat_minor": 2
}
