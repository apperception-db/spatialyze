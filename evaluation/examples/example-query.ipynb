{
 "cells": [
  {
   "cell_type": "code",
   "execution_count": null,
   "metadata": {
    "tags": []
   },
   "outputs": [],
   "source": [
    "from os import environ\n",
    "# environ[\"AP_PORT\"] = \"25432\" # str(input('port'))\n",
    "# README command uses port=25432"
   ]
  },
  {
   "cell_type": "code",
   "execution_count": null,
   "metadata": {
    "tags": []
   },
   "outputs": [],
   "source": [
    "import pickle\n",
    "import json\n",
    "import os\n",
    "import psycopg2\n",
    "import numpy as np\n",
    "\n",
    "from spatialyze.database import database\n",
    "from spatialyze.geospatial_video import GeospatialVideo\n",
    "from spatialyze.road_network import RoadNetwork\n",
    "from spatialyze.video_processor.camera_config import camera_config\n",
    "from spatialyze.video_processor.stages.tracking_3d.tracking_3d import Tracking3DResult\n",
    "from spatialyze.world import World, _execute\n",
    "# from spatialyze.video_processor.cache import disable_cache\n",
    "from spatialyze.video_processor.metadata_json_encoder import MetadataJSONEncoder"
   ]
  },
  {
   "cell_type": "code",
   "execution_count": null,
   "metadata": {
    "tags": []
   },
   "outputs": [],
   "source": [
    "OUTPUT_DIR = '../../data/pipeline/test-results'\n",
    "VIDEO_DIR =  '../../data/pipeline/videos'\n",
    "ROAD_DIR = '../../data/scenic/road-network/boston-seaport'\n",
    "\n",
    "files = os.listdir(VIDEO_DIR)\n",
    "with open(os.path.join(VIDEO_DIR, 'frames.pkl'), 'rb') as f:\n",
    "    videos = pickle.load(f)\n",
    "\n",
    "# disable_cache()"
   ]
  },
  {
   "cell_type": "code",
   "execution_count": null,
   "metadata": {
    "tags": []
   },
   "outputs": [],
   "source": [
    "# database = Database(\n",
    "#     psycopg2.connect(\n",
    "#         dbname=environ.get(\"AP_DB\", \"mobilitydb\"),\n",
    "#         user=environ.get(\"AP_USER\", \"docker\"),\n",
    "#         host=environ.get(\"AP_HOST\", \"localhost\"),\n",
    "#         port=environ.get(\"AP_PORT\", \"25432\"),\n",
    "#         password=environ.get(\"AP_PASSWORD\", \"docker\"),\n",
    "#     )\n",
    "# )"
   ]
  },
  {
   "cell_type": "code",
   "execution_count": null,
   "metadata": {},
   "outputs": [],
   "source": [
    "world = World(database)\n",
    "world.addGeogConstructs(RoadNetwork('Boston-Seaport', ROAD_DIR))"
   ]
  },
  {
   "cell_type": "code",
   "execution_count": null,
   "metadata": {},
   "outputs": [],
   "source": [
    "for video in videos.values():\n",
    "    if video['filename'] not in files:\n",
    "        continue\n",
    "\n",
    "    videofile = os.path.join(VIDEO_DIR, video['filename'])\n",
    "    camera = [camera_config(*c) for c in video['frames']]\n",
    "\n",
    "    world.addVideo(GeospatialVideo(videofile, camera))"
   ]
  },
  {
   "cell_type": "code",
   "execution_count": null,
   "metadata": {},
   "outputs": [],
   "source": [
    "from spatialyze.utils import F\n",
    "\n",
    "obj = world.object()\n",
    "cam = world.camera()\n",
    "intersection = world.geogConstruct(type='intersection')\n",
    "\n",
    "world.filter(\n",
    "    ((obj.type == 'car') | (obj.type == 'truck')) &\n",
    "    (F.distance(obj, cam) < 50) &\n",
    "    F.contains(intersection, obj) &\n",
    "    F.heading_diff(obj, cam, between=[135, 225])\n",
    ")"
   ]
  },
  {
   "cell_type": "code",
   "execution_count": null,
   "metadata": {},
   "outputs": [],
   "source": [
    "world.getObjects()"
   ]
  },
  {
   "cell_type": "code",
   "execution_count": null,
   "metadata": {
    "tags": []
   },
   "outputs": [],
   "source": [
    "world.saveVideos(outputDir=OUTPUT_DIR, addBoundingBoxes=True)"
   ]
  },
  {
   "cell_type": "code",
   "execution_count": null,
   "metadata": {},
   "outputs": [],
   "source": []
  }
 ],
 "metadata": {
  "kernelspec": {
   "display_name": "Python 3 (ipykernel)",
   "language": "python",
   "name": "python3"
  },
  "language_info": {
   "codemirror_mode": {
    "name": "ipython",
    "version": 3
   },
   "file_extension": ".py",
   "mimetype": "text/x-python",
   "name": "python",
   "nbconvert_exporter": "python",
   "pygments_lexer": "ipython3",
   "version": "3.10.14"
  },
  "vscode": {
   "interpreter": {
    "hash": "84811f0b18467531d9159c52389f859386c3fe2775a4d2964ee51061827c5c88"
   }
  }
 },
 "nbformat": 4,
 "nbformat_minor": 4
}
