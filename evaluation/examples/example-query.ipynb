{
 "cells": [
  {
   "cell_type": "code",
   "execution_count": null,
   "metadata": {},
   "outputs": [],
   "source": [
    "from os import environ\n",
    "environ[\"AP_PORT\"] = \"25432\" # str(input('port'))\n",
    "# README command uses port=25432"
   ]
  },
  {
   "cell_type": "code",
   "execution_count": null,
   "metadata": {},
   "outputs": [],
   "source": [
    "import pickle\n",
    "import json\n",
    "import os\n",
    "import psycopg2\n",
    "import numpy as np\n",
    "\n",
    "from spatialyze.database import Database\n",
    "from spatialyze.geospatial_video import GeospatialVideo\n",
    "from spatialyze.road_network import RoadNetwork\n",
    "from spatialyze.video_processor.camera_config import camera_config\n",
    "from spatialyze.video_processor.stages.tracking_3d.tracking_3d import Tracking3DResult\n",
    "from spatialyze.world import World, _execute\n",
    "from spatialyze.video_processor.cache import disable_cache\n",
    "from spatialyze.video_processor.metadata_json_encoder import MetadataJSONEncoder"
   ]
  },
  {
   "cell_type": "code",
   "execution_count": null,
   "metadata": {},
   "outputs": [],
   "source": [
    "OUTPUT_DIR = '../../data/pipeline/test-results'\n",
    "VIDEO_DIR =  '../../data/pipeline/videos'\n",
    "ROAD_DIR = '../../data/scenic/road-network/boston-seaport'\n",
    "\n",
    "files = os.listdir(VIDEO_DIR)\n",
    "with open(os.path.join(VIDEO_DIR, 'frames.pkl'), 'rb') as f:\n",
    "    videos = pickle.load(f)\n",
    "    \n",
    "disable_cache()"
   ]
  },
  {
   "cell_type": "code",
   "execution_count": null,
   "metadata": {},
   "outputs": [],
   "source": [
    "database = Database(\n",
    "    psycopg2.connect(\n",
    "        dbname=environ.get(\"AP_DB\", \"mobilitydb\"),\n",
    "        user=environ.get(\"AP_USER\", \"docker\"),\n",
    "        host=environ.get(\"AP_HOST\", \"localhost\"),\n",
    "        port=environ.get(\"AP_PORT\", \"25432\"),\n",
    "        password=environ.get(\"AP_PASSWORD\", \"docker\"),\n",
    "    )\n",
    ")"
   ]
  },
  {
   "cell_type": "code",
   "execution_count": null,
   "metadata": {},
   "outputs": [],
   "source": [
    "world = World(database)\n",
    "world.addGeogConstructs(RoadNetwork('Boston-Seaport', ROAD_DIR))"
   ]
  },
  {
   "cell_type": "code",
   "execution_count": null,
   "metadata": {},
   "outputs": [],
   "source": [
    "for video in videos.values():\n",
    "    if video['filename'] not in files:\n",
    "        continue\n",
    "    \n",
    "    videofile = os.path.join(VIDEO_DIR, video['filename'])\n",
    "    camera = [camera_config(*c) for c in video['frames']]\n",
    "\n",
    "    world.addVideo(GeospatialVideo(videofile, camera))"
   ]
  },
  {
   "cell_type": "code",
   "execution_count": null,
   "metadata": {},
   "outputs": [],
   "source": [
    "from spatialyze.utils import F\n",
    "\n",
    "o = world.object()\n",
    "c = world.camera()\n",
    "world.filter((o.type == 'car') &\n",
    "    F.contained(o.trans@c.time, 'intersection')\n",
    ")"
   ]
  },
  {
   "cell_type": "code",
   "execution_count": null,
   "metadata": {},
   "outputs": [],
   "source": [
    "objects, trackings = _execute(world)"
   ]
  },
  {
   "cell_type": "code",
   "execution_count": null,
   "metadata": {},
   "outputs": [],
   "source": [
    "import cv2\n",
    "import os\n",
    "\n",
    "def save_video_util(objects, trackings, OUTPUT_DIR, addBoundingBoxes=False):\n",
    "    frame_trackings = _get_frame_objects(trackings=trackings)\n",
    "    cameraIds = _get_camera_ids(objects=objects)\n",
    "\n",
    "    for video in frame_trackings:\n",
    "        cameraId = cameraIds[video]\n",
    "        output_file = os.path.join(OUTPUT_DIR, cameraId + \"-result.mp4\")\n",
    "        cap = cv2.VideoCapture(video)\n",
    "        if not cap.isOpened():\n",
    "            print(f\"WARNING: Cannot read video file: {video}\")\n",
    "            continue\n",
    "\n",
    "        width = int(cap.get(cv2.CAP_PROP_FRAME_WIDTH))\n",
    "        height = int(cap.get(cv2.CAP_PROP_FRAME_HEIGHT))\n",
    "        vid_writer = cv2.VideoWriter(\n",
    "            output_file, cv2.VideoWriter_fourcc(*'mp4v'), 30, (width, height)\n",
    "        )\n",
    "\n",
    "        print(\"hi\")\n",
    "        frame_cnt = 0\n",
    "        while cap.isOpened():\n",
    "            ret, frame = cap.read()\n",
    "\n",
    "            if frame_cnt in frame_trackings[video] and ret:\n",
    "                print(\"hi\")\n",
    "                if addBoundingBoxes:\n",
    "                    for track in frame_trackings[video][frame_cnt]:\n",
    "                        bbox_left, bbox_top, bbox_w, bbox_h = track.bbox_left, track.bbox_top, track.bbox_w, track.bbox_h\n",
    "                        x1, y1 = bbox_left, bbox_top\n",
    "                        x2, y2 = bbox_left + bbox_w, bbox_top - bbox_h\n",
    "                        cv2.rectangle(frame, (int(x1), int(y1)), (int(x2), int(y2)), (255, 255, 0), 2)\n",
    "                \n",
    "                vid_writer.write(frame)\n",
    "            \n",
    "            frame_cnt += 1\n",
    "            if not ret:\n",
    "                break\n",
    "            \n",
    "        cap.release()\n",
    "        vid_writer.release()\n",
    "\n",
    "\"\"\"\n",
    "Indexes objects based on frame ID\n",
    "\"\"\"\n",
    "def _get_frame_objects(trackings):\n",
    "\n",
    "    result = {}\n",
    "    for video in trackings:\n",
    "        result[video] = {}\n",
    "        for frame in trackings[video]:\n",
    "            for objectId in frame:\n",
    "                track = frame[objectId]\n",
    "                frameId = track.frame_idx\n",
    "                if frameId not in result[video]:\n",
    "                    result[video][frameId] = []\n",
    "                result[video][frameId].append(track)\n",
    "\n",
    "    return result\n",
    "\n",
    "\"\"\"\n",
    "Gets the cameraIds relating to each of the videos\n",
    "\"\"\"\n",
    "def _get_camera_ids(objects):\n",
    "    result = {}\n",
    "    for video in objects:\n",
    "        if len(objects[video]) == 0:\n",
    "            continue\n",
    "    \n",
    "        result[video] = objects[video][0][2]\n",
    "    return result\n",
    "\n",
    "\n",
    "save_video_util(objects, trackings, OUTPUT_DIR, addBoundingBoxes=True)"
   ]
  },
  {
   "cell_type": "code",
   "execution_count": null,
   "metadata": {},
   "outputs": [],
   "source": [
    "_get_frame_objects(trackings)"
   ]
  }
 ],
 "metadata": {
  "kernelspec": {
   "display_name": "spatialyze",
   "language": "python",
   "name": "python3"
  },
  "language_info": {
   "codemirror_mode": {
    "name": "ipython",
    "version": 3
   },
   "file_extension": ".py",
   "mimetype": "text/x-python",
   "name": "python",
   "nbconvert_exporter": "python",
   "pygments_lexer": "ipython3",
   "version": "3.10.12"
  },
  "orig_nbformat": 4
 },
 "nbformat": 4,
 "nbformat_minor": 2
}
