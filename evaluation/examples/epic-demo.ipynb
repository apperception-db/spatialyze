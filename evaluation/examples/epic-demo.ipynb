{
 "cells": [
  {
   "cell_type": "code",
   "execution_count": 1,
   "id": "484a9a3e-ff9d-4136-a59f-6f83fd4d57f4",
   "metadata": {
    "tags": []
   },
   "outputs": [
    {
     "name": "stdout",
     "output_type": "stream",
     "text": [
      "CUDA is available.\n",
      " > 0: Tesla V100-SXM2-32GB-LS\n",
      "   1: Tesla V100-SXM2-32GB-LS\n",
      "   2: Tesla V100-SXM2-32GB-LS\n",
      "   3: Tesla V100-SXM2-32GB-LS\n",
      "   4: Tesla V100-SXM2-32GB-LS\n",
      "   5: Tesla V100-SXM2-32GB-LS\n",
      "   6: Tesla V100-SXM2-32GB-LS\n",
      "   7: Tesla V100-SXM2-32GB-LS\n"
     ]
    },
    {
     "ename": "ModuleNotFoundError",
     "evalue": "No module named 'spatialyze.video_processor.cache'",
     "output_type": "error",
     "traceback": [
      "\u001b[0;31m---------------------------------------------------------------------------\u001b[0m",
      "\u001b[0;31mModuleNotFoundError\u001b[0m                       Traceback (most recent call last)",
      "Cell \u001b[0;32mIn[1], line 3\u001b[0m\n\u001b[1;32m      1\u001b[0m \u001b[38;5;28;01mfrom\u001b[39;00m \u001b[38;5;21;01mspatialyze\u001b[39;00m\u001b[38;5;21;01m.\u001b[39;00m\u001b[38;5;21;01mworld\u001b[39;00m \u001b[38;5;28;01mimport\u001b[39;00m World\n\u001b[1;32m      2\u001b[0m \u001b[38;5;28;01mfrom\u001b[39;00m \u001b[38;5;21;01mspatialyze\u001b[39;00m\u001b[38;5;21;01m.\u001b[39;00m\u001b[38;5;21;01mgeospatial_video\u001b[39;00m \u001b[38;5;28;01mimport\u001b[39;00m GeospatialVideo\n\u001b[0;32m----> 3\u001b[0m \u001b[38;5;28;01mfrom\u001b[39;00m \u001b[38;5;21;01mspatialyze\u001b[39;00m\u001b[38;5;21;01m.\u001b[39;00m\u001b[38;5;21;01mvideo_processor\u001b[39;00m\u001b[38;5;21;01m.\u001b[39;00m\u001b[38;5;21;01mcache\u001b[39;00m \u001b[38;5;28;01mimport\u001b[39;00m disable_cache\n",
      "\u001b[0;31mModuleNotFoundError\u001b[0m: No module named 'spatialyze.video_processor.cache'"
     ]
    }
   ],
   "source": [
    "from spatialyze.world import World\n",
    "from spatialyze.geospatial_video import GeospatialVideo\n",
    "from spatialyze.video_processor.cache import disable_cache"
   ]
  },
  {
   "cell_type": "code",
   "execution_count": null,
   "id": "a040d0c9-6425-4065-995f-841df9a9d0d0",
   "metadata": {
    "tags": []
   },
   "outputs": [],
   "source": [
    "disable_cache()"
   ]
  },
  {
   "cell_type": "code",
   "execution_count": null,
   "id": "9fd68092-fb44-47a6-aab5-3eb782025e67",
   "metadata": {
    "tags": []
   },
   "outputs": [],
   "source": [
    "world = World()"
   ]
  },
  {
   "cell_type": "code",
   "execution_count": null,
   "id": "9e79a806-51a7-4d69-9d06-f3bd3c762eff",
   "metadata": {
    "tags": []
   },
   "outputs": [],
   "source": [
    "world.addVideo(GeospatialVideo(\n",
    "    './data/pipeline/videos/boston-seaport-scene-0655-CAM_FRONT.mp4',\n",
    "    './data/pipeline/videos/boston-seaport-scene-0655-CAM_FRONT.camera.pkl'\n",
    "))"
   ]
  },
  {
   "cell_type": "code",
   "execution_count": null,
   "id": "366a7da0-0d08-474a-af9d-71eb16f72353",
   "metadata": {
    "tags": []
   },
   "outputs": [],
   "source": [
    "world.addVideo(GeospatialVideo(\n",
    "    './data/pipeline/videos/boston-seaport-scene-0757-CAM_FRONT.mp4',\n",
    "    './data/pipeline/videos/boston-seaport-scene-0757-CAM_FRONT.camera.pkl'\n",
    "))"
   ]
  },
  {
   "cell_type": "code",
   "execution_count": null,
   "id": "7c22528d-e244-4dd2-9e8b-dc8a08678421",
   "metadata": {
    "tags": []
   },
   "outputs": [],
   "source": [
    "obj = world.object()"
   ]
  },
  {
   "cell_type": "code",
   "execution_count": null,
   "id": "f008f71a-7093-43c4-a255-f79410b197d9",
   "metadata": {
    "tags": []
   },
   "outputs": [],
   "source": [
    "world.filter(obj.type == 'bus')"
   ]
  },
  {
   "cell_type": "code",
   "execution_count": null,
   "id": "434323c5-495e-4814-8c10-d63f7c0492ac",
   "metadata": {
    "tags": []
   },
   "outputs": [],
   "source": [
    "objects = world.saveVideos('./output_videos', addBoundingBoxes=True)"
   ]
  },
  {
   "cell_type": "code",
   "execution_count": null,
   "id": "4291a743-be08-490d-8ac0-171c414a52d6",
   "metadata": {},
   "outputs": [],
   "source": []
  }
 ],
 "metadata": {
  "kernelspec": {
   "display_name": "Python 3 (ipykernel)",
   "language": "python",
   "name": "python3"
  },
  "language_info": {
   "codemirror_mode": {
    "name": "ipython",
    "version": 3
   },
   "file_extension": ".py",
   "mimetype": "text/x-python",
   "name": "python",
   "nbconvert_exporter": "python",
   "pygments_lexer": "ipython3",
   "version": "3.10.14"
  }
 },
 "nbformat": 4,
 "nbformat_minor": 5
}
