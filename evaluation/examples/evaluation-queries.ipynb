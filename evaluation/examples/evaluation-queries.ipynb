{
 "cells": [
  {
   "cell_type": "markdown",
   "id": "60463188-27be-44a4-95b4-40ea404379dc",
   "metadata": {},
   "source": [
    "# Evaluation Queries"
   ]
  },
  {
   "cell_type": "markdown",
   "id": "39e06a49-85b3-4aa5-bc47-1242f95af0e8",
   "metadata": {},
   "source": [
    "## Set up"
   ]
  },
  {
   "cell_type": "code",
   "execution_count": 2,
   "id": "961762b7-06ea-4cf9-b771-0fcf17f328a1",
   "metadata": {},
   "outputs": [
    {
     "ename": "ImportError",
     "evalue": "attempted relative import with no known parent package",
     "output_type": "error",
     "traceback": [
      "\u001b[0;31m---------------------------------------------------------------------------\u001b[0m",
      "\u001b[0;31mImportError\u001b[0m                               Traceback (most recent call last)",
      "Cell \u001b[0;32mIn[2], line 12\u001b[0m\n\u001b[1;32m     10\u001b[0m \u001b[38;5;28;01mfrom\u001b[39;00m \u001b[38;5;21;01mspatialyze\u001b[39;00m\u001b[38;5;21;01m.\u001b[39;00m\u001b[38;5;21;01mvideo_processor\u001b[39;00m\u001b[38;5;21;01m.\u001b[39;00m\u001b[38;5;21;01mcamera_config\u001b[39;00m \u001b[38;5;28;01mimport\u001b[39;00m camera_config\n\u001b[1;32m     11\u001b[0m \u001b[38;5;28;01mfrom\u001b[39;00m \u001b[38;5;21;01mspatialyze\u001b[39;00m\u001b[38;5;21;01m.\u001b[39;00m\u001b[38;5;21;01mutils\u001b[39;00m\u001b[38;5;21;01m.\u001b[39;00m\u001b[38;5;21;01mF\u001b[39;00m \u001b[38;5;28;01mimport\u001b[39;00m distance, contains, heading_diff, has_types, stopped, left_turn\n\u001b[0;32m---> 12\u001b[0m \u001b[38;5;28;01mfrom\u001b[39;00m \u001b[38;5;21;01mutils\u001b[39;00m \u001b[38;5;28;01mimport\u001b[39;00m topdown_config, vv_config, resize\n",
      "File \u001b[0;32m~/spatialyze/evaluation/examples/utils.py:6\u001b[0m\n\u001b[1;32m      2\u001b[0m \u001b[38;5;28;01mfrom\u001b[39;00m \u001b[38;5;21;01mtyping\u001b[39;00m \u001b[38;5;28;01mimport\u001b[39;00m NamedTuple\n\u001b[1;32m      4\u001b[0m \u001b[38;5;28;01mimport\u001b[39;00m \u001b[38;5;21;01mnumpy\u001b[39;00m \u001b[38;5;28;01mas\u001b[39;00m \u001b[38;5;21;01mnp\u001b[39;00m\n\u001b[0;32m----> 6\u001b[0m \u001b[38;5;28;01mfrom\u001b[39;00m \u001b[38;5;21;01m.\u001b[39;00m\u001b[38;5;21;01m.\u001b[39;00m\u001b[38;5;21;01mtypes\u001b[39;00m \u001b[38;5;28;01mimport\u001b[39;00m Float2, Float3, Float33\n\u001b[1;32m      9\u001b[0m start_date \u001b[38;5;241m=\u001b[39m datetime\u001b[38;5;241m.\u001b[39mdatetime(\n\u001b[1;32m     10\u001b[0m     year\u001b[38;5;241m=\u001b[39m\u001b[38;5;241m2018\u001b[39m,\n\u001b[1;32m     11\u001b[0m     month\u001b[38;5;241m=\u001b[39m\u001b[38;5;241m8\u001b[39m,\n\u001b[0;32m   (...)\u001b[0m\n\u001b[1;32m     16\u001b[0m     microsecond\u001b[38;5;241m=\u001b[39m\u001b[38;5;241m0\u001b[39m\n\u001b[1;32m     17\u001b[0m )\n\u001b[1;32m     20\u001b[0m \u001b[38;5;66;03m# SkyQuery ---\u001b[39;00m\n",
      "\u001b[0;31mImportError\u001b[0m: attempted relative import with no known parent package"
     ]
    }
   ],
   "source": [
    "import pickle\n",
    "import os\n",
    "import json\n",
    "\n",
    "import cv2\n",
    "\n",
    "from spatialyze.geospatial_video import GeospatialVideo\n",
    "from spatialyze.road_network import RoadNetwork\n",
    "from spatialyze.world import World\n",
    "from spatialyze.video_processor.camera_config import camera_config\n",
    "from spatialyze.utils.F import distance, contains, heading_diff, has_types, stopped, left_turn\n",
    "from utils import topdown_config, vv_config, resize"
   ]
  },
  {
   "cell_type": "markdown",
   "id": "fab3d576-274d-485e-a3f7-bb89e4ff5ed0",
   "metadata": {},
   "source": [
    "### Macro Operators"
   ]
  },
  {
   "cell_type": "code",
   "execution_count": 3,
   "id": "2c7e8662-6d2c-4933-944a-6fa5a975c63c",
   "metadata": {},
   "outputs": [],
   "source": [
    "# macro operators\n",
    "def perpendicular(obj1, obj2, margin=20):\n",
    "    return heading_diff(obj1, obj2, between=[90-margin, 90+margin]) | heading_diff(obj1, obj2, between=[270-margin, 270+margin])\n",
    "\n",
    "\n",
    "def opposite(obj1, obj2, margin=20):\n",
    "    return heading_diff(obj1, obj2, between=[180-margin, 180+margin])\n",
    "\n",
    "\n",
    "def sameDirection(obj1, obj2, margin=20):\n",
    "    return heading_diff(obj1, obj2, between=[0-margin, 0+margin])"
   ]
  },
  {
   "cell_type": "markdown",
   "id": "479f3701-114e-4032-bb6e-08a832880312",
   "metadata": {},
   "source": [
    "### nuScenes Data"
   ]
  },
  {
   "cell_type": "code",
   "execution_count": 4,
   "id": "3e412c3c-2219-4cfb-b510-71ce5dbf90f9",
   "metadata": {},
   "outputs": [],
   "source": [
    "DATA_DIR = '../../data'\n",
    "OUTPUT_DIR = os.path.join(DATA_DIR, 'pipeline/outputs')\n",
    "VIDEO_DIR = os.path.join(DATA_DIR, 'pipeline/videos')\n",
    "ROAD_DIR = os.path.join(DATA_DIR, 'scenic/road-network/boston-seaport')\n",
    "\n",
    "files = os.listdir(VIDEO_DIR)\n",
    "with open(os.path.join(VIDEO_DIR, 'frames.pkl'), 'rb') as f:\n",
    "    videos = pickle.load(f)"
   ]
  },
  {
   "cell_type": "markdown",
   "id": "d5d3f71b-d0cc-4c79-918a-849b1972bfbb",
   "metadata": {},
   "source": [
    "# Query 1"
   ]
  },
  {
   "cell_type": "code",
   "execution_count": 5,
   "id": "dc044ce5-0a1f-4008-9fe6-38fee87ac268",
   "metadata": {},
   "outputs": [
    {
     "data": {
      "text/plain": [
       "<spatialyze.world.World at 0x16c75e7d0>"
      ]
     },
     "execution_count": 5,
     "metadata": {},
     "output_type": "execute_result"
    }
   ],
   "source": [
    "world = World()\n",
    "world.addGeogConstructs(RoadNetwork('Boston-Seaport', ROAD_DIR))\n",
    "\n",
    "for file in os.listdir(VIDEO_DIR):\n",
    "    if not file.endswith('.camera.pkl'):\n",
    "        continue\n",
    "\n",
    "    with open(os.path.join(VIDEO_DIR, file), 'rb') as f:\n",
    "        camera = pickle.load(f)\n",
    "    videofile = os.path.join(VIDEO_DIR, camera['filename'])\n",
    "    camera = [camera_config(*c) for c in camera['frames']]\n",
    "\n",
    "    world.addVideo(GeospatialVideo(videofile, camera))\n",
    "\n",
    "person = world.object()\n",
    "camera = world.camera()\n",
    "intersection = world.geogConstruct(type='intersection')\n",
    "\n",
    "world.filter(\n",
    "    has_types(person, 'person') &\n",
    "    contains(intersection, person) &\n",
    "    perpendicular(person, camera)\n",
    ")"
   ]
  },
  {
   "cell_type": "code",
   "execution_count": 6,
   "id": "0f1ce3e9-0a62-4de2-9f91-28aade895e0a",
   "metadata": {},
   "outputs": [
    {
     "ename": "AssertionError",
     "evalue": "CallNode(_fn=(<function road_segment at 0x119201b40>,), params=[LiteralNode(value='intersection', python=True)])",
     "output_type": "error",
     "traceback": [
      "\u001b[0;31m---------------------------------------------------------------------------\u001b[0m",
      "\u001b[0;31mAssertionError\u001b[0m                            Traceback (most recent call last)",
      "Cell \u001b[0;32mIn[6], line 1\u001b[0m\n\u001b[0;32m----> 1\u001b[0m \u001b[43mworld\u001b[49m\u001b[38;5;241;43m.\u001b[39;49m\u001b[43msaveVideos\u001b[49m\u001b[43m(\u001b[49m\u001b[43mos\u001b[49m\u001b[38;5;241;43m.\u001b[39;49m\u001b[43mpath\u001b[49m\u001b[38;5;241;43m.\u001b[39;49m\u001b[43mjoin\u001b[49m\u001b[43m(\u001b[49m\u001b[43mOUTPUT_DIR\u001b[49m\u001b[43m,\u001b[49m\u001b[43m \u001b[49m\u001b[38;5;124;43m'\u001b[39;49m\u001b[38;5;124;43mq1\u001b[39;49m\u001b[38;5;124;43m'\u001b[39;49m\u001b[43m)\u001b[49m\u001b[43m,\u001b[49m\u001b[43m \u001b[49m\u001b[43maddBoundingBoxes\u001b[49m\u001b[38;5;241;43m=\u001b[39;49m\u001b[38;5;28;43;01mTrue\u001b[39;49;00m\u001b[43m)\u001b[49m\n",
      "File \u001b[0;32m~/spatialyze-official/spatialyze/world.py:108\u001b[0m, in \u001b[0;36mWorld.saveVideos\u001b[0;34m(self, outputDir, addBoundingBoxes)\u001b[0m\n\u001b[1;32m    106\u001b[0m \u001b[38;5;28;01mdef\u001b[39;00m \u001b[38;5;21msaveVideos\u001b[39m(\u001b[38;5;28mself\u001b[39m, outputDir: \u001b[38;5;124m\"\u001b[39m\u001b[38;5;124mstr\u001b[39m\u001b[38;5;124m\"\u001b[39m, addBoundingBoxes: \u001b[38;5;124m\"\u001b[39m\u001b[38;5;124mbool\u001b[39m\u001b[38;5;124m\"\u001b[39m \u001b[38;5;241m=\u001b[39m \u001b[38;5;28;01mFalse\u001b[39;00m):\n\u001b[1;32m    107\u001b[0m     \u001b[38;5;28;01mif\u001b[39;00m \u001b[38;5;28mself\u001b[39m\u001b[38;5;241m.\u001b[39m_objects \u001b[38;5;129;01mis\u001b[39;00m \u001b[38;5;28;01mNone\u001b[39;00m \u001b[38;5;129;01mor\u001b[39;00m \u001b[38;5;28mself\u001b[39m\u001b[38;5;241m.\u001b[39m_trackings \u001b[38;5;129;01mis\u001b[39;00m \u001b[38;5;28;01mNone\u001b[39;00m:\n\u001b[0;32m--> 108\u001b[0m         \u001b[38;5;28mself\u001b[39m\u001b[38;5;241m.\u001b[39m_objects, \u001b[38;5;28mself\u001b[39m\u001b[38;5;241m.\u001b[39m_trackings \u001b[38;5;241m=\u001b[39m \u001b[43m_execute\u001b[49m\u001b[43m(\u001b[49m\u001b[38;5;28;43mself\u001b[39;49m\u001b[43m)\u001b[49m\n\u001b[1;32m    109\u001b[0m     \u001b[38;5;28;01mreturn\u001b[39;00m save_video_util(\n\u001b[1;32m    110\u001b[0m         \u001b[38;5;28mself\u001b[39m\u001b[38;5;241m.\u001b[39m_objects,\n\u001b[1;32m    111\u001b[0m         \u001b[38;5;28mself\u001b[39m\u001b[38;5;241m.\u001b[39m_trackings,\n\u001b[1;32m    112\u001b[0m         outputDir,\n\u001b[1;32m    113\u001b[0m         addBoundingBoxes,\n\u001b[1;32m    114\u001b[0m     )\n",
      "File \u001b[0;32m~/spatialyze-official/spatialyze/world.py:161\u001b[0m, in \u001b[0;36m_execute\u001b[0;34m(world, optimization)\u001b[0m\n\u001b[1;32m    159\u001b[0m     decode \u001b[38;5;241m=\u001b[39m PruneFrames(prefilter, decode)\n\u001b[1;32m    160\u001b[0m \u001b[38;5;28;01mif\u001b[39;00m optimization:\n\u001b[0;32m--> 161\u001b[0m     inview \u001b[38;5;241m=\u001b[39m \u001b[43mRoadVisibilityPruner\u001b[49m\u001b[43m(\u001b[49m\u001b[43mdistance\u001b[49m\u001b[38;5;241;43m=\u001b[39;49m\u001b[38;5;241;43m50\u001b[39;49m\u001b[43m,\u001b[49m\u001b[43m \u001b[49m\u001b[43mpredicate\u001b[49m\u001b[38;5;241;43m=\u001b[39;49m\u001b[43mworld\u001b[49m\u001b[38;5;241;43m.\u001b[39;49m\u001b[43mpredicates\u001b[49m\u001b[43m)\u001b[49m\n\u001b[1;32m    162\u001b[0m     decode \u001b[38;5;241m=\u001b[39m PruneFrames(inview, decode)\n\u001b[1;32m    163\u001b[0m d2ds \u001b[38;5;241m=\u001b[39m detector(decode)\n",
      "File \u001b[0;32m~/spatialyze-official/spatialyze/video_processor/stream/road_visibility_pruner.py:17\u001b[0m, in \u001b[0;36mRoadVisibilityPruner.__init__\u001b[0;34m(self, distance, roadtypes, predicate)\u001b[0m\n\u001b[1;32m     11\u001b[0m \u001b[38;5;28;01mdef\u001b[39;00m \u001b[38;5;21m__init__\u001b[39m(\n\u001b[1;32m     12\u001b[0m     \u001b[38;5;28mself\u001b[39m,\n\u001b[1;32m     13\u001b[0m     distance: \u001b[38;5;28mfloat\u001b[39m,\n\u001b[1;32m     14\u001b[0m     roadtypes: \u001b[38;5;28mstr\u001b[39m \u001b[38;5;241m|\u001b[39m \u001b[38;5;28mlist\u001b[39m[\u001b[38;5;28mstr\u001b[39m] \u001b[38;5;241m|\u001b[39m \u001b[38;5;28;01mNone\u001b[39;00m \u001b[38;5;241m=\u001b[39m \u001b[38;5;28;01mNone\u001b[39;00m,\n\u001b[1;32m     15\u001b[0m     predicate: PredicateNode \u001b[38;5;241m|\u001b[39m \u001b[38;5;28;01mNone\u001b[39;00m \u001b[38;5;241m=\u001b[39m \u001b[38;5;28;01mNone\u001b[39;00m,\n\u001b[1;32m     16\u001b[0m ):\n\u001b[0;32m---> 17\u001b[0m     \u001b[38;5;28mself\u001b[39m\u001b[38;5;241m.\u001b[39minview \u001b[38;5;241m=\u001b[39m \u001b[43mInView\u001b[49m\u001b[43m(\u001b[49m\u001b[43mdistance\u001b[49m\u001b[43m,\u001b[49m\u001b[43m \u001b[49m\u001b[43mroadtypes\u001b[49m\u001b[43m,\u001b[49m\u001b[43m \u001b[49m\u001b[43mpredicate\u001b[49m\u001b[43m)\u001b[49m\n",
      "File \u001b[0;32m~/spatialyze-official/spatialyze/video_processor/stages/in_view/in_view.py:61\u001b[0m, in \u001b[0;36mInView.__init__\u001b[0;34m(self, distance, roadtypes, predicate)\u001b[0m\n\u001b[1;32m     59\u001b[0m \u001b[38;5;28;01melif\u001b[39;00m predicate \u001b[38;5;129;01mis\u001b[39;00m \u001b[38;5;129;01mnot\u001b[39;00m \u001b[38;5;28;01mNone\u001b[39;00m:\n\u001b[1;32m     60\u001b[0m     \u001b[38;5;28;01massert\u001b[39;00m roadtypes \u001b[38;5;129;01mis\u001b[39;00m \u001b[38;5;28;01mNone\u001b[39;00m, \u001b[38;5;124m\"\u001b[39m\u001b[38;5;124mCan only except either segment_type or predicate\u001b[39m\u001b[38;5;124m\"\u001b[39m\n\u001b[0;32m---> 61\u001b[0m     \u001b[38;5;28mself\u001b[39m\u001b[38;5;241m.\u001b[39mroadtypes, \u001b[38;5;28mself\u001b[39m\u001b[38;5;241m.\u001b[39mpredicate_str \u001b[38;5;241m=\u001b[39m \u001b[43mcreate_inview_predicate\u001b[49m\u001b[43m(\u001b[49m\u001b[43mpredicate\u001b[49m\u001b[43m)\u001b[49m\n\u001b[1;32m     62\u001b[0m     \u001b[38;5;28mself\u001b[39m\u001b[38;5;241m.\u001b[39mpredicate \u001b[38;5;241m=\u001b[39m \u001b[38;5;28meval\u001b[39m(\u001b[38;5;28mstr\u001b[39m(\u001b[38;5;28mself\u001b[39m\u001b[38;5;241m.\u001b[39mpredicate_str))\n",
      "File \u001b[0;32m~/spatialyze-official/spatialyze/video_processor/stages/in_view/in_view.py:599\u001b[0m, in \u001b[0;36mcreate_inview_predicate\u001b[0;34m(node)\u001b[0m\n\u001b[1;32m    596\u001b[0m \u001b[38;5;28;01mdef\u001b[39;00m \u001b[38;5;21mcreate_inview_predicate\u001b[39m(\n\u001b[1;32m    597\u001b[0m     node: \u001b[38;5;124m\"\u001b[39m\u001b[38;5;124mPredicateNode\u001b[39m\u001b[38;5;124m\"\u001b[39m,\n\u001b[1;32m    598\u001b[0m ) \u001b[38;5;241m-\u001b[39m\u001b[38;5;241m>\u001b[39m \u001b[38;5;124m\"\u001b[39m\u001b[38;5;124mtuple[list[str], str | bool]\u001b[39m\u001b[38;5;124m\"\u001b[39m:\n\u001b[0;32m--> 599\u001b[0m     node \u001b[38;5;241m=\u001b[39m \u001b[43mKeepOnlyRoadTypePredicates\u001b[49m\u001b[43m(\u001b[49m\u001b[43m)\u001b[49m\u001b[43m(\u001b[49m\u001b[43mnode\u001b[49m\u001b[43m)\u001b[49m\n\u001b[1;32m    600\u001b[0m     \u001b[38;5;66;03m# Note True/False will either disappear from all the predicates or propagate to the top\u001b[39;00m\n\u001b[1;32m    601\u001b[0m     \u001b[38;5;28;01mif\u001b[39;00m \u001b[38;5;28misinstance\u001b[39m(node, LiteralNode):\n",
      "File \u001b[0;32m~/spatialyze-official/spatialyze/predicate.py:295\u001b[0m, in \u001b[0;36mVisitor.__call__\u001b[0;34m(self, node)\u001b[0m\n\u001b[1;32m    293\u001b[0m attr \u001b[38;5;241m=\u001b[39m \u001b[38;5;124mf\u001b[39m\u001b[38;5;124m\"\u001b[39m\u001b[38;5;124mvisit_\u001b[39m\u001b[38;5;132;01m{\u001b[39;00mnode\u001b[38;5;241m.\u001b[39m\u001b[38;5;18m__class__\u001b[39m\u001b[38;5;241m.\u001b[39m\u001b[38;5;18m__name__\u001b[39m\u001b[38;5;132;01m}\u001b[39;00m\u001b[38;5;124m\"\u001b[39m\n\u001b[1;32m    294\u001b[0m \u001b[38;5;28;01massert\u001b[39;00m \u001b[38;5;28mhasattr\u001b[39m(\u001b[38;5;28mself\u001b[39m, attr), \u001b[38;5;124m\"\u001b[39m\u001b[38;5;124mUnknown node type: \u001b[39m\u001b[38;5;124m\"\u001b[39m \u001b[38;5;241m+\u001b[39m node\u001b[38;5;241m.\u001b[39m\u001b[38;5;18m__class__\u001b[39m\u001b[38;5;241m.\u001b[39m\u001b[38;5;18m__name__\u001b[39m\n\u001b[0;32m--> 295\u001b[0m \u001b[38;5;28;01mreturn\u001b[39;00m \u001b[38;5;28;43mgetattr\u001b[39;49m\u001b[43m(\u001b[49m\u001b[38;5;28;43mself\u001b[39;49m\u001b[43m,\u001b[49m\u001b[43m \u001b[49m\u001b[43mattr\u001b[49m\u001b[43m)\u001b[49m\u001b[43m(\u001b[49m\u001b[43mnode\u001b[49m\u001b[43m)\u001b[49m\n",
      "File \u001b[0;32m~/spatialyze-official/spatialyze/video_processor/stages/in_view/in_view.py:245\u001b[0m, in \u001b[0;36mKeepOnlyRoadTypePredicates.visit_BoolOpNode\u001b[0;34m(self, node)\u001b[0m\n\u001b[1;32m    244\u001b[0m \u001b[38;5;28;01mdef\u001b[39;00m \u001b[38;5;21mvisit_BoolOpNode\u001b[39m(\u001b[38;5;28mself\u001b[39m, node: BoolOpNode):\n\u001b[0;32m--> 245\u001b[0m     visited \u001b[38;5;241m=\u001b[39m \u001b[38;5;28;43msuper\u001b[39;49m\u001b[43m(\u001b[49m\u001b[43m)\u001b[49m\u001b[38;5;241;43m.\u001b[39;49m\u001b[43mvisit_BoolOpNode\u001b[49m\u001b[43m(\u001b[49m\u001b[43mnode\u001b[49m\u001b[43m)\u001b[49m\n\u001b[1;32m    246\u001b[0m     \u001b[38;5;28;01massert\u001b[39;00m \u001b[38;5;28misinstance\u001b[39m(visited, BoolOpNode), visited\n\u001b[1;32m    247\u001b[0m     annihilator \u001b[38;5;241m=\u001b[39m ANNIHILATORS[node\u001b[38;5;241m.\u001b[39mop]\n",
      "File \u001b[0;32m~/spatialyze-official/spatialyze/predicate.py:353\u001b[0m, in \u001b[0;36mBaseTransformer.visit_BoolOpNode\u001b[0;34m(self, node)\u001b[0m\n\u001b[1;32m    352\u001b[0m \u001b[38;5;28;01mdef\u001b[39;00m \u001b[38;5;21mvisit_BoolOpNode\u001b[39m(\u001b[38;5;28mself\u001b[39m, node: \u001b[38;5;124m\"\u001b[39m\u001b[38;5;124mBoolOpNode\u001b[39m\u001b[38;5;124m\"\u001b[39m) \u001b[38;5;241m-\u001b[39m\u001b[38;5;241m>\u001b[39m PredicateNode:\n\u001b[0;32m--> 353\u001b[0m     \u001b[38;5;28;01mreturn\u001b[39;00m BoolOpNode(node\u001b[38;5;241m.\u001b[39mop, [\u001b[38;5;28mself\u001b[39m(e) \u001b[38;5;28;01mfor\u001b[39;00m e \u001b[38;5;129;01min\u001b[39;00m node\u001b[38;5;241m.\u001b[39mexprs])\n",
      "File \u001b[0;32m~/spatialyze-official/spatialyze/predicate.py:353\u001b[0m, in \u001b[0;36m<listcomp>\u001b[0;34m(.0)\u001b[0m\n\u001b[1;32m    352\u001b[0m \u001b[38;5;28;01mdef\u001b[39;00m \u001b[38;5;21mvisit_BoolOpNode\u001b[39m(\u001b[38;5;28mself\u001b[39m, node: \u001b[38;5;124m\"\u001b[39m\u001b[38;5;124mBoolOpNode\u001b[39m\u001b[38;5;124m\"\u001b[39m) \u001b[38;5;241m-\u001b[39m\u001b[38;5;241m>\u001b[39m PredicateNode:\n\u001b[0;32m--> 353\u001b[0m     \u001b[38;5;28;01mreturn\u001b[39;00m BoolOpNode(node\u001b[38;5;241m.\u001b[39mop, [\u001b[38;5;28;43mself\u001b[39;49m\u001b[43m(\u001b[49m\u001b[43me\u001b[49m\u001b[43m)\u001b[49m \u001b[38;5;28;01mfor\u001b[39;00m e \u001b[38;5;129;01min\u001b[39;00m node\u001b[38;5;241m.\u001b[39mexprs])\n",
      "File \u001b[0;32m~/spatialyze-official/spatialyze/predicate.py:295\u001b[0m, in \u001b[0;36mVisitor.__call__\u001b[0;34m(self, node)\u001b[0m\n\u001b[1;32m    293\u001b[0m attr \u001b[38;5;241m=\u001b[39m \u001b[38;5;124mf\u001b[39m\u001b[38;5;124m\"\u001b[39m\u001b[38;5;124mvisit_\u001b[39m\u001b[38;5;132;01m{\u001b[39;00mnode\u001b[38;5;241m.\u001b[39m\u001b[38;5;18m__class__\u001b[39m\u001b[38;5;241m.\u001b[39m\u001b[38;5;18m__name__\u001b[39m\u001b[38;5;132;01m}\u001b[39;00m\u001b[38;5;124m\"\u001b[39m\n\u001b[1;32m    294\u001b[0m \u001b[38;5;28;01massert\u001b[39;00m \u001b[38;5;28mhasattr\u001b[39m(\u001b[38;5;28mself\u001b[39m, attr), \u001b[38;5;124m\"\u001b[39m\u001b[38;5;124mUnknown node type: \u001b[39m\u001b[38;5;124m\"\u001b[39m \u001b[38;5;241m+\u001b[39m node\u001b[38;5;241m.\u001b[39m\u001b[38;5;18m__class__\u001b[39m\u001b[38;5;241m.\u001b[39m\u001b[38;5;18m__name__\u001b[39m\n\u001b[0;32m--> 295\u001b[0m \u001b[38;5;28;01mreturn\u001b[39;00m \u001b[38;5;28;43mgetattr\u001b[39;49m\u001b[43m(\u001b[49m\u001b[38;5;28;43mself\u001b[39;49m\u001b[43m,\u001b[49m\u001b[43m \u001b[49m\u001b[43mattr\u001b[49m\u001b[43m)\u001b[49m\u001b[43m(\u001b[49m\u001b[43mnode\u001b[49m\u001b[43m)\u001b[49m\n",
      "File \u001b[0;32m~/spatialyze-official/spatialyze/video_processor/stages/in_view/in_view.py:292\u001b[0m, in \u001b[0;36mKeepOnlyRoadTypePredicates.visit_CallNode\u001b[0;34m(self, node)\u001b[0m\n\u001b[1;32m    289\u001b[0m \u001b[38;5;28;01mif\u001b[39;00m node\u001b[38;5;241m.\u001b[39mfn \u001b[38;5;241m==\u001b[39m F\u001b[38;5;241m.\u001b[39mcontains()\u001b[38;5;241m.\u001b[39mfn:\n\u001b[1;32m    290\u001b[0m     \u001b[38;5;66;03m# print('contains')\u001b[39;00m\n\u001b[1;32m    291\u001b[0m     \u001b[38;5;28;01massert\u001b[39;00m \u001b[38;5;28mlen\u001b[39m(node\u001b[38;5;241m.\u001b[39mparams) \u001b[38;5;241m==\u001b[39m \u001b[38;5;241m2\u001b[39m\n\u001b[0;32m--> 292\u001b[0m     \u001b[38;5;28;01massert\u001b[39;00m \u001b[38;5;28misinstance\u001b[39m(node\u001b[38;5;241m.\u001b[39mparams[\u001b[38;5;241m0\u001b[39m], LiteralNode), node\u001b[38;5;241m.\u001b[39mparams[\u001b[38;5;241m0\u001b[39m]\n\u001b[1;32m    293\u001b[0m     \u001b[38;5;28;01massert\u001b[39;00m \u001b[38;5;28misinstance\u001b[39m(node\u001b[38;5;241m.\u001b[39mparams[\u001b[38;5;241m0\u001b[39m]\u001b[38;5;241m.\u001b[39mvalue, \u001b[38;5;28mstr\u001b[39m), node\u001b[38;5;241m.\u001b[39mparams[\u001b[38;5;241m0\u001b[39m]\n\u001b[1;32m    294\u001b[0m     \u001b[38;5;28;01mreturn\u001b[39;00m F\u001b[38;5;241m.\u001b[39mis_roadtype(node\u001b[38;5;241m.\u001b[39mparams[\u001b[38;5;241m0\u001b[39m])\n",
      "\u001b[0;31mAssertionError\u001b[0m: CallNode(_fn=(<function road_segment at 0x119201b40>,), params=[LiteralNode(value='intersection', python=True)])"
     ]
    }
   ],
   "source": [
    "world.saveVideos(os.path.join(OUTPUT_DIR, 'q1'), addBoundingBoxes=True)"
   ]
  },
  {
   "cell_type": "markdown",
   "id": "7a6fa63c-a35d-40f8-b4c0-e2db1fcb2209",
   "metadata": {},
   "source": [
    "# Query 2"
   ]
  },
  {
   "cell_type": "code",
   "execution_count": 7,
   "id": "c8ae51e4-b5da-4791-83ef-c8320050bbc0",
   "metadata": {},
   "outputs": [
    {
     "data": {
      "text/plain": [
       "<spatialyze.world.World at 0x16e285d80>"
      ]
     },
     "execution_count": 7,
     "metadata": {},
     "output_type": "execute_result"
    }
   ],
   "source": [
    "world = World()\n",
    "world.addGeogConstructs(RoadNetwork('Boston-Seaport', ROAD_DIR))\n",
    "\n",
    "for file in os.listdir(VIDEO_DIR):\n",
    "    if not file.endswith('.camera.pkl'):\n",
    "        continue\n",
    "\n",
    "    with open(os.path.join(VIDEO_DIR, file), 'rb') as f:\n",
    "        camera = pickle.load(f)\n",
    "    videofile = os.path.join(VIDEO_DIR, camera['filename'])\n",
    "    camera = [camera_config(*c) for c in camera['frames']]\n",
    "\n",
    "    world.addVideo(GeospatialVideo(videofile, camera))\n",
    "\n",
    "car1 = world.object()\n",
    "car2 = world.object()\n",
    "intersection = world.geogConstruct(type='intersection')\n",
    "\n",
    "world.filter(\n",
    "    has_types(car1, 'car') &\n",
    "    has_types(car2, 'car') &\n",
    "    contains(intersection, [car1, car2]) &\n",
    "    opposite(car1, car2)\n",
    ")"
   ]
  },
  {
   "cell_type": "code",
   "execution_count": null,
   "id": "f3fc31ed-6010-440d-861f-302bdb1fc479",
   "metadata": {},
   "outputs": [],
   "source": [
    "world.saveVideos(os.path.join(OUTPUT_DIR, 'q2'), addBoundingBoxes=True)"
   ]
  },
  {
   "cell_type": "markdown",
   "id": "fff70668-afdf-4ae1-8c0a-d1d22f8efdf7",
   "metadata": {},
   "source": [
    "# Query 3"
   ]
  },
  {
   "cell_type": "code",
   "execution_count": null,
   "id": "21cf002c-0104-45da-9b1c-119f2d61732c",
   "metadata": {},
   "outputs": [],
   "source": [
    "world = World()\n",
    "world.addGeogConstructs(RoadNetwork('Boston-Seaport', ROAD_DIR))\n",
    "\n",
    "for file in os.listdir(VIDEO_DIR):\n",
    "    if not file.endswith('.camera.pkl'):\n",
    "        continue\n",
    "\n",
    "    with open(os.path.join(VIDEO_DIR, file), 'rb') as f:\n",
    "        camera = pickle.load(f)\n",
    "    videofile = os.path.join(VIDEO_DIR, camera['filename'])\n",
    "    camera = [camera_config(*c) for c in camera['frames']]\n",
    "\n",
    "    world.addVideo(GeospatialVideo(videofile, camera))\n",
    "\n",
    "car = world.object()\n",
    "camera = world.camera()\n",
    "lane = world.geogConstruct(type='lane')\n",
    "\n",
    "world.filter(\n",
    "    has_types(car, 'car') &\n",
    "    contains(lane, [camera, car]) &\n",
    "    opposite(lane, camera) &\n",
    "    sameDirection(lane, car) &\n",
    "    (distance(camera, car) < 10)\n",
    ")"
   ]
  },
  {
   "cell_type": "code",
   "execution_count": null,
   "id": "fb767a92-52da-47a7-9162-1404b66a5724",
   "metadata": {},
   "outputs": [],
   "source": [
    "world.saveVideos(os.path.join(OUTPUT_DIR, 'q3'), addBoundingBoxes=True)"
   ]
  },
  {
   "cell_type": "markdown",
   "id": "97fa48bb-cff6-4ffc-893c-d60d4e63ec32",
   "metadata": {},
   "source": [
    "# Query 4"
   ]
  },
  {
   "cell_type": "code",
   "execution_count": null,
   "id": "903740fe-c709-4b5f-85a8-ec536e98b570",
   "metadata": {},
   "outputs": [],
   "source": [
    "world = World()\n",
    "world.addGeogConstructs(RoadNetwork('Boston-Seaport', ROAD_DIR))\n",
    "\n",
    "for file in os.listdir(VIDEO_DIR):\n",
    "    if not file.endswith('.camera.pkl'):\n",
    "        continue\n",
    "\n",
    "    with open(os.path.join(VIDEO_DIR, file), 'rb') as f:\n",
    "        camera = pickle.load(f)\n",
    "    videofile = os.path.join(VIDEO_DIR, camera['filename'])\n",
    "    camera = [camera_config(*c) for c in camera['frames']]\n",
    "\n",
    "    world.addVideo(GeospatialVideo(videofile, camera))\n",
    "\n",
    "car1 = world.object()\n",
    "car2 = world.object()\n",
    "car3 = world.object()\n",
    "camera = world.camera()\n",
    "lane = world.geogConstruct(type='lane')\n",
    "\n",
    "world.filter(\n",
    "    has_types(car1, 'car') &\n",
    "    has_types(car2, 'car') &\n",
    "    has_types(car3, 'car') &\n",
    "    contains(lane, [camera, car1]) &\n",
    "    sameDirection(lane, camera) &\n",
    "    contains(lane, [car2, car3]) &\n",
    "    sameDirection(car2, car3) &\n",
    "    opposite(car1, car2)\n",
    ")"
   ]
  },
  {
   "cell_type": "code",
   "execution_count": null,
   "id": "7513aa2c-7dce-4280-bf9b-1cc8cf5a2818",
   "metadata": {},
   "outputs": [],
   "source": [
    "world.saveVideos(os.path.join(OUTPUT_DIR, 'q4'), addBoundingBoxes=True)"
   ]
  },
  {
   "cell_type": "markdown",
   "id": "23a8f37b-657a-422e-ae70-f7a893f9a259",
   "metadata": {},
   "source": [
    "# Query 5"
   ]
  },
  {
   "cell_type": "code",
   "execution_count": null,
   "id": "f8a92c31-5966-49a7-a83c-6240479d362c",
   "metadata": {},
   "outputs": [],
   "source": [
    "world = World()\n",
    "world.addGeogConstructs(RoadNetwork('Boston-Seaport', ROAD_DIR))\n",
    "\n",
    "for file in os.listdir(VIDEO_DIR):\n",
    "    if not file.endswith('.camera.pkl'):\n",
    "        continue\n",
    "\n",
    "    with open(os.path.join(VIDEO_DIR, file), 'rb') as f:\n",
    "        camera = pickle.load(f)\n",
    "    videofile = os.path.join(VIDEO_DIR, camera['filename'])\n",
    "    camera = [camera_config(*c) for c in camera['frames']]\n",
    "\n",
    "    world.addVideo(GeospatialVideo(videofile, camera))\n",
    "\n",
    "person = world.object()\n",
    "intersection = world.geogConstruct(type='intersection')\n",
    "\n",
    "world.filter(\n",
    "    has_types(person, 'person') &\n",
    "    contains(intersection, person)\n",
    ")"
   ]
  },
  {
   "cell_type": "code",
   "execution_count": null,
   "id": "9a143224-1325-44ae-80bc-dbeee0e2997c",
   "metadata": {},
   "outputs": [],
   "source": [
    "world.saveVideos(os.path.join(OUTPUT_DIR, 'q5'), addBoundingBoxes=True)"
   ]
  },
  {
   "cell_type": "markdown",
   "id": "b7cfd51c-72be-4192-ac01-65f8e4559778",
   "metadata": {},
   "source": [
    "# Query 6"
   ]
  },
  {
   "cell_type": "code",
   "execution_count": null,
   "id": "4a581592-fdb5-43e8-aa95-ff7eb22d8515",
   "metadata": {},
   "outputs": [],
   "source": [
    "world = World()\n",
    "world.addGeogConstructs(RoadNetwork('Boston-Seaport', ROAD_DIR))\n",
    "\n",
    "for file in os.listdir(VIDEO_DIR):\n",
    "    if not file.endswith('.camera.pkl'):\n",
    "        continue\n",
    "\n",
    "    with open(os.path.join(VIDEO_DIR, file), 'rb') as f:\n",
    "        camera = pickle.load(f)\n",
    "    videofile = os.path.join(VIDEO_DIR, camera['filename'])\n",
    "    camera = [camera_config(*c) for c in camera['frames']]\n",
    "\n",
    "    world.addVideo(GeospatialVideo(videofile, camera))\n",
    "\n",
    "car1 = world.object()\n",
    "car2 = world.object()\n",
    "intersection = world.geogConstruct(type='intersection')\n",
    "\n",
    "world.filter(\n",
    "    has_types(car1, 'car') &\n",
    "    has_types(car2, 'car') &\n",
    "    contains(intersection, [car1, car2])\n",
    ")"
   ]
  },
  {
   "cell_type": "code",
   "execution_count": null,
   "id": "1f0dc145-2234-40a9-9a24-060fc1975a7a",
   "metadata": {},
   "outputs": [],
   "source": [
    "world.saveVideos(os.path.join(OUTPUT_DIR, 'q6'), addBoundingBoxes=True)"
   ]
  },
  {
   "cell_type": "markdown",
   "id": "435cba93-7a18-4f3d-8f53-6b4923946df3",
   "metadata": {},
   "source": [
    "# Query 7"
   ]
  },
  {
   "cell_type": "code",
   "execution_count": null,
   "id": "60eb7cf1-e7b3-45ed-8c0e-9bc31012a82d",
   "metadata": {},
   "outputs": [],
   "source": [
    "world = World()\n",
    "world.addGeogConstructs(RoadNetwork('Boston-Seaport', ROAD_DIR))\n",
    "\n",
    "for file in os.listdir(VIDEO_DIR):\n",
    "    if not file.endswith('.camera.pkl'):\n",
    "        continue\n",
    "\n",
    "    with open(os.path.join(VIDEO_DIR, file), 'rb') as f:\n",
    "        camera = pickle.load(f)\n",
    "    videofile = os.path.join(VIDEO_DIR, camera['filename'])\n",
    "    camera = [camera_config(*c) for c in camera['frames']]\n",
    "\n",
    "    world.addVideo(GeospatialVideo(videofile, camera))\n",
    "\n",
    "car = world.object()\n",
    "camera = world.camera()\n",
    "lane = world.geogConstruct(type='lane')\n",
    "\n",
    "world.filter(\n",
    "    has_types(car, 'car') &\n",
    "    contains(lane, car) &\n",
    "    (distance(camera, car) < 10)\n",
    ")"
   ]
  },
  {
   "cell_type": "code",
   "execution_count": null,
   "id": "5ec5e068-a376-4eae-b8b0-336e10dc4cc2",
   "metadata": {},
   "outputs": [],
   "source": [
    "world.saveVideos(os.path.join(OUTPUT_DIR, 'q7'), addBoundingBoxes=True)"
   ]
  },
  {
   "cell_type": "markdown",
   "id": "5a1e4cbc-0093-4057-a0b2-c0ecf98a08aa",
   "metadata": {},
   "source": [
    "# Query 8"
   ]
  },
  {
   "cell_type": "code",
   "execution_count": null,
   "id": "e3354f87-e547-48bf-acc4-36dc684813f1",
   "metadata": {},
   "outputs": [],
   "source": [
    "world = World()\n",
    "world.addGeogConstructs(RoadNetwork('Boston-Seaport', ROAD_DIR))\n",
    "\n",
    "for file in os.listdir(VIDEO_DIR):\n",
    "    if not file.endswith('.camera.pkl'):\n",
    "        continue\n",
    "\n",
    "    with open(os.path.join(VIDEO_DIR, file), 'rb') as f:\n",
    "        camera = pickle.load(f)\n",
    "    videofile = os.path.join(VIDEO_DIR, camera['filename'])\n",
    "    camera = [camera_config(*c) for c in camera['frames']]\n",
    "\n",
    "    world.addVideo(GeospatialVideo(videofile, camera))\n",
    "\n",
    "car1 = world.object()\n",
    "car2 = world.object()\n",
    "car3 = world.object()\n",
    "lane = world.geogConstruct(type='lane')\n",
    "\n",
    "world.filter(\n",
    "    has_types(car1, 'car') &\n",
    "    has_types(car2, 'car') &\n",
    "    has_types(car3, 'car') &\n",
    "    contains(lane, car1) &\n",
    "    contains(lane, car2) &\n",
    "    contains(lane, car3)\n",
    ")"
   ]
  },
  {
   "cell_type": "code",
   "execution_count": null,
   "id": "1379433a-bc47-4900-85c6-8cafba8f7361",
   "metadata": {},
   "outputs": [],
   "source": [
    "world.saveVideos(os.path.join(OUTPUT_DIR, 'q8'), addBoundingBoxes=True)"
   ]
  },
  {
   "cell_type": "markdown",
   "id": "346ecf51-5b52-4584-b5cb-ebd2c8a477ba",
   "metadata": {},
   "source": [
    "# Query 9"
   ]
  },
  {
   "cell_type": "code",
   "execution_count": null,
   "id": "91b698fd-8d69-457c-a41e-ee11358b2b61",
   "metadata": {},
   "outputs": [],
   "source": [
    "from spatialyze.video_processor.stream.deepsort import DeepSORT\n",
    "\n",
    "world = World(tracker=DeepSORT)\n",
    "world.addGeogConstructs(RoadNetwork(\n",
    "    'viva-location',\n",
    "    os.path.join(DATA_DIR, 'viva/road-network'),\n",
    "))\n",
    "\n",
    "VV_DIR = 'path-to-viva-videos'\n",
    "\n",
    "resize(VV_DIR, 'small-video.mp4')\n",
    "\n",
    "videofile = os.path.join(VV_DIR, 'small-video.mp4')\n",
    "cap = cv2.VideoCapture(os.path.join(VV_DIR, 'small-video.mp4'))\n",
    "num_frames = int(cap.get(cv2.CAP_PROP_FRAME_COUNT))\n",
    "camera = list(map(vv_config, range(num_frames)))\n",
    "\n",
    "world.addVideo(GeospatialVideo(videofile, camera))\n",
    "\n",
    "car = world.object()\n",
    "person = world.object()\n",
    "intersection = world.geogConstruct(type='intersection')\n",
    "\n",
    "world.filter(\n",
    "    has_types(car, 'car') &\n",
    "    has_types(person, 'person') &\n",
    "    contains(intersection, [car, person]) &\n",
    "    turn_left(car)\n",
    ")"
   ]
  },
  {
   "cell_type": "code",
   "execution_count": null,
   "id": "a05d32a6-98da-4c97-a9e7-5d1b496b5638",
   "metadata": {},
   "outputs": [],
   "source": [
    "world.saveVideos(os.path.join(OUTPUT_DIR, 'q9'), addBoundingBoxes=True)"
   ]
  },
  {
   "cell_type": "markdown",
   "id": "d8127350-92a0-4f55-bada-64d3fafb600d",
   "metadata": {},
   "source": [
    "# Query 10"
   ]
  },
  {
   "cell_type": "code",
   "execution_count": null,
   "id": "954f6315-7744-43c3-9b7e-1be3a755fc7e",
   "metadata": {},
   "outputs": [],
   "source": [
    "from detect_topdown_cars import DetectTopDownCars\n",
    "from sort import SORT\n",
    "from from_topdown_detection_2d import FromTopDownDetection2D\n",
    "from topdown_visibility_pruner import TopDownVisibilityPruner\n",
    "from spatialyze.video_processor.stream.list_image import ListImage\n",
    "from spatialyze.video_processor.stream.prune_frames import PruneFrames\n",
    "\n",
    "\n",
    "SQ_DIR = 'path-to-skyquery-data'\n",
    "\n",
    "images = ListImage()\n",
    "images = PruneFrames(TopDownVisibilityPruner(), images)\n",
    "d2ds = DetectTopDownCars(images)\n",
    "d3ds = FromTopDownDetection2D(d2ds)\n",
    "t3ds = SORT(d3ds)\n",
    "world = World(processor=t3ds)\n",
    "world.addGeogConstructs(RoadNetwork(\n",
    "    'skyquery',\n",
    "    os.path.join(DATA_DIR, 'skyquery/road-network')\n",
    "))\n",
    "\n",
    "videofile = os.path.join(SQ_DIR, 'frames/main')\n",
    "with open(os.path.join(SQ_DIR, 'data/align-out.json'), 'r') as f:\n",
    "    camera = json.load(f)\n",
    "camera = [\n",
    "    None if v is None else topdown_config(v, idx, file)\n",
    "    for idx, (v, file)\n",
    "    in enumerate(zip(\n",
    "        camera,\n",
    "        sorted(os.listdir(os.path.join(SQ_DIR, 'frame/main'))),\n",
    "    ))\n",
    "]\n",
    "world.addVideo(GeospatialVideo(videofile, camera))\n",
    "\n",
    "car = world.object()\n",
    "lane = world.geogConstruct(type='lane')\n",
    "\n",
    "world.filter(\n",
    "    has_types(car, 'car') &\n",
    "    contains(lane, car) &\n",
    "    stopped(car)\n",
    ")"
   ]
  },
  {
   "cell_type": "code",
   "execution_count": null,
   "id": "b3b1f7c2-168e-45f2-a7d0-f414ce99e6ed",
   "metadata": {},
   "outputs": [],
   "source": [
    "world.saveVideos(os.path.join(OUTPUT_DIR, 'q10'), addBoundingBoxes=True)"
   ]
  }
 ],
 "metadata": {
  "kernelspec": {
   "display_name": "Python 3 (ipykernel)",
   "language": "python",
   "name": "python3"
  },
  "language_info": {
   "codemirror_mode": {
    "name": "ipython",
    "version": 3
   },
   "file_extension": ".py",
   "mimetype": "text/x-python",
   "name": "python",
   "nbconvert_exporter": "python",
   "pygments_lexer": "ipython3",
   "version": "3.10.13"
  }
 },
 "nbformat": 4,
 "nbformat_minor": 5
}
