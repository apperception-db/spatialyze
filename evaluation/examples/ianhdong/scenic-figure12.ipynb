{
 "cells": [
  {
   "cell_type": "code",
   "execution_count": 1,
   "id": "b5324e5c-aabc-42d9-94cb-3dffae501e4a",
   "metadata": {},
   "outputs": [],
   "source": [
    "from os import environ"
   ]
  },
  {
   "cell_type": "code",
   "execution_count": 11,
   "id": "fbb7ced7-6d62-42ef-a839-8391c0c64e22",
   "metadata": {},
   "outputs": [
    {
     "ename": "ModuleNotFoundError",
     "evalue": "No module named 'utils'",
     "output_type": "error",
     "traceback": [
      "\u001b[0;31m---------------------------------------------------------------------------\u001b[0m",
      "\u001b[0;31mModuleNotFoundError\u001b[0m                       Traceback (most recent call last)",
      "Cell \u001b[0;32mIn[11], line 12\u001b[0m\n\u001b[1;32m     10\u001b[0m \u001b[38;5;28;01mfrom\u001b[39;00m \u001b[38;5;21;01mspatialyze\u001b[39;00m\u001b[38;5;21;01m.\u001b[39;00m\u001b[38;5;21;01mvideo_processor\u001b[39;00m\u001b[38;5;21;01m.\u001b[39;00m\u001b[38;5;21;01mcamera_config\u001b[39;00m \u001b[38;5;28;01mimport\u001b[39;00m camera_config\n\u001b[1;32m     11\u001b[0m \u001b[38;5;28;01mfrom\u001b[39;00m \u001b[38;5;21;01mspatialyze\u001b[39;00m\u001b[38;5;21;01m.\u001b[39;00m\u001b[38;5;21;01mutils\u001b[39;00m\u001b[38;5;21;01m.\u001b[39;00m\u001b[38;5;21;01mF\u001b[39;00m \u001b[38;5;28;01mimport\u001b[39;00m distance, contains, heading_diff, has_types, stopped, left_turn, view_angle\n\u001b[0;32m---> 12\u001b[0m \u001b[38;5;28;01mfrom\u001b[39;00m \u001b[38;5;21;01mutils\u001b[39;00m \u001b[38;5;28;01mimport\u001b[39;00m topdown_config, vv_config, resize\n",
      "\u001b[0;31mModuleNotFoundError\u001b[0m: No module named 'utils'"
     ]
    }
   ],
   "source": [
    "import pickle\n",
    "import os\n",
    "import json\n",
    "\n",
    "import cv2\n",
    "\n",
    "from spatialyze.geospatial_video import GeospatialVideo\n",
    "from spatialyze.road_network import RoadNetwork\n",
    "from spatialyze.world import World\n",
    "from spatialyze.video_processor.camera_config import camera_config\n",
    "from spatialyze.utils.F import distance, contains, heading_diff, has_types, stopped, left_turn, view_angle\n",
    "from utils import topdown_config, vv_config, resize"
   ]
  },
  {
   "cell_type": "code",
   "execution_count": 12,
   "id": "69551780-c87e-4c9c-9462-1906cc77bb33",
   "metadata": {},
   "outputs": [],
   "source": [
    "DATA_DIR = '../../../data'\n",
    "OUTPUT_DIR = os.path.join(DATA_DIR, 'pipeline/outputs')\n",
    "VIDEO_DIR = os.path.join(DATA_DIR, 'pipeline/videos')\n",
    "ROAD_DIR = os.path.join(DATA_DIR, 'scenic/road-network/boston-seaport')\n",
    "\n",
    "files = os.listdir(VIDEO_DIR)\n",
    "with open(os.path.join(VIDEO_DIR, 'frames.pkl'), 'rb') as f:\n",
    "    videos = pickle.load(f)"
   ]
  },
  {
   "cell_type": "code",
   "execution_count": 16,
   "id": "dfdda3e8-1a07-4a19-b3ee-db97e71a38a2",
   "metadata": {},
   "outputs": [
    {
     "data": {
      "text/plain": [
       "<spatialyze.world.World at 0x285e2be50>"
      ]
     },
     "execution_count": 16,
     "metadata": {},
     "output_type": "execute_result"
    }
   ],
   "source": [
    "world = World()\n",
    "world.addGeogConstructs(RoadNetwork('Boston-Seaport', ROAD_DIR))\n",
    "\n",
    "for file in os.listdir(VIDEO_DIR):\n",
    "    if not file.endswith('.camera.pkl'):\n",
    "        continue\n",
    "\n",
    "    with open(os.path.join(VIDEO_DIR, file), 'rb') as f:\n",
    "        camera = pickle.load(f)\n",
    "    videofile = os.path.join(VIDEO_DIR, camera['filename'])\n",
    "    camera = [camera_config(*c) for c in camera['frames']]\n",
    "\n",
    "    world.addVideo(GeospatialVideo(videofile, camera))\n",
    "\n",
    "car = world.object()\n",
    "pedestrian = world.object()\n",
    "camera = world.camera()\n",
    "intersection = world.geogConstruct(type='intersection')\n",
    "road = world.geogConstruct(type='road')\n",
    "\n",
    "world.filter(\n",
    "    has_types(car, 'car') &\n",
    "    (distance(camera, car) < 50) &\n",
    "    (view_angle(camera, car) < 135) &\n",
    "    has_types(pedestrian, 'pedestrian') &\n",
    "    heading_diff(camera, pedestrian, between=[-180, 180]) & \n",
    "    (contains(intersection, [car, pedestrian]) |\n",
    "        contains(road, [car, pedestrian])) &\n",
    "    ~heading_diff(road, car, between=[-70, 70])\n",
    ")\n",
    "\n"
   ]
  },
  {
   "cell_type": "code",
   "execution_count": 15,
   "id": "a5cc61d2-35db-4349-997c-9f64d06fad21",
   "metadata": {},
   "outputs": [
    {
     "ename": "AssertionError",
     "evalue": "CallNode(_fn=(<function road_segment at 0x107d01cf0>,), params=[LiteralNode(value='intersection', python=True)])",
     "output_type": "error",
     "traceback": [
      "\u001b[0;31m---------------------------------------------------------------------------\u001b[0m",
      "\u001b[0;31mAssertionError\u001b[0m                            Traceback (most recent call last)",
      "Cell \u001b[0;32mIn[15], line 1\u001b[0m\n\u001b[0;32m----> 1\u001b[0m \u001b[43mworld\u001b[49m\u001b[38;5;241;43m.\u001b[39;49m\u001b[43msaveVideos\u001b[49m\u001b[43m(\u001b[49m\u001b[43mos\u001b[49m\u001b[38;5;241;43m.\u001b[39;49m\u001b[43mpath\u001b[49m\u001b[38;5;241;43m.\u001b[39;49m\u001b[43mjoin\u001b[49m\u001b[43m(\u001b[49m\u001b[43mOUTPUT_DIR\u001b[49m\u001b[43m,\u001b[49m\u001b[43m \u001b[49m\u001b[38;5;124;43m'\u001b[39;49m\u001b[38;5;124;43mfigure12\u001b[39;49m\u001b[38;5;124;43m'\u001b[39;49m\u001b[43m)\u001b[49m\u001b[43m,\u001b[49m\u001b[43m \u001b[49m\u001b[43maddBoundingBoxes\u001b[49m\u001b[38;5;241;43m=\u001b[39;49m\u001b[38;5;28;43;01mTrue\u001b[39;49;00m\u001b[43m)\u001b[49m\n",
      "File \u001b[0;32m~/spatialyze-official/spatialyze/world.py:108\u001b[0m, in \u001b[0;36mWorld.saveVideos\u001b[0;34m(self, outputDir, addBoundingBoxes)\u001b[0m\n\u001b[1;32m    106\u001b[0m \u001b[38;5;28;01mdef\u001b[39;00m \u001b[38;5;21msaveVideos\u001b[39m(\u001b[38;5;28mself\u001b[39m, outputDir: \u001b[38;5;124m\"\u001b[39m\u001b[38;5;124mstr\u001b[39m\u001b[38;5;124m\"\u001b[39m, addBoundingBoxes: \u001b[38;5;124m\"\u001b[39m\u001b[38;5;124mbool\u001b[39m\u001b[38;5;124m\"\u001b[39m \u001b[38;5;241m=\u001b[39m \u001b[38;5;28;01mFalse\u001b[39;00m):\n\u001b[1;32m    107\u001b[0m     \u001b[38;5;28;01mif\u001b[39;00m \u001b[38;5;28mself\u001b[39m\u001b[38;5;241m.\u001b[39m_objects \u001b[38;5;129;01mis\u001b[39;00m \u001b[38;5;28;01mNone\u001b[39;00m \u001b[38;5;129;01mor\u001b[39;00m \u001b[38;5;28mself\u001b[39m\u001b[38;5;241m.\u001b[39m_trackings \u001b[38;5;129;01mis\u001b[39;00m \u001b[38;5;28;01mNone\u001b[39;00m:\n\u001b[0;32m--> 108\u001b[0m         \u001b[38;5;28mself\u001b[39m\u001b[38;5;241m.\u001b[39m_objects, \u001b[38;5;28mself\u001b[39m\u001b[38;5;241m.\u001b[39m_trackings \u001b[38;5;241m=\u001b[39m \u001b[43m_execute\u001b[49m\u001b[43m(\u001b[49m\u001b[38;5;28;43mself\u001b[39;49m\u001b[43m)\u001b[49m\n\u001b[1;32m    109\u001b[0m     \u001b[38;5;28;01mreturn\u001b[39;00m save_video_util(\n\u001b[1;32m    110\u001b[0m         \u001b[38;5;28mself\u001b[39m\u001b[38;5;241m.\u001b[39m_objects,\n\u001b[1;32m    111\u001b[0m         \u001b[38;5;28mself\u001b[39m\u001b[38;5;241m.\u001b[39m_trackings,\n\u001b[1;32m    112\u001b[0m         outputDir,\n\u001b[1;32m    113\u001b[0m         addBoundingBoxes,\n\u001b[1;32m    114\u001b[0m     )\n",
      "File \u001b[0;32m~/spatialyze-official/spatialyze/world.py:161\u001b[0m, in \u001b[0;36m_execute\u001b[0;34m(world, optimization)\u001b[0m\n\u001b[1;32m    159\u001b[0m     decode \u001b[38;5;241m=\u001b[39m PruneFrames(prefilter, decode)\n\u001b[1;32m    160\u001b[0m \u001b[38;5;28;01mif\u001b[39;00m optimization:\n\u001b[0;32m--> 161\u001b[0m     inview \u001b[38;5;241m=\u001b[39m \u001b[43mRoadVisibilityPruner\u001b[49m\u001b[43m(\u001b[49m\u001b[43mdistance\u001b[49m\u001b[38;5;241;43m=\u001b[39;49m\u001b[38;5;241;43m50\u001b[39;49m\u001b[43m,\u001b[49m\u001b[43m \u001b[49m\u001b[43mpredicate\u001b[49m\u001b[38;5;241;43m=\u001b[39;49m\u001b[43mworld\u001b[49m\u001b[38;5;241;43m.\u001b[39;49m\u001b[43mpredicates\u001b[49m\u001b[43m)\u001b[49m\n\u001b[1;32m    162\u001b[0m     decode \u001b[38;5;241m=\u001b[39m PruneFrames(inview, decode)\n\u001b[1;32m    163\u001b[0m d2ds \u001b[38;5;241m=\u001b[39m detector(decode)\n",
      "File \u001b[0;32m~/spatialyze-official/spatialyze/video_processor/stream/road_visibility_pruner.py:17\u001b[0m, in \u001b[0;36mRoadVisibilityPruner.__init__\u001b[0;34m(self, distance, roadtypes, predicate)\u001b[0m\n\u001b[1;32m     11\u001b[0m \u001b[38;5;28;01mdef\u001b[39;00m \u001b[38;5;21m__init__\u001b[39m(\n\u001b[1;32m     12\u001b[0m     \u001b[38;5;28mself\u001b[39m,\n\u001b[1;32m     13\u001b[0m     distance: \u001b[38;5;28mfloat\u001b[39m,\n\u001b[1;32m     14\u001b[0m     roadtypes: \u001b[38;5;28mstr\u001b[39m \u001b[38;5;241m|\u001b[39m \u001b[38;5;28mlist\u001b[39m[\u001b[38;5;28mstr\u001b[39m] \u001b[38;5;241m|\u001b[39m \u001b[38;5;28;01mNone\u001b[39;00m \u001b[38;5;241m=\u001b[39m \u001b[38;5;28;01mNone\u001b[39;00m,\n\u001b[1;32m     15\u001b[0m     predicate: PredicateNode \u001b[38;5;241m|\u001b[39m \u001b[38;5;28;01mNone\u001b[39;00m \u001b[38;5;241m=\u001b[39m \u001b[38;5;28;01mNone\u001b[39;00m,\n\u001b[1;32m     16\u001b[0m ):\n\u001b[0;32m---> 17\u001b[0m     \u001b[38;5;28mself\u001b[39m\u001b[38;5;241m.\u001b[39minview \u001b[38;5;241m=\u001b[39m \u001b[43mInView\u001b[49m\u001b[43m(\u001b[49m\u001b[43mdistance\u001b[49m\u001b[43m,\u001b[49m\u001b[43m \u001b[49m\u001b[43mroadtypes\u001b[49m\u001b[43m,\u001b[49m\u001b[43m \u001b[49m\u001b[43mpredicate\u001b[49m\u001b[43m)\u001b[49m\n",
      "File \u001b[0;32m~/spatialyze-official/spatialyze/video_processor/stages/in_view/in_view.py:61\u001b[0m, in \u001b[0;36mInView.__init__\u001b[0;34m(self, distance, roadtypes, predicate)\u001b[0m\n\u001b[1;32m     59\u001b[0m \u001b[38;5;28;01melif\u001b[39;00m predicate \u001b[38;5;129;01mis\u001b[39;00m \u001b[38;5;129;01mnot\u001b[39;00m \u001b[38;5;28;01mNone\u001b[39;00m:\n\u001b[1;32m     60\u001b[0m     \u001b[38;5;28;01massert\u001b[39;00m roadtypes \u001b[38;5;129;01mis\u001b[39;00m \u001b[38;5;28;01mNone\u001b[39;00m, \u001b[38;5;124m\"\u001b[39m\u001b[38;5;124mCan only except either segment_type or predicate\u001b[39m\u001b[38;5;124m\"\u001b[39m\n\u001b[0;32m---> 61\u001b[0m     \u001b[38;5;28mself\u001b[39m\u001b[38;5;241m.\u001b[39mroadtypes, \u001b[38;5;28mself\u001b[39m\u001b[38;5;241m.\u001b[39mpredicate_str \u001b[38;5;241m=\u001b[39m \u001b[43mcreate_inview_predicate\u001b[49m\u001b[43m(\u001b[49m\u001b[43mpredicate\u001b[49m\u001b[43m)\u001b[49m\n\u001b[1;32m     62\u001b[0m     \u001b[38;5;28mself\u001b[39m\u001b[38;5;241m.\u001b[39mpredicate \u001b[38;5;241m=\u001b[39m \u001b[38;5;28meval\u001b[39m(\u001b[38;5;28mstr\u001b[39m(\u001b[38;5;28mself\u001b[39m\u001b[38;5;241m.\u001b[39mpredicate_str))\n",
      "File \u001b[0;32m~/spatialyze-official/spatialyze/video_processor/stages/in_view/in_view.py:599\u001b[0m, in \u001b[0;36mcreate_inview_predicate\u001b[0;34m(node)\u001b[0m\n\u001b[1;32m    596\u001b[0m \u001b[38;5;28;01mdef\u001b[39;00m \u001b[38;5;21mcreate_inview_predicate\u001b[39m(\n\u001b[1;32m    597\u001b[0m     node: \u001b[38;5;124m\"\u001b[39m\u001b[38;5;124mPredicateNode\u001b[39m\u001b[38;5;124m\"\u001b[39m,\n\u001b[1;32m    598\u001b[0m ) \u001b[38;5;241m-\u001b[39m\u001b[38;5;241m>\u001b[39m \u001b[38;5;124m\"\u001b[39m\u001b[38;5;124mtuple[list[str], str | bool]\u001b[39m\u001b[38;5;124m\"\u001b[39m:\n\u001b[0;32m--> 599\u001b[0m     node \u001b[38;5;241m=\u001b[39m \u001b[43mKeepOnlyRoadTypePredicates\u001b[49m\u001b[43m(\u001b[49m\u001b[43m)\u001b[49m\u001b[43m(\u001b[49m\u001b[43mnode\u001b[49m\u001b[43m)\u001b[49m\n\u001b[1;32m    600\u001b[0m     \u001b[38;5;66;03m# Note True/False will either disappear from all the predicates or propagate to the top\u001b[39;00m\n\u001b[1;32m    601\u001b[0m     \u001b[38;5;28;01mif\u001b[39;00m \u001b[38;5;28misinstance\u001b[39m(node, LiteralNode):\n",
      "File \u001b[0;32m~/spatialyze-official/spatialyze/predicate.py:295\u001b[0m, in \u001b[0;36mVisitor.__call__\u001b[0;34m(self, node)\u001b[0m\n\u001b[1;32m    293\u001b[0m attr \u001b[38;5;241m=\u001b[39m \u001b[38;5;124mf\u001b[39m\u001b[38;5;124m\"\u001b[39m\u001b[38;5;124mvisit_\u001b[39m\u001b[38;5;132;01m{\u001b[39;00mnode\u001b[38;5;241m.\u001b[39m\u001b[38;5;18m__class__\u001b[39m\u001b[38;5;241m.\u001b[39m\u001b[38;5;18m__name__\u001b[39m\u001b[38;5;132;01m}\u001b[39;00m\u001b[38;5;124m\"\u001b[39m\n\u001b[1;32m    294\u001b[0m \u001b[38;5;28;01massert\u001b[39;00m \u001b[38;5;28mhasattr\u001b[39m(\u001b[38;5;28mself\u001b[39m, attr), \u001b[38;5;124m\"\u001b[39m\u001b[38;5;124mUnknown node type: \u001b[39m\u001b[38;5;124m\"\u001b[39m \u001b[38;5;241m+\u001b[39m node\u001b[38;5;241m.\u001b[39m\u001b[38;5;18m__class__\u001b[39m\u001b[38;5;241m.\u001b[39m\u001b[38;5;18m__name__\u001b[39m\n\u001b[0;32m--> 295\u001b[0m \u001b[38;5;28;01mreturn\u001b[39;00m \u001b[38;5;28;43mgetattr\u001b[39;49m\u001b[43m(\u001b[49m\u001b[38;5;28;43mself\u001b[39;49m\u001b[43m,\u001b[49m\u001b[43m \u001b[49m\u001b[43mattr\u001b[49m\u001b[43m)\u001b[49m\u001b[43m(\u001b[49m\u001b[43mnode\u001b[49m\u001b[43m)\u001b[49m\n",
      "File \u001b[0;32m~/spatialyze-official/spatialyze/video_processor/stages/in_view/in_view.py:245\u001b[0m, in \u001b[0;36mKeepOnlyRoadTypePredicates.visit_BoolOpNode\u001b[0;34m(self, node)\u001b[0m\n\u001b[1;32m    244\u001b[0m \u001b[38;5;28;01mdef\u001b[39;00m \u001b[38;5;21mvisit_BoolOpNode\u001b[39m(\u001b[38;5;28mself\u001b[39m, node: BoolOpNode):\n\u001b[0;32m--> 245\u001b[0m     visited \u001b[38;5;241m=\u001b[39m \u001b[38;5;28;43msuper\u001b[39;49m\u001b[43m(\u001b[49m\u001b[43m)\u001b[49m\u001b[38;5;241;43m.\u001b[39;49m\u001b[43mvisit_BoolOpNode\u001b[49m\u001b[43m(\u001b[49m\u001b[43mnode\u001b[49m\u001b[43m)\u001b[49m\n\u001b[1;32m    246\u001b[0m     \u001b[38;5;28;01massert\u001b[39;00m \u001b[38;5;28misinstance\u001b[39m(visited, BoolOpNode), visited\n\u001b[1;32m    247\u001b[0m     annihilator \u001b[38;5;241m=\u001b[39m ANNIHILATORS[node\u001b[38;5;241m.\u001b[39mop]\n",
      "File \u001b[0;32m~/spatialyze-official/spatialyze/predicate.py:353\u001b[0m, in \u001b[0;36mBaseTransformer.visit_BoolOpNode\u001b[0;34m(self, node)\u001b[0m\n\u001b[1;32m    352\u001b[0m \u001b[38;5;28;01mdef\u001b[39;00m \u001b[38;5;21mvisit_BoolOpNode\u001b[39m(\u001b[38;5;28mself\u001b[39m, node: \u001b[38;5;124m\"\u001b[39m\u001b[38;5;124mBoolOpNode\u001b[39m\u001b[38;5;124m\"\u001b[39m) \u001b[38;5;241m-\u001b[39m\u001b[38;5;241m>\u001b[39m PredicateNode:\n\u001b[0;32m--> 353\u001b[0m     \u001b[38;5;28;01mreturn\u001b[39;00m BoolOpNode(node\u001b[38;5;241m.\u001b[39mop, [\u001b[38;5;28mself\u001b[39m(e) \u001b[38;5;28;01mfor\u001b[39;00m e \u001b[38;5;129;01min\u001b[39;00m node\u001b[38;5;241m.\u001b[39mexprs])\n",
      "File \u001b[0;32m~/spatialyze-official/spatialyze/predicate.py:353\u001b[0m, in \u001b[0;36m<listcomp>\u001b[0;34m(.0)\u001b[0m\n\u001b[1;32m    352\u001b[0m \u001b[38;5;28;01mdef\u001b[39;00m \u001b[38;5;21mvisit_BoolOpNode\u001b[39m(\u001b[38;5;28mself\u001b[39m, node: \u001b[38;5;124m\"\u001b[39m\u001b[38;5;124mBoolOpNode\u001b[39m\u001b[38;5;124m\"\u001b[39m) \u001b[38;5;241m-\u001b[39m\u001b[38;5;241m>\u001b[39m PredicateNode:\n\u001b[0;32m--> 353\u001b[0m     \u001b[38;5;28;01mreturn\u001b[39;00m BoolOpNode(node\u001b[38;5;241m.\u001b[39mop, [\u001b[38;5;28;43mself\u001b[39;49m\u001b[43m(\u001b[49m\u001b[43me\u001b[49m\u001b[43m)\u001b[49m \u001b[38;5;28;01mfor\u001b[39;00m e \u001b[38;5;129;01min\u001b[39;00m node\u001b[38;5;241m.\u001b[39mexprs])\n",
      "File \u001b[0;32m~/spatialyze-official/spatialyze/predicate.py:295\u001b[0m, in \u001b[0;36mVisitor.__call__\u001b[0;34m(self, node)\u001b[0m\n\u001b[1;32m    293\u001b[0m attr \u001b[38;5;241m=\u001b[39m \u001b[38;5;124mf\u001b[39m\u001b[38;5;124m\"\u001b[39m\u001b[38;5;124mvisit_\u001b[39m\u001b[38;5;132;01m{\u001b[39;00mnode\u001b[38;5;241m.\u001b[39m\u001b[38;5;18m__class__\u001b[39m\u001b[38;5;241m.\u001b[39m\u001b[38;5;18m__name__\u001b[39m\u001b[38;5;132;01m}\u001b[39;00m\u001b[38;5;124m\"\u001b[39m\n\u001b[1;32m    294\u001b[0m \u001b[38;5;28;01massert\u001b[39;00m \u001b[38;5;28mhasattr\u001b[39m(\u001b[38;5;28mself\u001b[39m, attr), \u001b[38;5;124m\"\u001b[39m\u001b[38;5;124mUnknown node type: \u001b[39m\u001b[38;5;124m\"\u001b[39m \u001b[38;5;241m+\u001b[39m node\u001b[38;5;241m.\u001b[39m\u001b[38;5;18m__class__\u001b[39m\u001b[38;5;241m.\u001b[39m\u001b[38;5;18m__name__\u001b[39m\n\u001b[0;32m--> 295\u001b[0m \u001b[38;5;28;01mreturn\u001b[39;00m \u001b[38;5;28;43mgetattr\u001b[39;49m\u001b[43m(\u001b[49m\u001b[38;5;28;43mself\u001b[39;49m\u001b[43m,\u001b[49m\u001b[43m \u001b[49m\u001b[43mattr\u001b[49m\u001b[43m)\u001b[49m\u001b[43m(\u001b[49m\u001b[43mnode\u001b[49m\u001b[43m)\u001b[49m\n",
      "File \u001b[0;32m~/spatialyze-official/spatialyze/video_processor/stages/in_view/in_view.py:245\u001b[0m, in \u001b[0;36mKeepOnlyRoadTypePredicates.visit_BoolOpNode\u001b[0;34m(self, node)\u001b[0m\n\u001b[1;32m    244\u001b[0m \u001b[38;5;28;01mdef\u001b[39;00m \u001b[38;5;21mvisit_BoolOpNode\u001b[39m(\u001b[38;5;28mself\u001b[39m, node: BoolOpNode):\n\u001b[0;32m--> 245\u001b[0m     visited \u001b[38;5;241m=\u001b[39m \u001b[38;5;28;43msuper\u001b[39;49m\u001b[43m(\u001b[49m\u001b[43m)\u001b[49m\u001b[38;5;241;43m.\u001b[39;49m\u001b[43mvisit_BoolOpNode\u001b[49m\u001b[43m(\u001b[49m\u001b[43mnode\u001b[49m\u001b[43m)\u001b[49m\n\u001b[1;32m    246\u001b[0m     \u001b[38;5;28;01massert\u001b[39;00m \u001b[38;5;28misinstance\u001b[39m(visited, BoolOpNode), visited\n\u001b[1;32m    247\u001b[0m     annihilator \u001b[38;5;241m=\u001b[39m ANNIHILATORS[node\u001b[38;5;241m.\u001b[39mop]\n",
      "File \u001b[0;32m~/spatialyze-official/spatialyze/predicate.py:353\u001b[0m, in \u001b[0;36mBaseTransformer.visit_BoolOpNode\u001b[0;34m(self, node)\u001b[0m\n\u001b[1;32m    352\u001b[0m \u001b[38;5;28;01mdef\u001b[39;00m \u001b[38;5;21mvisit_BoolOpNode\u001b[39m(\u001b[38;5;28mself\u001b[39m, node: \u001b[38;5;124m\"\u001b[39m\u001b[38;5;124mBoolOpNode\u001b[39m\u001b[38;5;124m\"\u001b[39m) \u001b[38;5;241m-\u001b[39m\u001b[38;5;241m>\u001b[39m PredicateNode:\n\u001b[0;32m--> 353\u001b[0m     \u001b[38;5;28;01mreturn\u001b[39;00m BoolOpNode(node\u001b[38;5;241m.\u001b[39mop, [\u001b[38;5;28mself\u001b[39m(e) \u001b[38;5;28;01mfor\u001b[39;00m e \u001b[38;5;129;01min\u001b[39;00m node\u001b[38;5;241m.\u001b[39mexprs])\n",
      "File \u001b[0;32m~/spatialyze-official/spatialyze/predicate.py:353\u001b[0m, in \u001b[0;36m<listcomp>\u001b[0;34m(.0)\u001b[0m\n\u001b[1;32m    352\u001b[0m \u001b[38;5;28;01mdef\u001b[39;00m \u001b[38;5;21mvisit_BoolOpNode\u001b[39m(\u001b[38;5;28mself\u001b[39m, node: \u001b[38;5;124m\"\u001b[39m\u001b[38;5;124mBoolOpNode\u001b[39m\u001b[38;5;124m\"\u001b[39m) \u001b[38;5;241m-\u001b[39m\u001b[38;5;241m>\u001b[39m PredicateNode:\n\u001b[0;32m--> 353\u001b[0m     \u001b[38;5;28;01mreturn\u001b[39;00m BoolOpNode(node\u001b[38;5;241m.\u001b[39mop, [\u001b[38;5;28;43mself\u001b[39;49m\u001b[43m(\u001b[49m\u001b[43me\u001b[49m\u001b[43m)\u001b[49m \u001b[38;5;28;01mfor\u001b[39;00m e \u001b[38;5;129;01min\u001b[39;00m node\u001b[38;5;241m.\u001b[39mexprs])\n",
      "File \u001b[0;32m~/spatialyze-official/spatialyze/predicate.py:295\u001b[0m, in \u001b[0;36mVisitor.__call__\u001b[0;34m(self, node)\u001b[0m\n\u001b[1;32m    293\u001b[0m attr \u001b[38;5;241m=\u001b[39m \u001b[38;5;124mf\u001b[39m\u001b[38;5;124m\"\u001b[39m\u001b[38;5;124mvisit_\u001b[39m\u001b[38;5;132;01m{\u001b[39;00mnode\u001b[38;5;241m.\u001b[39m\u001b[38;5;18m__class__\u001b[39m\u001b[38;5;241m.\u001b[39m\u001b[38;5;18m__name__\u001b[39m\u001b[38;5;132;01m}\u001b[39;00m\u001b[38;5;124m\"\u001b[39m\n\u001b[1;32m    294\u001b[0m \u001b[38;5;28;01massert\u001b[39;00m \u001b[38;5;28mhasattr\u001b[39m(\u001b[38;5;28mself\u001b[39m, attr), \u001b[38;5;124m\"\u001b[39m\u001b[38;5;124mUnknown node type: \u001b[39m\u001b[38;5;124m\"\u001b[39m \u001b[38;5;241m+\u001b[39m node\u001b[38;5;241m.\u001b[39m\u001b[38;5;18m__class__\u001b[39m\u001b[38;5;241m.\u001b[39m\u001b[38;5;18m__name__\u001b[39m\n\u001b[0;32m--> 295\u001b[0m \u001b[38;5;28;01mreturn\u001b[39;00m \u001b[38;5;28;43mgetattr\u001b[39;49m\u001b[43m(\u001b[49m\u001b[38;5;28;43mself\u001b[39;49m\u001b[43m,\u001b[49m\u001b[43m \u001b[49m\u001b[43mattr\u001b[49m\u001b[43m)\u001b[49m\u001b[43m(\u001b[49m\u001b[43mnode\u001b[49m\u001b[43m)\u001b[49m\n",
      "File \u001b[0;32m~/spatialyze-official/spatialyze/video_processor/stages/in_view/in_view.py:292\u001b[0m, in \u001b[0;36mKeepOnlyRoadTypePredicates.visit_CallNode\u001b[0;34m(self, node)\u001b[0m\n\u001b[1;32m    289\u001b[0m \u001b[38;5;28;01mif\u001b[39;00m node\u001b[38;5;241m.\u001b[39mfn \u001b[38;5;241m==\u001b[39m F\u001b[38;5;241m.\u001b[39mcontains()\u001b[38;5;241m.\u001b[39mfn:\n\u001b[1;32m    290\u001b[0m     \u001b[38;5;66;03m# print('contains')\u001b[39;00m\n\u001b[1;32m    291\u001b[0m     \u001b[38;5;28;01massert\u001b[39;00m \u001b[38;5;28mlen\u001b[39m(node\u001b[38;5;241m.\u001b[39mparams) \u001b[38;5;241m==\u001b[39m \u001b[38;5;241m2\u001b[39m\n\u001b[0;32m--> 292\u001b[0m     \u001b[38;5;28;01massert\u001b[39;00m \u001b[38;5;28misinstance\u001b[39m(node\u001b[38;5;241m.\u001b[39mparams[\u001b[38;5;241m0\u001b[39m], LiteralNode), node\u001b[38;5;241m.\u001b[39mparams[\u001b[38;5;241m0\u001b[39m]\n\u001b[1;32m    293\u001b[0m     \u001b[38;5;28;01massert\u001b[39;00m \u001b[38;5;28misinstance\u001b[39m(node\u001b[38;5;241m.\u001b[39mparams[\u001b[38;5;241m0\u001b[39m]\u001b[38;5;241m.\u001b[39mvalue, \u001b[38;5;28mstr\u001b[39m), node\u001b[38;5;241m.\u001b[39mparams[\u001b[38;5;241m0\u001b[39m]\n\u001b[1;32m    294\u001b[0m     \u001b[38;5;28;01mreturn\u001b[39;00m F\u001b[38;5;241m.\u001b[39mis_roadtype(node\u001b[38;5;241m.\u001b[39mparams[\u001b[38;5;241m0\u001b[39m])\n",
      "\u001b[0;31mAssertionError\u001b[0m: CallNode(_fn=(<function road_segment at 0x107d01cf0>,), params=[LiteralNode(value='intersection', python=True)])"
     ]
    }
   ],
   "source": [
    "world.saveVideos(os.path.join(OUTPUT_DIR, 'figure12'), addBoundingBoxes=True)"
   ]
  },
  {
   "cell_type": "code",
   "execution_count": null,
   "id": "affbc518-8948-469a-9e40-08fce69e4161",
   "metadata": {},
   "outputs": [],
   "source": []
  }
 ],
 "metadata": {
  "kernelspec": {
   "display_name": "Python 3 (ipykernel)",
   "language": "python",
   "name": "python3"
  },
  "language_info": {
   "codemirror_mode": {
    "name": "ipython",
    "version": 3
   },
   "file_extension": ".py",
   "mimetype": "text/x-python",
   "name": "python",
   "nbconvert_exporter": "python",
   "pygments_lexer": "ipython3",
   "version": "3.10.13"
  }
 },
 "nbformat": 4,
 "nbformat_minor": 5
}
