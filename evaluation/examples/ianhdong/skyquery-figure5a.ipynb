{
 "cells": [
  {
   "cell_type": "code",
   "execution_count": 2,
   "id": "b5324e5c-aabc-42d9-94cb-3dffae501e4a",
   "metadata": {},
   "outputs": [],
   "source": [
    "from os import environ"
   ]
  },
  {
   "cell_type": "code",
   "execution_count": 3,
   "id": "fbb7ced7-6d62-42ef-a839-8391c0c64e22",
   "metadata": {},
   "outputs": [
    {
     "name": "stdout",
     "output_type": "stream",
     "text": [
      "CUDA is not available.\n"
     ]
    },
    {
     "ename": "ModuleNotFoundError",
     "evalue": "No module named 'utils'",
     "output_type": "error",
     "traceback": [
      "\u001b[0;31m---------------------------------------------------------------------------\u001b[0m",
      "\u001b[0;31mModuleNotFoundError\u001b[0m                       Traceback (most recent call last)",
      "Cell \u001b[0;32mIn[3], line 13\u001b[0m\n\u001b[1;32m     11\u001b[0m \u001b[38;5;28;01mfrom\u001b[39;00m \u001b[38;5;21;01mspatialyze\u001b[39;00m\u001b[38;5;21;01m.\u001b[39;00m\u001b[38;5;21;01mvideo_processor\u001b[39;00m\u001b[38;5;21;01m.\u001b[39;00m\u001b[38;5;21;01mcamera_config\u001b[39;00m \u001b[38;5;28;01mimport\u001b[39;00m camera_config\n\u001b[1;32m     12\u001b[0m \u001b[38;5;28;01mfrom\u001b[39;00m \u001b[38;5;21;01mspatialyze\u001b[39;00m\u001b[38;5;21;01m.\u001b[39;00m\u001b[38;5;21;01mutils\u001b[39;00m\u001b[38;5;21;01m.\u001b[39;00m\u001b[38;5;21;01mF\u001b[39;00m \u001b[38;5;28;01mimport\u001b[39;00m distance, custom_fn, contains, has_types, heading_diff, road_direction, stopped, left_turn, view_angle\n\u001b[0;32m---> 13\u001b[0m \u001b[38;5;28;01mfrom\u001b[39;00m \u001b[38;5;21;01mutils\u001b[39;00m \u001b[38;5;28;01mimport\u001b[39;00m topdown_config, vv_config, resize\n",
      "\u001b[0;31mModuleNotFoundError\u001b[0m: No module named 'utils'"
     ]
    }
   ],
   "source": [
    "import pickle\n",
    "import os\n",
    "import json\n",
    "import random\n",
    "\n",
    "import cv2\n",
    "\n",
    "from spatialyze.geospatial_video import GeospatialVideo\n",
    "from spatialyze.road_network import RoadNetwork\n",
    "from spatialyze.world import World\n",
    "from spatialyze.video_processor.camera_config import camera_config\n",
    "from spatialyze.utils.F import distance, custom_fn, contains, has_types, heading_diff, road_direction, stopped, left_turn, view_angle\n",
    "from utils import topdown_config, vv_config, resize"
   ]
  },
  {
   "cell_type": "code",
   "execution_count": 5,
   "id": "69551780-c87e-4c9c-9462-1906cc77bb33",
   "metadata": {},
   "outputs": [],
   "source": [
    "DATA_DIR = '../../../data'\n",
    "OUTPUT_DIR = os.path.join(DATA_DIR, 'pipeline/outputs')\n",
    "VIDEO_DIR = os.path.join(DATA_DIR, 'pipeline/videos')\n",
    "ROAD_DIR = os.path.join(DATA_DIR, 'scenic/road-network/boston-seaport')\n",
    "\n",
    "files = os.listdir(VIDEO_DIR)\n",
    "with open(os.path.join(VIDEO_DIR, 'frames.pkl'), 'rb') as f:\n",
    "    videos = pickle.load(f)"
   ]
  },
  {
   "cell_type": "code",
   "execution_count": 6,
   "id": "dfdda3e8-1a07-4a19-b3ee-db97e71a38a2",
   "metadata": {},
   "outputs": [
    {
     "data": {
      "text/plain": [
       "<spatialyze.world.World at 0x289654370>"
      ]
     },
     "execution_count": 6,
     "metadata": {},
     "output_type": "execute_result"
    }
   ],
   "source": [
    "world = World()\n",
    "world.addGeogConstructs(RoadNetwork('Boston-Seaport', ROAD_DIR))\n",
    "\n",
    "for file in os.listdir(VIDEO_DIR):\n",
    "    if not file.endswith('.camera.pkl'):\n",
    "        continue\n",
    "\n",
    "    with open(os.path.join(VIDEO_DIR, file), 'rb') as f:\n",
    "        camera = pickle.load(f)\n",
    "    videofile = os.path.join(VIDEO_DIR, camera['filename'])\n",
    "    camera = [camera_config(*c) for c in camera['frames']]\n",
    "\n",
    "    world.addVideo(GeospatialVideo(videofile, camera))\n",
    "\n",
    "car = world.object()\n",
    "camera = world.camera()\n",
    "lane = world.geogConstruct(type='lane')\n",
    "world.filter(\n",
    "    has_types(car, 'car') & \n",
    "    stopped(car) &\n",
    "    (distance(camera, car) < 3)\n",
    ")"
   ]
  },
  {
   "cell_type": "markdown",
   "id": "af37fa7b-e206-428d-88a1-a301d40069c0",
   "metadata": {},
   "source": [
    "# Produce Matrix\n",
    "This operator transforms a sequence dataframe into a matrix. Each matrix divides the region into\n",
    "a grid of cells under a user-configurable cell size before aggregating each cell.\n",
    "\n",
    "Should splice after all conditionals have been added to filter"
   ]
  },
  {
   "cell_type": "code",
   "execution_count": 7,
   "id": "a5cc61d2-35db-4349-997c-9f64d06fad21",
   "metadata": {},
   "outputs": [
    {
     "name": "stderr",
     "output_type": "stream",
     "text": [
      "/Users/iandong/anaconda3/envs/spatialyze/lib/python3.10/site-packages/torch/hub.py:267: UserWarning: You are about to download and run code from an untrusted repository. In a future release, this won't be allowed. To add the repository to your trusted list, change the command to {calling_fn}(..., trust_repo=False) and a command prompt will appear asking for an explicit confirmation of trust, or load(..., trust_repo=True), which will assume that the prompt is to be answered with 'yes'. You can also use load(..., trust_repo='check') which will only prompt for confirmation if the repo is not already trusted. This will eventually be the default behaviour\n",
      "  warnings.warn(\n",
      "Downloading: \"https://github.com/ultralytics/yolov5/zipball/v7.0\" to /Users/iandong/weights/v7.0.zip\n"
     ]
    },
    {
     "ename": "AttributeError",
     "evalue": "'NoneType' object has no attribute 'groups'",
     "output_type": "error",
     "traceback": [
      "\u001b[0;31m---------------------------------------------------------------------------\u001b[0m",
      "\u001b[0;31mAttributeError\u001b[0m                            Traceback (most recent call last)",
      "Cell \u001b[0;32mIn[7], line 1\u001b[0m\n\u001b[0;32m----> 1\u001b[0m \u001b[43mworld\u001b[49m\u001b[38;5;241;43m.\u001b[39;49m\u001b[43msaveVideos\u001b[49m\u001b[43m(\u001b[49m\u001b[43mos\u001b[49m\u001b[38;5;241;43m.\u001b[39;49m\u001b[43mpath\u001b[49m\u001b[38;5;241;43m.\u001b[39;49m\u001b[43mjoin\u001b[49m\u001b[43m(\u001b[49m\u001b[43mOUTPUT_DIR\u001b[49m\u001b[43m,\u001b[49m\u001b[43m \u001b[49m\u001b[38;5;124;43m'\u001b[39;49m\u001b[38;5;124;43mfigure12\u001b[39;49m\u001b[38;5;124;43m'\u001b[39;49m\u001b[43m)\u001b[49m\u001b[43m,\u001b[49m\u001b[43m \u001b[49m\u001b[43maddBoundingBoxes\u001b[49m\u001b[38;5;241;43m=\u001b[39;49m\u001b[38;5;28;43;01mTrue\u001b[39;49;00m\u001b[43m)\u001b[49m\n",
      "File \u001b[0;32m~/spatialyze-official/spatialyze/world.py:108\u001b[0m, in \u001b[0;36mWorld.saveVideos\u001b[0;34m(self, outputDir, addBoundingBoxes)\u001b[0m\n\u001b[1;32m    106\u001b[0m \u001b[38;5;28;01mdef\u001b[39;00m \u001b[38;5;21msaveVideos\u001b[39m(\u001b[38;5;28mself\u001b[39m, outputDir: \u001b[38;5;124m\"\u001b[39m\u001b[38;5;124mstr\u001b[39m\u001b[38;5;124m\"\u001b[39m, addBoundingBoxes: \u001b[38;5;124m\"\u001b[39m\u001b[38;5;124mbool\u001b[39m\u001b[38;5;124m\"\u001b[39m \u001b[38;5;241m=\u001b[39m \u001b[38;5;28;01mFalse\u001b[39;00m):\n\u001b[1;32m    107\u001b[0m     \u001b[38;5;28;01mif\u001b[39;00m \u001b[38;5;28mself\u001b[39m\u001b[38;5;241m.\u001b[39m_objects \u001b[38;5;129;01mis\u001b[39;00m \u001b[38;5;28;01mNone\u001b[39;00m \u001b[38;5;129;01mor\u001b[39;00m \u001b[38;5;28mself\u001b[39m\u001b[38;5;241m.\u001b[39m_trackings \u001b[38;5;129;01mis\u001b[39;00m \u001b[38;5;28;01mNone\u001b[39;00m:\n\u001b[0;32m--> 108\u001b[0m         \u001b[38;5;28mself\u001b[39m\u001b[38;5;241m.\u001b[39m_objects, \u001b[38;5;28mself\u001b[39m\u001b[38;5;241m.\u001b[39m_trackings \u001b[38;5;241m=\u001b[39m \u001b[43m_execute\u001b[49m\u001b[43m(\u001b[49m\u001b[38;5;28;43mself\u001b[39;49m\u001b[43m)\u001b[49m\n\u001b[1;32m    109\u001b[0m     \u001b[38;5;28;01mreturn\u001b[39;00m save_video_util(\n\u001b[1;32m    110\u001b[0m         \u001b[38;5;28mself\u001b[39m\u001b[38;5;241m.\u001b[39m_objects,\n\u001b[1;32m    111\u001b[0m         \u001b[38;5;28mself\u001b[39m\u001b[38;5;241m.\u001b[39m_trackings,\n\u001b[1;32m    112\u001b[0m         outputDir,\n\u001b[1;32m    113\u001b[0m         addBoundingBoxes,\n\u001b[1;32m    114\u001b[0m     )\n",
      "File \u001b[0;32m~/spatialyze-official/spatialyze/world.py:179\u001b[0m, in \u001b[0;36m_execute\u001b[0;34m(world, optimization)\u001b[0m\n\u001b[1;32m    177\u001b[0m video \u001b[38;5;241m=\u001b[39m Video(v\u001b[38;5;241m.\u001b[39mvideo, v\u001b[38;5;241m.\u001b[39mcamera)\n\u001b[1;32m    178\u001b[0m process \u001b[38;5;241m=\u001b[39m _track(t3ds) \u001b[38;5;28;01mif\u001b[39;00m temporal \u001b[38;5;28;01melse\u001b[39;00m _detect(d3ds)\n\u001b[0;32m--> 179\u001b[0m vresults[v\u001b[38;5;241m.\u001b[39mvideo] \u001b[38;5;241m=\u001b[39m \u001b[43mprocess\u001b[49m\u001b[43m(\u001b[49m\u001b[43mvideo\u001b[49m\u001b[43m,\u001b[49m\u001b[43m \u001b[49m\u001b[43mdatabase\u001b[49m\u001b[43m)\u001b[49m\n\u001b[1;32m    181\u001b[0m \u001b[38;5;28;01massert\u001b[39;00m \u001b[38;5;28mall\u001b[39m(idx \u001b[38;5;241m==\u001b[39m cc\u001b[38;5;241m.\u001b[39mframe_num \u001b[38;5;28;01mfor\u001b[39;00m idx, cc \u001b[38;5;129;01min\u001b[39;00m \u001b[38;5;28menumerate\u001b[39m(v\u001b[38;5;241m.\u001b[39mcamera)), [\n\u001b[1;32m    182\u001b[0m     cc\u001b[38;5;241m.\u001b[39mframe_num \u001b[38;5;28;01mfor\u001b[39;00m cc \u001b[38;5;129;01min\u001b[39;00m v\u001b[38;5;241m.\u001b[39mcamera\n\u001b[1;32m    183\u001b[0m ]\n\u001b[1;32m    184\u001b[0m qresults[v\u001b[38;5;241m.\u001b[39mvideo] \u001b[38;5;241m=\u001b[39m database\u001b[38;5;241m.\u001b[39mpredicate(world\u001b[38;5;241m.\u001b[39mpredicates, temporal)\n",
      "File \u001b[0;32m~/spatialyze-official/spatialyze/world.py:191\u001b[0m, in \u001b[0;36m_track.<locals>._\u001b[0;34m(video, database)\u001b[0m\n\u001b[1;32m    189\u001b[0m \u001b[38;5;28;01mdef\u001b[39;00m \u001b[38;5;21m_\u001b[39m(video: Video, database: Database):\n\u001b[1;32m    190\u001b[0m     vresults: \u001b[38;5;28mlist\u001b[39m[TrackingResults] \u001b[38;5;241m=\u001b[39m []\n\u001b[0;32m--> 191\u001b[0m     \u001b[38;5;28;01mfor\u001b[39;00m track \u001b[38;5;129;01min\u001b[39;00m processor\u001b[38;5;241m.\u001b[39miterate(video):\n\u001b[1;32m    192\u001b[0m         \u001b[38;5;28;01massert\u001b[39;00m \u001b[38;5;129;01mnot\u001b[39;00m \u001b[38;5;28misinstance\u001b[39m(track, Skip)\n\u001b[1;32m    193\u001b[0m         vresults\u001b[38;5;241m.\u001b[39mappend(track)\n",
      "File \u001b[0;32m~/spatialyze-official/spatialyze/video_processor/stream/stream.py:52\u001b[0m, in \u001b[0;36mStream.stream\u001b[0;34m(self, video)\u001b[0m\n\u001b[1;32m     50\u001b[0m \u001b[38;5;28;01mwhile\u001b[39;00m \u001b[38;5;28;01mTrue\u001b[39;00m:\n\u001b[1;32m     51\u001b[0m     \u001b[38;5;28;01mwhile\u001b[39;00m \u001b[38;5;28mlen\u001b[39m(\u001b[38;5;28mself\u001b[39m\u001b[38;5;241m.\u001b[39m_results) \u001b[38;5;241m<\u001b[39m\u001b[38;5;241m=\u001b[39m \u001b[38;5;28mself\u001b[39m\u001b[38;5;241m.\u001b[39m_stream_progress[idx]:\n\u001b[0;32m---> 52\u001b[0m         \u001b[38;5;28mself\u001b[39m\u001b[38;5;241m.\u001b[39m_results\u001b[38;5;241m.\u001b[39mappend(\u001b[38;5;28;43mnext\u001b[39;49m\u001b[43m(\u001b[49m\u001b[38;5;28;43mself\u001b[39;49m\u001b[38;5;241;43m.\u001b[39;49m\u001b[43m_iter_stream\u001b[49m\u001b[43m)\u001b[49m)\n\u001b[1;32m     54\u001b[0m     result \u001b[38;5;241m=\u001b[39m \u001b[38;5;28mself\u001b[39m\u001b[38;5;241m.\u001b[39m_results[\u001b[38;5;28mself\u001b[39m\u001b[38;5;241m.\u001b[39m_stream_progress[idx]]\n\u001b[1;32m     55\u001b[0m     \u001b[38;5;28;01massert\u001b[39;00m result \u001b[38;5;129;01mis\u001b[39;00m \u001b[38;5;129;01mnot\u001b[39;00m \u001b[38;5;28;01mNone\u001b[39;00m\n",
      "File \u001b[0;32m~/spatialyze-official/spatialyze/video_processor/stream/strongsort.py:48\u001b[0m, in \u001b[0;36mStrongSORT._stream\u001b[0;34m(self, video)\u001b[0m\n\u001b[1;32m     46\u001b[0m \u001b[38;5;28;01mdef\u001b[39;00m \u001b[38;5;21m_stream\u001b[39m(\u001b[38;5;28mself\u001b[39m, video: Video):\n\u001b[1;32m     47\u001b[0m     device \u001b[38;5;241m=\u001b[39m select_device()\n\u001b[0;32m---> 48\u001b[0m     strongsort \u001b[38;5;241m=\u001b[39m \u001b[43mcreate_tracker\u001b[49m\u001b[43m(\u001b[49m\u001b[38;5;124;43m\"\u001b[39;49m\u001b[38;5;124;43mstrongsort\u001b[39;49m\u001b[38;5;124;43m\"\u001b[39;49m\u001b[43m,\u001b[49m\u001b[43m \u001b[49m\u001b[43mREID_WEIGHTS\u001b[49m\u001b[43m,\u001b[49m\u001b[43m \u001b[49m\u001b[43mdevice\u001b[49m\u001b[43m,\u001b[49m\u001b[43m \u001b[49m\u001b[38;5;28;43;01mFalse\u001b[39;49;00m\u001b[43m)\u001b[49m\n\u001b[1;32m     49\u001b[0m     \u001b[38;5;28;01massert\u001b[39;00m \u001b[38;5;28misinstance\u001b[39m(strongsort, _StrongSORT)\n\u001b[1;32m     50\u001b[0m     \u001b[38;5;28;01massert\u001b[39;00m \u001b[38;5;28mhasattr\u001b[39m(strongsort, \u001b[38;5;124m\"\u001b[39m\u001b[38;5;124mtracker\u001b[39m\u001b[38;5;124m\"\u001b[39m)\n",
      "File \u001b[0;32m~/spatialyze-official/spatialyze/video_processor/modules/yolo_tracker/trackers/multi_tracker_zoo.py:15\u001b[0m, in \u001b[0;36mcreate_tracker\u001b[0;34m(tracker_type, appearance_descriptor_weights, device, half)\u001b[0m\n\u001b[1;32m     12\u001b[0m     \u001b[38;5;28;01mwith\u001b[39;00m \u001b[38;5;28mopen\u001b[39m(FILE\u001b[38;5;241m.\u001b[39mparent \u001b[38;5;241m/\u001b[39m \u001b[38;5;124m'\u001b[39m\u001b[38;5;124mstrong_sort/configs/strong_sort.yaml\u001b[39m\u001b[38;5;124m'\u001b[39m, \u001b[38;5;124m'\u001b[39m\u001b[38;5;124mr\u001b[39m\u001b[38;5;124m'\u001b[39m) \u001b[38;5;28;01mas\u001b[39;00m f:\n\u001b[1;32m     13\u001b[0m         cfg \u001b[38;5;241m=\u001b[39m yaml\u001b[38;5;241m.\u001b[39mload(f\u001b[38;5;241m.\u001b[39mread(), Loader\u001b[38;5;241m=\u001b[39myaml\u001b[38;5;241m.\u001b[39mFullLoader)\n\u001b[0;32m---> 15\u001b[0m     strongsort \u001b[38;5;241m=\u001b[39m \u001b[43mStrongSORT\u001b[49m\u001b[43m(\u001b[49m\n\u001b[1;32m     16\u001b[0m \u001b[43m        \u001b[49m\u001b[43mappearance_descriptor_weights\u001b[49m\u001b[43m,\u001b[49m\n\u001b[1;32m     17\u001b[0m \u001b[43m        \u001b[49m\u001b[43mdevice\u001b[49m\u001b[43m,\u001b[49m\n\u001b[1;32m     18\u001b[0m \u001b[43m        \u001b[49m\u001b[43mhalf\u001b[49m\u001b[43m,\u001b[49m\n\u001b[1;32m     19\u001b[0m \u001b[43m        \u001b[49m\u001b[43mmax_dist\u001b[49m\u001b[38;5;241;43m=\u001b[39;49m\u001b[43mcfg\u001b[49m\u001b[43m[\u001b[49m\u001b[38;5;124;43m'\u001b[39;49m\u001b[38;5;124;43mSTRONGSORT\u001b[39;49m\u001b[38;5;124;43m'\u001b[39;49m\u001b[43m]\u001b[49m\u001b[43m[\u001b[49m\u001b[38;5;124;43m'\u001b[39;49m\u001b[38;5;124;43mMAX_DIST\u001b[39;49m\u001b[38;5;124;43m'\u001b[39;49m\u001b[43m]\u001b[49m\u001b[43m,\u001b[49m\n\u001b[1;32m     20\u001b[0m \u001b[43m        \u001b[49m\u001b[43mmax_iou_distance\u001b[49m\u001b[38;5;241;43m=\u001b[39;49m\u001b[43mcfg\u001b[49m\u001b[43m[\u001b[49m\u001b[38;5;124;43m'\u001b[39;49m\u001b[38;5;124;43mSTRONGSORT\u001b[39;49m\u001b[38;5;124;43m'\u001b[39;49m\u001b[43m]\u001b[49m\u001b[43m[\u001b[49m\u001b[38;5;124;43m'\u001b[39;49m\u001b[38;5;124;43mMAX_IOU_DISTANCE\u001b[39;49m\u001b[38;5;124;43m'\u001b[39;49m\u001b[43m]\u001b[49m\u001b[43m,\u001b[49m\n\u001b[1;32m     21\u001b[0m \u001b[43m        \u001b[49m\u001b[43mmax_age\u001b[49m\u001b[38;5;241;43m=\u001b[39;49m\u001b[43mcfg\u001b[49m\u001b[43m[\u001b[49m\u001b[38;5;124;43m'\u001b[39;49m\u001b[38;5;124;43mSTRONGSORT\u001b[39;49m\u001b[38;5;124;43m'\u001b[39;49m\u001b[43m]\u001b[49m\u001b[43m[\u001b[49m\u001b[38;5;124;43m'\u001b[39;49m\u001b[38;5;124;43mMAX_AGE\u001b[39;49m\u001b[38;5;124;43m'\u001b[39;49m\u001b[43m]\u001b[49m\u001b[43m,\u001b[49m\n\u001b[1;32m     22\u001b[0m \u001b[43m        \u001b[49m\u001b[43mn_init\u001b[49m\u001b[38;5;241;43m=\u001b[39;49m\u001b[43mcfg\u001b[49m\u001b[43m[\u001b[49m\u001b[38;5;124;43m'\u001b[39;49m\u001b[38;5;124;43mSTRONGSORT\u001b[39;49m\u001b[38;5;124;43m'\u001b[39;49m\u001b[43m]\u001b[49m\u001b[43m[\u001b[49m\u001b[38;5;124;43m'\u001b[39;49m\u001b[38;5;124;43mN_INIT\u001b[39;49m\u001b[38;5;124;43m'\u001b[39;49m\u001b[43m]\u001b[49m\u001b[43m,\u001b[49m\n\u001b[1;32m     23\u001b[0m \u001b[43m        \u001b[49m\u001b[43mnn_budget\u001b[49m\u001b[38;5;241;43m=\u001b[39;49m\u001b[43mcfg\u001b[49m\u001b[43m[\u001b[49m\u001b[38;5;124;43m'\u001b[39;49m\u001b[38;5;124;43mSTRONGSORT\u001b[39;49m\u001b[38;5;124;43m'\u001b[39;49m\u001b[43m]\u001b[49m\u001b[43m[\u001b[49m\u001b[38;5;124;43m'\u001b[39;49m\u001b[38;5;124;43mNN_BUDGET\u001b[39;49m\u001b[38;5;124;43m'\u001b[39;49m\u001b[43m]\u001b[49m\u001b[43m,\u001b[49m\n\u001b[1;32m     24\u001b[0m \u001b[43m        \u001b[49m\u001b[43mmc_lambda\u001b[49m\u001b[38;5;241;43m=\u001b[39;49m\u001b[43mcfg\u001b[49m\u001b[43m[\u001b[49m\u001b[38;5;124;43m'\u001b[39;49m\u001b[38;5;124;43mSTRONGSORT\u001b[39;49m\u001b[38;5;124;43m'\u001b[39;49m\u001b[43m]\u001b[49m\u001b[43m[\u001b[49m\u001b[38;5;124;43m'\u001b[39;49m\u001b[38;5;124;43mMC_LAMBDA\u001b[39;49m\u001b[38;5;124;43m'\u001b[39;49m\u001b[43m]\u001b[49m\u001b[43m,\u001b[49m\n\u001b[1;32m     25\u001b[0m \u001b[43m        \u001b[49m\u001b[43mema_alpha\u001b[49m\u001b[38;5;241;43m=\u001b[39;49m\u001b[43mcfg\u001b[49m\u001b[43m[\u001b[49m\u001b[38;5;124;43m'\u001b[39;49m\u001b[38;5;124;43mSTRONGSORT\u001b[39;49m\u001b[38;5;124;43m'\u001b[39;49m\u001b[43m]\u001b[49m\u001b[43m[\u001b[49m\u001b[38;5;124;43m'\u001b[39;49m\u001b[38;5;124;43mEMA_ALPHA\u001b[39;49m\u001b[38;5;124;43m'\u001b[39;49m\u001b[43m]\u001b[49m\u001b[43m,\u001b[49m\n\u001b[1;32m     26\u001b[0m \n\u001b[1;32m     27\u001b[0m \u001b[43m    \u001b[49m\u001b[43m)\u001b[49m\n\u001b[1;32m     28\u001b[0m     \u001b[38;5;28;01mreturn\u001b[39;00m strongsort\n\u001b[1;32m     29\u001b[0m \u001b[38;5;28;01melse\u001b[39;00m:\n",
      "File \u001b[0;32m~/spatialyze-official/spatialyze/video_processor/modules/yolo_tracker/trackers/strong_sort/strong_sort.py:30\u001b[0m, in \u001b[0;36mStrongSORT.__init__\u001b[0;34m(self, model_weights, device, fp16, max_dist, max_iou_distance, max_age, n_init, nn_budget, mc_lambda, ema_alpha)\u001b[0m\n\u001b[1;32m     18\u001b[0m \u001b[38;5;28;01mdef\u001b[39;00m \u001b[38;5;21m__init__\u001b[39m(\u001b[38;5;28mself\u001b[39m, \n\u001b[1;32m     19\u001b[0m              model_weights,\n\u001b[1;32m     20\u001b[0m              device,\n\u001b[0;32m   (...)\u001b[0m\n\u001b[1;32m     27\u001b[0m              ema_alpha\u001b[38;5;241m=\u001b[39m\u001b[38;5;241m0.9\u001b[39m\n\u001b[1;32m     28\u001b[0m             ):\n\u001b[0;32m---> 30\u001b[0m     \u001b[38;5;28mself\u001b[39m\u001b[38;5;241m.\u001b[39mmodel \u001b[38;5;241m=\u001b[39m \u001b[43mReIDDetectMultiBackend\u001b[49m\u001b[43m(\u001b[49m\u001b[43mweights\u001b[49m\u001b[38;5;241;43m=\u001b[39;49m\u001b[43mmodel_weights\u001b[49m\u001b[43m,\u001b[49m\u001b[43m \u001b[49m\u001b[43mdevice\u001b[49m\u001b[38;5;241;43m=\u001b[39;49m\u001b[43mdevice\u001b[49m\u001b[43m,\u001b[49m\u001b[43m \u001b[49m\u001b[43mfp16\u001b[49m\u001b[38;5;241;43m=\u001b[39;49m\u001b[43mfp16\u001b[49m\u001b[43m)\u001b[49m\n\u001b[1;32m     32\u001b[0m     \u001b[38;5;28mself\u001b[39m\u001b[38;5;241m.\u001b[39mmax_dist \u001b[38;5;241m=\u001b[39m max_dist\n\u001b[1;32m     33\u001b[0m     metric \u001b[38;5;241m=\u001b[39m NearestNeighborDistanceMetric(\n\u001b[1;32m     34\u001b[0m         \u001b[38;5;124m\"\u001b[39m\u001b[38;5;124mcosine\u001b[39m\u001b[38;5;124m\"\u001b[39m, \u001b[38;5;28mself\u001b[39m\u001b[38;5;241m.\u001b[39mmax_dist, nn_budget)\n",
      "File \u001b[0;32m~/spatialyze-official/spatialyze/video_processor/modules/yolo_tracker/trackers/strong_sort/reid_multibackend.py:58\u001b[0m, in \u001b[0;36mReIDDetectMultiBackend.__init__\u001b[0;34m(self, weights, device, fp16)\u001b[0m\n\u001b[1;32m     56\u001b[0m model_url \u001b[38;5;241m=\u001b[39m get_model_url(w)\n\u001b[1;32m     57\u001b[0m \u001b[38;5;28;01mif\u001b[39;00m \u001b[38;5;129;01mnot\u001b[39;00m file_exists(w) \u001b[38;5;129;01mand\u001b[39;00m model_url \u001b[38;5;129;01mis\u001b[39;00m \u001b[38;5;129;01mnot\u001b[39;00m \u001b[38;5;28;01mNone\u001b[39;00m:\n\u001b[0;32m---> 58\u001b[0m     \u001b[43mgdown\u001b[49m\u001b[38;5;241;43m.\u001b[39;49m\u001b[43mdownload\u001b[49m\u001b[43m(\u001b[49m\u001b[43mmodel_url\u001b[49m\u001b[43m,\u001b[49m\u001b[43m \u001b[49m\u001b[38;5;28;43mstr\u001b[39;49m\u001b[43m(\u001b[49m\u001b[43mw\u001b[49m\u001b[43m)\u001b[49m\u001b[43m,\u001b[49m\u001b[43m \u001b[49m\u001b[43mquiet\u001b[49m\u001b[38;5;241;43m=\u001b[39;49m\u001b[38;5;28;43;01mFalse\u001b[39;49;00m\u001b[43m)\u001b[49m\n\u001b[1;32m     59\u001b[0m \u001b[38;5;28;01melif\u001b[39;00m file_exists(w):\n\u001b[1;32m     60\u001b[0m     \u001b[38;5;28;01mpass\u001b[39;00m\n",
      "File \u001b[0;32m~/anaconda3/envs/spatialyze/lib/python3.10/site-packages/gdown/download.py:259\u001b[0m, in \u001b[0;36mdownload\u001b[0;34m(url, output, quiet, proxy, speed, use_cookies, verify, id, fuzzy, resume, format)\u001b[0m\n\u001b[1;32m    255\u001b[0m     content_disposition \u001b[38;5;241m=\u001b[39m six\u001b[38;5;241m.\u001b[39mmoves\u001b[38;5;241m.\u001b[39murllib_parse\u001b[38;5;241m.\u001b[39munquote(\n\u001b[1;32m    256\u001b[0m         res\u001b[38;5;241m.\u001b[39mheaders[\u001b[38;5;124m\"\u001b[39m\u001b[38;5;124mContent-Disposition\u001b[39m\u001b[38;5;124m\"\u001b[39m]\n\u001b[1;32m    257\u001b[0m     )\n\u001b[1;32m    258\u001b[0m     m \u001b[38;5;241m=\u001b[39m re\u001b[38;5;241m.\u001b[39msearch(\u001b[38;5;124mr\u001b[39m\u001b[38;5;124m\"\u001b[39m\u001b[38;5;124mfilename\u001b[39m\u001b[38;5;124m\\\u001b[39m\u001b[38;5;124m*=UTF-8\u001b[39m\u001b[38;5;124m'\u001b[39m\u001b[38;5;124m'\u001b[39m\u001b[38;5;124m(.*)\u001b[39m\u001b[38;5;124m\"\u001b[39m, content_disposition)\n\u001b[0;32m--> 259\u001b[0m     filename_from_url \u001b[38;5;241m=\u001b[39m \u001b[43mm\u001b[49m\u001b[38;5;241;43m.\u001b[39;49m\u001b[43mgroups\u001b[49m()[\u001b[38;5;241m0\u001b[39m]\n\u001b[1;32m    260\u001b[0m     filename_from_url \u001b[38;5;241m=\u001b[39m filename_from_url\u001b[38;5;241m.\u001b[39mreplace(osp\u001b[38;5;241m.\u001b[39msep, \u001b[38;5;124m\"\u001b[39m\u001b[38;5;124m_\u001b[39m\u001b[38;5;124m\"\u001b[39m)\n\u001b[1;32m    261\u001b[0m \u001b[38;5;28;01melse\u001b[39;00m:\n",
      "\u001b[0;31mAttributeError\u001b[0m: 'NoneType' object has no attribute 'groups'"
     ]
    }
   ],
   "source": [
    "world.saveVideos(os.path.join(OUTPUT_DIR, 'figure12'), addBoundingBoxes=True)"
   ]
  }
 ],
 "metadata": {
  "kernelspec": {
   "display_name": "Python 3 (ipykernel)",
   "language": "python",
   "name": "python3"
  },
  "language_info": {
   "codemirror_mode": {
    "name": "ipython",
    "version": 3
   },
   "file_extension": ".py",
   "mimetype": "text/x-python",
   "name": "python",
   "nbconvert_exporter": "python",
   "pygments_lexer": "ipython3",
   "version": "3.10.13"
  }
 },
 "nbformat": 4,
 "nbformat_minor": 5
}
