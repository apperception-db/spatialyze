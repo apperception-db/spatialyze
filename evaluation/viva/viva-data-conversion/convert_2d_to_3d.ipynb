{
 "cells": [
  {
   "cell_type": "code",
   "execution_count": 1,
   "metadata": {},
   "outputs": [],
   "source": [
    "from typing import TYPE_CHECKING\n",
    "\n",
    "import numpy as np\n",
    "import numpy.typing as npt\n",
    "import torch\n",
    "from pyquaternion import Quaternion"
   ]
  },
  {
   "cell_type": "code",
   "execution_count": 14,
   "metadata": {},
   "outputs": [],
   "source": [
    "from xml.dom import minidom\n",
    "import json\n",
    "\n",
    "doc = minidom.parse('Frame 3.svg')\n",
    "path_strings = [\n",
    "    path.getAttribute('d') for path in doc.getElementsByTagName('path')\n",
    "]\n",
    "# print(path_strings)\n",
    "\n",
    "paths = []\n",
    "\n",
    "for s in path_strings:\n",
    "    assert s[0] == 'M', s\n",
    "    # s = s[1:]\n",
    "    i = 1\n",
    "    points = []\n",
    "    point = 'M'\n",
    "    while True:\n",
    "        if i >= len(s) or 'A' <= s[i] <= 'Z':\n",
    "            # process point\n",
    "            identifier = point[0]\n",
    "            point = point[1:]\n",
    "            if identifier == 'Z':\n",
    "                points.append(points[0])\n",
    "                break\n",
    "            assert any(c in '0123456789. -' for c in point), point\n",
    "            if identifier in 'ML':\n",
    "                points.append([float(p) for p in point.split(' ')])\n",
    "            elif identifier == 'V':\n",
    "                assert ' ' not in point, point\n",
    "                points.append([points[-1][0], float(point)])\n",
    "                pass\n",
    "            elif identifier == 'H':\n",
    "                assert ' ' not in point, point\n",
    "                points.append([float(point), points[-1][1]])\n",
    "                pass\n",
    "            else:\n",
    "                raise Exception('Unknown identifier: ' + identifier)\n",
    "            # print(points[-1])\n",
    "            point = ''\n",
    "        else:\n",
    "            assert s[i] in '0123456789. -', s\n",
    "        if i >= len(s):\n",
    "            break\n",
    "        point += s[i]\n",
    "        i += 1\n",
    "    paths.append(points)\n",
    "    \n",
    "doc.unlink()\n",
    "\n",
    "intersection = paths[0]\n",
    "intersection_segment = paths[1]\n",
    "paths = paths[2:]\n",
    "assert len(paths) == 16\n",
    "lanes = paths[:8]\n",
    "lane_segment = paths[8:]\n",
    "\n",
    "DIRECTIONS = ['south', 'east', 'north', 'west']\n",
    "OUTINS = ['out', 'in']\n",
    "ids = []\n",
    "for d in DIRECTIONS:\n",
    "    for oi in OUTINS:\n",
    "        ids.append(d + '-' + oi)\n",
    "\n",
    "polygons = []\n",
    "intersections = []\n",
    "segments = []\n",
    "\n",
    "intersections = [{'id': 'intersection_inter', 'road': 'intersection'}]\n",
    "segments.append({\n",
    "    'start': 'POINT ()',\n",
    "    'end': 'POINT ()',\n",
    "    'heading': 0,\n",
    "    'polygonId': 'intersection',\n",
    "})"
   ]
  },
  {
   "cell_type": "code",
   "execution_count": 54,
   "metadata": {},
   "outputs": [],
   "source": [
    "CAMERA_INTRINSIC = np.array([\n",
    "    [1272,    0, 960],\n",
    "    [   0, 1272, 540],\n",
    "    [   0,    0,   1]\n",
    "])\n",
    "\n",
    "CAMERA_TRANSLATION = np.array([0, 0, 5])\n",
    "\n",
    "CAMERA_ROTATION = Quaternion((0.430, -0.561, 0.561, -0.430))"
   ]
  },
  {
   "cell_type": "code",
   "execution_count": 55,
   "metadata": {},
   "outputs": [],
   "source": [
    "def run(data):\n",
    "    with torch.no_grad():\n",
    "        [[fx, s, x0], [_, fy, y0], [_, _, _]] = CAMERA_INTRINSIC\n",
    "        rotation = CAMERA_ROTATION\n",
    "        translation = CAMERA_TRANSLATION\n",
    "\n",
    "        # TODO: should it be a 2D bbox in 3D?\n",
    "        bottoms = data\n",
    "        N = bottoms.shape[1] // 2\n",
    "        assert (2, N * 2) == bottoms.shape, ((2, N * 2), bottoms.shape)\n",
    "\n",
    "        # TODO: use matrix multiplication with K^-1\n",
    "        directions = np.stack(\n",
    "            (\n",
    "                (bottoms[0] / fx)\n",
    "                - (s * bottoms[1] / (fx * fy))\n",
    "                + ((s * y0) / (fx * fy))\n",
    "                - (x0 / fx),\n",
    "                (bottoms[1] - y0) / fy,\n",
    "                np.ones(N * 2),\n",
    "            )\n",
    "        )\n",
    "        assert (3, N * 2) == directions.shape, ((3, N * 2), directions.shape)\n",
    "\n",
    "        rotated_directions = rotate(directions, rotation)\n",
    "\n",
    "        # find t that z=0\n",
    "        ts = -translation[2] / rotated_directions[2, :]\n",
    "\n",
    "        points = rotated_directions * ts + translation[:, np.newaxis]\n",
    "        points_from_camera = rotate(points - translation[:, np.newaxis], rotation.inverse)\n",
    "\n",
    "        bbox3d = np.concatenate(\n",
    "            (\n",
    "                points[:, :N],\n",
    "                points[:, N:],\n",
    "            ),\n",
    "            axis=0,\n",
    "        ).T\n",
    "        assert (N, 6) == bbox3d.shape, bbox3d.shape\n",
    "\n",
    "        bbox3d_from_camera = np.concatenate(\n",
    "            (\n",
    "                points_from_camera[:, :N],\n",
    "                points_from_camera[:, N:],\n",
    "            ),\n",
    "            axis=0,\n",
    "        ).T\n",
    "        assert (N, 6) == bbox3d_from_camera.shape, bbox3d_from_camera.shape\n",
    "\n",
    "        # d3d = torch.concatenate(\n",
    "        #     (\n",
    "        #         torch.tensor(bbox3d),\n",
    "        #         torch.tensor(bbox3d_from_camera),\n",
    "        #     ),\n",
    "        #     dim=1,\n",
    "        # )\n",
    "        # # assert (N, (d + 12)) == d3d.shape, d3d.shape\n",
    "\n",
    "        return bbox3d\n",
    "\n",
    "\n",
    "def rotate(vectors: \"npt.NDArray\", rotation: \"Quaternion\") -> \"npt.NDArray\":\n",
    "    \"\"\"Rotate 3D Vector by rotation quaternion.\n",
    "    Params:\n",
    "        vectors: (3 x N) 3-vectors each specified as any ordered\n",
    "            sequence of 3 real numbers corresponding to x, y, and z values.\n",
    "        rotation: A rotation quaternion.\n",
    "\n",
    "    Returns:\n",
    "        The rotated vectors (3 x N).\n",
    "    \"\"\"\n",
    "    return rotation.unit.rotation_matrix @ vectors\n",
    "\n",
    "\n",
    "def conj(q: \"npt.NDArray\") -> \"npt.NDArray\":\n",
    "    return np.concatenate([q[0:1, :], -q[1:, :]])\n"
   ]
  },
  {
   "cell_type": "code",
   "execution_count": 56,
   "metadata": {},
   "outputs": [
    {
     "data": {
      "text/plain": [
       "array([[ -95. ,  469. , 1011. ,  123.5,  -95. ,  -95. ],\n",
       "       [ 947. ,  812. ,  907. , 1293. ,  947. ,  947. ]])"
      ]
     },
     "execution_count": 56,
     "metadata": {},
     "output_type": "execute_result"
    }
   ],
   "source": [
    "np.array(lanes[0]).T\n"
   ]
  },
  {
   "cell_type": "code",
   "execution_count": 57,
   "metadata": {},
   "outputs": [],
   "source": [
    "# data = [\n",
    "#     [x0, x1, x2, ...],\n",
    "#     [y0, y1, y2, ...]\n",
    "# ]\n",
    "result = run(data=np.array(intersection).T)"
   ]
  },
  {
   "cell_type": "code",
   "execution_count": 58,
   "metadata": {},
   "outputs": [],
   "source": [
    "x = []\n",
    "y = []\n",
    "for path in [intersection] + lanes:\n",
    "    result = run(data=np.array(path).T)\n",
    "    for point in result:\n",
    "        x.append(point[0])\n",
    "        y.append(point[1])\n",
    "        x.append(point[3])\n",
    "        y.append(point[4])"
   ]
  },
  {
   "cell_type": "code",
   "execution_count": 59,
   "metadata": {},
   "outputs": [
    {
     "data": {
      "image/png": "[encoded data removed]",
      "text/plain": [
       "<Figure size 640x480 with 1 Axes>"
      ]
     },
     "metadata": {},
     "output_type": "display_data"
    },
    {
     "ename": "",
     "evalue": "",
     "output_type": "error",
     "traceback": [
      "\u001b[1;31mThe Kernel crashed while executing code in the the current cell or a previous cell. Please review the code in the cell(s) to identify a possible cause of the failure. Click <a href='https://aka.ms/vscodeJupyterKernelCrash'>here</a> for more info. View Jupyter <a href='command:jupyter.viewOutput'>log</a> for further details."
     ]
    }
   ],
   "source": [
    "import matplotlib.pyplot as plt\n",
    "%matplotlib inline\n",
    "plt.scatter(x, y)\n",
    "plt.show()"
   ]
  },
  {
   "cell_type": "code",
   "execution_count": null,
   "metadata": {},
   "outputs": [],
   "source": []
  }
 ],
 "metadata": {
  "kernelspec": {
   "display_name": "spatialyze",
   "language": "python",
   "name": "python3"
  },
  "language_info": {
   "codemirror_mode": {
    "name": "ipython",
    "version": 3
   },
   "file_extension": ".py",
   "mimetype": "text/x-python",
   "name": "python",
   "nbconvert_exporter": "python",
   "pygments_lexer": "ipython3",
   "version": "3.10.12"
  }
 },
 "nbformat": 4,
 "nbformat_minor": 2
}
