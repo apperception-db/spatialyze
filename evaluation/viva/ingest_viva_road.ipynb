{
 "cells": [
  {
   "cell_type": "markdown",
   "metadata": {},
   "source": [
    "# "
   ]
  },
  {
   "cell_type": "code",
   "execution_count": 1,
   "metadata": {},
   "outputs": [],
   "source": [
    "from typing import TYPE_CHECKING\n",
    "\n",
    "import numpy as np\n",
    "import numpy.typing as npt\n",
    "import torch\n",
    "from pyquaternion import Quaternion"
   ]
  },
  {
   "cell_type": "code",
   "execution_count": 2,
   "metadata": {},
   "outputs": [],
   "source": [
    "from xml.dom import minidom\n",
    "import json\n",
    "\n",
    "doc = minidom.parse('road.svg')\n",
    "path_strings = [\n",
    "    path.getAttribute('d') for path in doc.getElementsByTagName('path')\n",
    "]\n",
    "# print(path_strings)\n",
    "\n",
    "paths = []\n",
    "\n",
    "for s in path_strings:\n",
    "    assert s[0] == 'M', s\n",
    "    # s = s[1:]\n",
    "    i = 1\n",
    "    points = []\n",
    "    point = 'M'\n",
    "    while True:\n",
    "        if i >= len(s) or 'A' <= s[i] <= 'Z':\n",
    "            # process point\n",
    "            identifier = point[0]\n",
    "            point = point[1:]\n",
    "            if identifier == 'Z':\n",
    "                points.append(points[0])\n",
    "                break\n",
    "            assert any(c in '0123456789. -' for c in point), point\n",
    "            if identifier in 'ML':\n",
    "                points.append([float(p) for p in point.split(' ')])\n",
    "            elif identifier == 'V':\n",
    "                assert ' ' not in point, point\n",
    "                points.append([points[-1][0], float(point)])\n",
    "                pass\n",
    "            elif identifier == 'H':\n",
    "                assert ' ' not in point, point\n",
    "                points.append([float(point), points[-1][1]])\n",
    "                pass\n",
    "            else:\n",
    "                raise Exception('Unknown identifier: ' + identifier)\n",
    "            # print(points[-1])\n",
    "            point = ''\n",
    "        else:\n",
    "            assert s[i] in '0123456789. -', s\n",
    "        if i >= len(s):\n",
    "            break\n",
    "        point += s[i]\n",
    "        i += 1\n",
    "    points = np.array(points)\n",
    "    points = points * np.array([[360, 240]]) / np.array([[1920, 1080]])\n",
    "    paths.append(points)\n",
    "    \n",
    "doc.unlink()\n",
    "\n",
    "intersection = paths[0]\n",
    "intersection_segment = paths[1]\n",
    "paths = paths[2:]\n",
    "assert len(paths) == 16\n",
    "lanes = paths[:8]\n",
    "lane_segment = paths[8:]\n",
    "\n",
    "DIRECTIONS = ['south', 'east', 'north', 'west']\n",
    "OUTINS = ['out', 'in']\n",
    "ids = []\n",
    "for d in DIRECTIONS:\n",
    "    for oi in OUTINS:\n",
    "        ids.append(d + '-' + oi)\n",
    "\n",
    "polygons = []\n",
    "intersections = []\n",
    "segments = []\n",
    "\n",
    "intersections = [{'id': 'intersection_inter', 'road': 'intersection'}]\n",
    "segments.append({\n",
    "    'start': 'POINT ()',\n",
    "    'end': 'POINT ()',\n",
    "    'heading': 0,\n",
    "    'polygonId': 'intersection',\n",
    "})"
   ]
  },
  {
   "cell_type": "code",
   "execution_count": 3,
   "metadata": {},
   "outputs": [],
   "source": [
    "CAMERA_INTRINSIC = np.array([\n",
    "    [1272,    0, 960],\n",
    "    [   0, 1272, 540],\n",
    "    [   0,    0,   1]\n",
    "])\n",
    "CAMERA_INTRINSIC = CAMERA_INTRINSIC * np.array([\n",
    "    360 / 1920,\n",
    "    240 / 1080,\n",
    "    1\n",
    "]).reshape((3, 1))\n",
    "\n",
    "CAMERA_TRANSLATION = np.array([0, 0, 5])\n",
    "\n",
    "CAMERA_ROTATION = Quaternion((0.430, -0.561, 0.561, -0.430))"
   ]
  },
  {
   "cell_type": "code",
   "execution_count": 4,
   "metadata": {},
   "outputs": [],
   "source": [
    "def run(data):\n",
    "    with torch.no_grad():\n",
    "        [[fx, s, x0], [_, fy, y0], [_, _, _]] = CAMERA_INTRINSIC\n",
    "        rotation = CAMERA_ROTATION\n",
    "        translation = CAMERA_TRANSLATION\n",
    "\n",
    "        # TODO: should it be a 2D bbox in 3D?\n",
    "        bottoms = data\n",
    "        N = bottoms.shape[1]\n",
    "        assert (2, N) == bottoms.shape, ((2, N), bottoms.shape)\n",
    "\n",
    "        # TODO: use matrix multiplication with K^-1\n",
    "        directions = np.stack(\n",
    "            (\n",
    "                (bottoms[0] / fx)\n",
    "                - (s * bottoms[1] / (fx * fy))\n",
    "                + ((s * y0) / (fx * fy))\n",
    "                - (x0 / fx),\n",
    "                (bottoms[1] - y0) / fy,\n",
    "                np.ones(N),\n",
    "            )\n",
    "        )\n",
    "        assert (3, N) == directions.shape, ((3, N), directions.shape)\n",
    "\n",
    "        rotated_directions = rotate(directions, rotation)\n",
    "\n",
    "        # find t that z=0\n",
    "        ts = -translation[2] / rotated_directions[2, :]\n",
    "\n",
    "        points = rotated_directions * ts + translation[:, np.newaxis]\n",
    "        points_from_camera = rotate(points - translation[:, np.newaxis], rotation.inverse)\n",
    "\n",
    "        bbox3d = np.concatenate(\n",
    "            (\n",
    "                points[:, :],\n",
    "                # points[:, :N],\n",
    "                # points[:, N:],\n",
    "            ),\n",
    "            axis=0,\n",
    "        ).T\n",
    "        assert (N, 3) == bbox3d.shape, bbox3d.shape\n",
    "\n",
    "        bbox3d_from_camera = np.concatenate(\n",
    "            (\n",
    "                points_from_camera[:, :],\n",
    "                # points_from_camera[:, :N],\n",
    "                # points_from_camera[:, N:],\n",
    "            ),\n",
    "            axis=0,\n",
    "        ).T\n",
    "        assert (N, 3) == bbox3d_from_camera.shape, bbox3d_from_camera.shape\n",
    "\n",
    "        # d3d = torch.concatenate(\n",
    "        #     (\n",
    "        #         torch.tensor(bbox3d),\n",
    "        #         torch.tensor(bbox3d_from_camera),\n",
    "        #     ),\n",
    "        #     dim=1,\n",
    "        # )\n",
    "        # # assert (N, (d + 12)) == d3d.shape, d3d.shape\n",
    "\n",
    "        return bbox3d\n",
    "\n",
    "\n",
    "def rotate(vectors: \"npt.NDArray\", rotation: \"Quaternion\") -> \"npt.NDArray\":\n",
    "    \"\"\"Rotate 3D Vector by rotation quaternion.\n",
    "    Params:\n",
    "        vectors: (3 x N) 3-vectors each specified as any ordered\n",
    "            sequence of 3 real numbers corresponding to x, y, and z values.\n",
    "        rotation: A rotation quaternion.\n",
    "\n",
    "    Returns:\n",
    "        The rotated vectors (3 x N).\n",
    "    \"\"\"\n",
    "    return rotation.unit.rotation_matrix @ vectors\n",
    "\n",
    "\n",
    "def conj(q: \"npt.NDArray\") -> \"npt.NDArray\":\n",
    "    return np.concatenate([q[0:1, :], -q[1:, :]])\n"
   ]
  },
  {
   "cell_type": "code",
   "execution_count": 5,
   "metadata": {},
   "outputs": [
    {
     "data": {
      "text/plain": [
       "array([[-17.8125    ,  87.9375    , 189.5625    ,  23.15625   ,\n",
       "        -17.8125    , -17.8125    ],\n",
       "       [210.44444444, 180.44444444, 201.55555556, 287.33333333,\n",
       "        210.44444444, 210.44444444]])"
      ]
     },
     "execution_count": 5,
     "metadata": {},
     "output_type": "execute_result"
    }
   ],
   "source": [
    "np.array(lanes[0]).T"
   ]
  },
  {
   "cell_type": "code",
   "execution_count": 6,
   "metadata": {},
   "outputs": [],
   "source": [
    "result = run(data=np.array(intersection).T)"
   ]
  },
  {
   "cell_type": "code",
   "execution_count": 7,
   "metadata": {},
   "outputs": [],
   "source": [
    "x = []\n",
    "y = []\n",
    "for path in [intersection] + lanes:\n",
    "    result = run(data=np.array(path).T)\n",
    "    for point in result:\n",
    "        x.append(point[0])\n",
    "        y.append(point[1])\n",
    "        # x.append(point[3])\n",
    "        # y.append(point[4])"
   ]
  },
  {
   "cell_type": "code",
   "execution_count": 8,
   "metadata": {},
   "outputs": [
    {
     "data": {
      "image/png": "[encoded data removed]",
      "text/plain": [
       "<Figure size 640x480 with 1 Axes>"
      ]
     },
     "metadata": {},
     "output_type": "display_data"
    }
   ],
   "source": [
    "import matplotlib.pyplot as plt\n",
    "%matplotlib inline\n",
    "plt.scatter(x, y)\n",
    "plt.show()"
   ]
  },
  {
   "cell_type": "code",
   "execution_count": 9,
   "metadata": {},
   "outputs": [],
   "source": [
    "from spatialyze.utils.ingest_road import create_tables, drop_tables\n",
    "from spatialyze.database import database\n",
    "\n",
    "drop_tables(database)\n",
    "create_tables(database)"
   ]
  },
  {
   "cell_type": "code",
   "execution_count": 10,
   "metadata": {},
   "outputs": [
    {
     "data": {
      "text/html": [
       "<div>\n",
       "<style scoped>\n",
       "    .dataframe tbody tr th:only-of-type {\n",
       "        vertical-align: middle;\n",
       "    }\n",
       "\n",
       "    .dataframe tbody tr th {\n",
       "        vertical-align: top;\n",
       "    }\n",
       "\n",
       "    .dataframe thead th {\n",
       "        text-align: right;\n",
       "    }\n",
       "</style>\n",
       "<table border=\"1\" class=\"dataframe\">\n",
       "  <thead>\n",
       "    <tr style=\"text-align: right;\">\n",
       "      <th></th>\n",
       "      <th>elementid</th>\n",
       "      <th>elementpolygon</th>\n",
       "      <th>location</th>\n",
       "    </tr>\n",
       "  </thead>\n",
       "  <tbody>\n",
       "  </tbody>\n",
       "</table>\n",
       "</div>"
      ],
      "text/plain": [
       "Empty DataFrame\n",
       "Columns: [elementid, elementpolygon, location]\n",
       "Index: []"
      ]
     },
     "execution_count": 10,
     "metadata": {},
     "output_type": "execute_result"
    }
   ],
   "source": [
    "database.sql('select * from segmentpolygon')"
   ]
  },
  {
   "cell_type": "code",
   "execution_count": 11,
   "metadata": {},
   "outputs": [],
   "source": [
    "from spatialyze.utils.ingest_road import insert_polygon, insert_intersection, insert_lane, add_segment_type\n",
    "### Ingest Intersection ###\n",
    "result = run(data=np.array(intersection).T)\n",
    "\n",
    "intersectionPoints = \", \".join([f\"{p[0]} {p[1]}\" for p in result])\n",
    "intersectionPolygon = {\n",
    "    \"id\": \"1\",\n",
    "    \"polygon\": f\"POLYGON (({intersectionPoints}))\",\n",
    "    \"location\": \"viva-location\"\n",
    "}\n",
    "intersection_ins = {\n",
    "    \"id\": \"1_inter\",\n",
    "    \"road\": \"2_road\"\n",
    "\n",
    "}\n",
    "insert_polygon(database, [intersectionPolygon])\n",
    "insert_intersection(database, [intersection_ins])"
   ]
  },
  {
   "cell_type": "code",
   "execution_count": 12,
   "metadata": {},
   "outputs": [
    {
     "data": {
      "text/html": [
       "<div>\n",
       "<style scoped>\n",
       "    .dataframe tbody tr th:only-of-type {\n",
       "        vertical-align: middle;\n",
       "    }\n",
       "\n",
       "    .dataframe tbody tr th {\n",
       "        vertical-align: top;\n",
       "    }\n",
       "\n",
       "    .dataframe thead th {\n",
       "        text-align: right;\n",
       "    }\n",
       "</style>\n",
       "<table border=\"1\" class=\"dataframe\">\n",
       "  <thead>\n",
       "    <tr style=\"text-align: right;\">\n",
       "      <th></th>\n",
       "      <th>elementid</th>\n",
       "      <th>elementpolygon</th>\n",
       "      <th>location</th>\n",
       "    </tr>\n",
       "  </thead>\n",
       "  <tbody>\n",
       "    <tr>\n",
       "      <th>0</th>\n",
       "      <td>1</td>\n",
       "      <td>POLYGON(((13.473008592100006 -10.4395856101688...</td>\n",
       "      <td>viva-location</td>\n",
       "    </tr>\n",
       "  </tbody>\n",
       "</table>\n",
       "</div>"
      ],
      "text/plain": [
       "  elementid                                     elementpolygon       location\n",
       "0         1  POLYGON(((13.473008592100006 -10.4395856101688...  viva-location"
      ]
     },
     "execution_count": 12,
     "metadata": {},
     "output_type": "execute_result"
    }
   ],
   "source": [
    "database.sql('select * from segmentpolygon')"
   ]
  },
  {
   "cell_type": "code",
   "execution_count": 13,
   "metadata": {},
   "outputs": [],
   "source": [
    "### Ingest Lanes ###\n",
    "ins_lanes = []\n",
    "ins_lane_polygons = []\n",
    "for i in range(len(lanes)):\n",
    "    result = run(data=np.array(lanes[i]).T)\n",
    "    points = \", \".join([f\"{p[0]} {p[1]}\" for p in result])\n",
    "\n",
    "    ins_lanes.append({\"id\": f\"{i + 10}\"})\n",
    "    ins_lane_polygons.append({\n",
    "        \"id\": f\"{i + 10}\",\n",
    "        \"polygon\": f\"POLYGON (({points}))\",\n",
    "        \"location\": \"viva-location\"\n",
    "    })\n",
    "\n",
    "insert_polygon(database, ins_lane_polygons)\n",
    "insert_lane(database, ins_lanes)"
   ]
  },
  {
   "cell_type": "code",
   "execution_count": 14,
   "metadata": {},
   "outputs": [],
   "source": [
    "add_segment_type(database, set(['intersection', 'lane']))"
   ]
  },
  {
   "cell_type": "code",
   "execution_count": 16,
   "metadata": {},
   "outputs": [
    {
     "ename": "KeyError",
     "evalue": "0",
     "output_type": "error",
     "traceback": [
      "\u001b[0;31m---------------------------------------------------------------------------\u001b[0m",
      "\u001b[0;31mKeyError\u001b[0m                                  Traceback (most recent call last)",
      "File \u001b[0;32m~/anaconda3/envs/spatialyze/lib/python3.10/site-packages/pandas/core/indexes/base.py:3802\u001b[0m, in \u001b[0;36mIndex.get_loc\u001b[0;34m(self, key, method, tolerance)\u001b[0m\n\u001b[1;32m   3801\u001b[0m \u001b[38;5;28;01mtry\u001b[39;00m:\n\u001b[0;32m-> 3802\u001b[0m     \u001b[38;5;28;01mreturn\u001b[39;00m \u001b[38;5;28;43mself\u001b[39;49m\u001b[38;5;241;43m.\u001b[39;49m\u001b[43m_engine\u001b[49m\u001b[38;5;241;43m.\u001b[39;49m\u001b[43mget_loc\u001b[49m\u001b[43m(\u001b[49m\u001b[43mcasted_key\u001b[49m\u001b[43m)\u001b[49m\n\u001b[1;32m   3803\u001b[0m \u001b[38;5;28;01mexcept\u001b[39;00m \u001b[38;5;167;01mKeyError\u001b[39;00m \u001b[38;5;28;01mas\u001b[39;00m err:\n",
      "File \u001b[0;32m~/anaconda3/envs/spatialyze/lib/python3.10/site-packages/pandas/_libs/index.pyx:138\u001b[0m, in \u001b[0;36mpandas._libs.index.IndexEngine.get_loc\u001b[0;34m()\u001b[0m\n",
      "File \u001b[0;32m~/anaconda3/envs/spatialyze/lib/python3.10/site-packages/pandas/_libs/index.pyx:165\u001b[0m, in \u001b[0;36mpandas._libs.index.IndexEngine.get_loc\u001b[0;34m()\u001b[0m\n",
      "File \u001b[0;32mpandas/_libs/hashtable_class_helper.pxi:5745\u001b[0m, in \u001b[0;36mpandas._libs.hashtable.PyObjectHashTable.get_item\u001b[0;34m()\u001b[0m\n",
      "File \u001b[0;32mpandas/_libs/hashtable_class_helper.pxi:5753\u001b[0m, in \u001b[0;36mpandas._libs.hashtable.PyObjectHashTable.get_item\u001b[0;34m()\u001b[0m\n",
      "\u001b[0;31mKeyError\u001b[0m: 0",
      "\nThe above exception was the direct cause of the following exception:\n",
      "\u001b[0;31mKeyError\u001b[0m                                  Traceback (most recent call last)",
      "Cell \u001b[0;32mIn[16], line 1\u001b[0m\n\u001b[0;32m----> 1\u001b[0m \u001b[43mdatabase\u001b[49m\u001b[38;5;241;43m.\u001b[39;49m\u001b[43msql\u001b[49m\u001b[43m(\u001b[49m\u001b[38;5;124;43m'\u001b[39;49m\u001b[38;5;124;43mselect * from segmentpolygon\u001b[39;49m\u001b[38;5;124;43m'\u001b[39;49m\u001b[43m)\u001b[49m\u001b[43m[\u001b[49m\u001b[38;5;241;43m0\u001b[39;49m\u001b[43m]\u001b[49m\n",
      "File \u001b[0;32m~/anaconda3/envs/spatialyze/lib/python3.10/site-packages/pandas/core/frame.py:3807\u001b[0m, in \u001b[0;36mDataFrame.__getitem__\u001b[0;34m(self, key)\u001b[0m\n\u001b[1;32m   3805\u001b[0m \u001b[38;5;28;01mif\u001b[39;00m \u001b[38;5;28mself\u001b[39m\u001b[38;5;241m.\u001b[39mcolumns\u001b[38;5;241m.\u001b[39mnlevels \u001b[38;5;241m>\u001b[39m \u001b[38;5;241m1\u001b[39m:\n\u001b[1;32m   3806\u001b[0m     \u001b[38;5;28;01mreturn\u001b[39;00m \u001b[38;5;28mself\u001b[39m\u001b[38;5;241m.\u001b[39m_getitem_multilevel(key)\n\u001b[0;32m-> 3807\u001b[0m indexer \u001b[38;5;241m=\u001b[39m \u001b[38;5;28;43mself\u001b[39;49m\u001b[38;5;241;43m.\u001b[39;49m\u001b[43mcolumns\u001b[49m\u001b[38;5;241;43m.\u001b[39;49m\u001b[43mget_loc\u001b[49m\u001b[43m(\u001b[49m\u001b[43mkey\u001b[49m\u001b[43m)\u001b[49m\n\u001b[1;32m   3808\u001b[0m \u001b[38;5;28;01mif\u001b[39;00m is_integer(indexer):\n\u001b[1;32m   3809\u001b[0m     indexer \u001b[38;5;241m=\u001b[39m [indexer]\n",
      "File \u001b[0;32m~/anaconda3/envs/spatialyze/lib/python3.10/site-packages/pandas/core/indexes/base.py:3804\u001b[0m, in \u001b[0;36mIndex.get_loc\u001b[0;34m(self, key, method, tolerance)\u001b[0m\n\u001b[1;32m   3802\u001b[0m     \u001b[38;5;28;01mreturn\u001b[39;00m \u001b[38;5;28mself\u001b[39m\u001b[38;5;241m.\u001b[39m_engine\u001b[38;5;241m.\u001b[39mget_loc(casted_key)\n\u001b[1;32m   3803\u001b[0m \u001b[38;5;28;01mexcept\u001b[39;00m \u001b[38;5;167;01mKeyError\u001b[39;00m \u001b[38;5;28;01mas\u001b[39;00m err:\n\u001b[0;32m-> 3804\u001b[0m     \u001b[38;5;28;01mraise\u001b[39;00m \u001b[38;5;167;01mKeyError\u001b[39;00m(key) \u001b[38;5;28;01mfrom\u001b[39;00m \u001b[38;5;21;01merr\u001b[39;00m\n\u001b[1;32m   3805\u001b[0m \u001b[38;5;28;01mexcept\u001b[39;00m \u001b[38;5;167;01mTypeError\u001b[39;00m:\n\u001b[1;32m   3806\u001b[0m     \u001b[38;5;66;03m# If we have a listlike key, _check_indexing_error will raise\u001b[39;00m\n\u001b[1;32m   3807\u001b[0m     \u001b[38;5;66;03m#  InvalidIndexError. Otherwise we fall through and re-raise\u001b[39;00m\n\u001b[1;32m   3808\u001b[0m     \u001b[38;5;66;03m#  the TypeError.\u001b[39;00m\n\u001b[1;32m   3809\u001b[0m     \u001b[38;5;28mself\u001b[39m\u001b[38;5;241m.\u001b[39m_check_indexing_error(key)\n",
      "\u001b[0;31mKeyError\u001b[0m: 0"
     ]
    }
   ],
   "source": [
    "database.sql('select * from segmentpolygon')"
   ]
  },
  {
   "cell_type": "code",
   "execution_count": null,
   "metadata": {},
   "outputs": [],
   "source": []
  }
 ],
 "metadata": {
  "kernelspec": {
   "display_name": "Python 3 (ipykernel)",
   "language": "python",
   "name": "python3"
  },
  "language_info": {
   "codemirror_mode": {
    "name": "ipython",
    "version": 3
   },
   "file_extension": ".py",
   "mimetype": "text/x-python",
   "name": "python",
   "nbconvert_exporter": "python",
   "pygments_lexer": "ipython3",
   "version": "3.10.13"
  }
 },
 "nbformat": 4,
 "nbformat_minor": 4
}
