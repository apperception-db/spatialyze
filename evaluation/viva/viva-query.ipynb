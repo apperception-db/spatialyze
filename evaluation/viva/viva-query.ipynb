{
 "cells": [
  {
   "cell_type": "code",
   "execution_count": 1,
   "metadata": {
    "tags": []
   },
   "outputs": [],
   "source": [
    "from os import environ\n",
    "# environ[\"AP_PORT\"] = \"25432\" # str(input('port'))\n",
    "# README command uses port=25432"
   ]
  },
  {
   "cell_type": "code",
   "execution_count": 2,
   "metadata": {
    "tags": []
   },
   "outputs": [
    {
     "name": "stdout",
     "output_type": "stream",
     "text": [
      "CUDA is available.\n",
      " > 0: Tesla T4\n"
     ]
    },
    {
     "name": "stderr",
     "output_type": "stream",
     "text": [
      "/home/chanwutk/spatialyze/spatialyze/video_processor/modules/yolo_deepsort/deep_sort/deep/reid/torchreid/metrics/rank.py:11: UserWarning: Cython evaluation (very fast so highly recommended) is unavailable, now use python evaluation.\n",
      "  warnings.warn(\n"
     ]
    }
   ],
   "source": [
    "import pickle\n",
    "import json\n",
    "import os\n",
    "import psycopg2\n",
    "import numpy as np\n",
    "\n",
    "from spatialyze.database import database\n",
    "from spatialyze.geospatial_video import GeospatialVideo\n",
    "from spatialyze.road_network import RoadNetwork\n",
    "from spatialyze.video_processor.camera_config import camera_config\n",
    "from spatialyze.video_processor.stages.tracking_3d.tracking_3d import Tracking3DResult\n",
    "from spatialyze.world import World, _execute\n",
    "from spatialyze.video_processor.cache import disable_cache\n",
    "from spatialyze.video_processor.metadata_json_encoder import MetadataJSONEncoder"
   ]
  },
  {
   "cell_type": "code",
   "execution_count": 3,
   "metadata": {
    "tags": []
   },
   "outputs": [],
   "source": [
    "OUTPUT_DIR = '/home/chanwutk/viva-results'\n",
    "VIDEO_DIR =  '/home/chanwutk/viva-data' # '../../data/pipeline/videos'\n",
    "# ROAD_DIR = '../../data/scenic/road-network/boston-seaport'\n",
    "\n",
    "files = os.listdir(VIDEO_DIR)\n",
    "\n",
    "\n",
    "\n",
    "disable_cache()"
   ]
  },
  {
   "cell_type": "code",
   "execution_count": 4,
   "metadata": {},
   "outputs": [],
   "source": [
    "# We want 240 * 20sec =  4800sec worth of video. So we will use 4800s/5s = 960 videos\n",
    "files = [x for x in files if int(x.split(\".\")[0]) <= 960]"
   ]
  },
  {
   "cell_type": "code",
   "execution_count": 5,
   "metadata": {},
   "outputs": [],
   "source": [
    "files = files[:5]"
   ]
  },
  {
   "cell_type": "code",
   "execution_count": 6,
   "metadata": {
    "tags": []
   },
   "outputs": [],
   "source": [
    "# database = Database(\n",
    "#     psycopg2.connect(\n",
    "#         dbname=environ.get(\"AP_DB\", \"mobilitydb\"),\n",
    "#         user=environ.get(\"AP_USER\", \"docker\"),\n",
    "#         host=environ.get(\"AP_HOST\", \"localhost\"),\n",
    "#         port=environ.get(\"AP_PORT\", \"25432\"),\n",
    "#         password=environ.get(\"AP_PASSWORD\", \"docker\"),\n",
    "#     )\n",
    "# )"
   ]
  },
  {
   "cell_type": "code",
   "execution_count": 7,
   "metadata": {},
   "outputs": [],
   "source": [
    "world = World(database)\n",
    "# world.addGeogConstructs(RoadNetwork('Boston-Seaport', ROAD_DIR))"
   ]
  },
  {
   "cell_type": "code",
   "execution_count": 8,
   "metadata": {},
   "outputs": [],
   "source": [
    "from pyquaternion import Quaternion\n",
    "\n",
    "CAMERA_INTRINSIC = np.array([\n",
    "    [1272,    0, 960],\n",
    "    [   0, 1272, 540],\n",
    "    [   0,    0,   1]\n",
    "])\n",
    "\n",
    "CAMERA_TRANSLATION = np.array([0, 0, 5])\n",
    "\n",
    "CAMERA_ROTATION = Quaternion((0.430, -0.561, 0.561, -0.430))"
   ]
  },
  {
   "cell_type": "code",
   "execution_count": 9,
   "metadata": {},
   "outputs": [],
   "source": [
    "import cv2\n",
    "import datetime\n",
    "\n",
    "for video in files:\n",
    "    videofile = os.path.join(VIDEO_DIR, video)\n",
    "    \n",
    "    cap = cv2.VideoCapture(videofile)\n",
    "    frame_count = int(cap.get(cv2.CAP_PROP_FRAME_COUNT))\n",
    "    camera = []\n",
    "    for frame in range(frame_count):\n",
    "        camera.append(camera_config(\n",
    "            camera_id=video,\n",
    "            camera_heading=90,\n",
    "            camera_intrinsic=CAMERA_INTRINSIC,\n",
    "            camera_translation=CAMERA_TRANSLATION,\n",
    "            ego_heading=0,\n",
    "            ego_rotation=Quaternion((1, 0, 0, 0)),\n",
    "            camera_rotation=CAMERA_ROTATION,\n",
    "            filename=videofile,\n",
    "            ego_translation=np.array([0, 0, 0]),\n",
    "            frame_id=frame,\n",
    "            frame_num=frame,\n",
    "            location=\"viva-data\",\n",
    "            timestamp=datetime.datetime.fromtimestamp(frame + 10),\n",
    "            road_direction=0,\n",
    "        ))\n",
    "\n",
    "    world.addVideo(GeospatialVideo(videofile, camera))"
   ]
  },
  {
   "cell_type": "code",
   "execution_count": 10,
   "metadata": {},
   "outputs": [
    {
     "data": {
      "text/plain": [
       "<spatialyze.world.World at 0x7f1272c4c910>"
      ]
     },
     "execution_count": 10,
     "metadata": {},
     "output_type": "execute_result"
    }
   ],
   "source": [
    "from spatialyze.utils import F\n",
    "\n",
    "o = world.object()\n",
    "# p = world.object()\n",
    "c = world.camera()\n",
    "world.filter(\n",
    "    (o.type == 'car')\n",
    "    &\n",
    "    # F.contained(o.trans@c.time, 'intersection') &\n",
    "    F.left_turn(o)\n",
    ")"
   ]
  },
  {
   "cell_type": "code",
   "execution_count": null,
   "metadata": {},
   "outputs": [],
   "source": [
    "import time\n",
    "\n",
    "start = time.time()\n",
    "result = world.getObjects()\n",
    "end = time.time()\n"
   ]
  },
  {
   "cell_type": "code",
   "execution_count": null,
   "metadata": {},
   "outputs": [],
   "source": []
  },
  {
   "cell_type": "code",
   "execution_count": null,
   "metadata": {},
   "outputs": [],
   "source": [
    "print(\"result\", format(end-start))\n"
   ]
  },
  {
   "cell_type": "code",
   "execution_count": null,
   "metadata": {},
   "outputs": [],
   "source": [
    "result = world.getObjects()\n",
    "result"
   ]
  },
  {
   "cell_type": "code",
   "execution_count": null,
   "metadata": {
    "tags": []
   },
   "outputs": [],
   "source": [
    "world.saveVideos(outputDir=OUTPUT_DIR, addBoundingBoxes=True)"
   ]
  }
 ],
 "metadata": {
  "kernelspec": {
   "display_name": "Python 3 (ipykernel)",
   "language": "python",
   "name": "python3"
  },
  "language_info": {
   "codemirror_mode": {
    "name": "ipython",
    "version": 3
   },
   "file_extension": ".py",
   "mimetype": "text/x-python",
   "name": "python",
   "nbconvert_exporter": "python",
   "pygments_lexer": "ipython3",
   "version": "3.10.13"
  },
  "vscode": {
   "interpreter": {
    "hash": "84811f0b18467531d9159c52389f859386c3fe2775a4d2964ee51061827c5c88"
   }
  }
 },
 "nbformat": 4,
 "nbformat_minor": 4
}
