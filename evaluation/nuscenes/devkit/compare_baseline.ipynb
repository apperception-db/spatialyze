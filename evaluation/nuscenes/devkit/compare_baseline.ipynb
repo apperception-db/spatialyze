{
 "cells": [
  {
   "cell_type": "code",
   "execution_count": null,
   "metadata": {},
   "outputs": [],
   "source": [
    "query = 'fig12'"
   ]
  },
  {
   "cell_type": "code",
   "execution_count": null,
   "metadata": {},
   "outputs": [],
   "source": [
    "devkit_results = []\n",
    "\n",
    "with open(f\"/home/youse/apperception-devkit/devkit/{query}_results.txt\", 'r') as f:\n",
    "    for x in f:\n",
    "        devkit_results.append(x)\n",
    "devkit_results = set(devkit_results)"
   ]
  },
  {
   "cell_type": "code",
   "execution_count": null,
   "metadata": {},
   "outputs": [],
   "source": [
    "apperception_results = []\n",
    "\n",
    "with open(f\"/home/youse/apperception/benchmarks/scenic_equivelants/{query}_baseline_results.txt\", 'r') as f:\n",
    "    for x in f:\n",
    "        apperception_results.append(x)\n",
    "apperception_results = set(apperception_results)"
   ]
  },
  {
   "cell_type": "code",
   "execution_count": null,
   "metadata": {},
   "outputs": [],
   "source": [
    "missing = 0\n",
    "missing_images = []\n",
    "for expected_img in devkit_results:\n",
    "    if expected_img not in apperception_results:\n",
    "        print(\"In devkit but not apperception:\", expected_img)\n",
    "        missing += 1\n",
    "        # missing_images.append(expected_img)\n",
    "print(\"Percentage of imgaes in devkit results but not in apperception results: \", missing, \"/\", len(devkit_results), \"=\", 100 * missing / len(devkit_results), \"%\")\n",
    "\n",
    "extra = 0\n",
    "extra_images = []\n",
    "for expected_img in apperception_results:\n",
    "    if expected_img not in devkit_results:\n",
    "        print(\"In apperception but not devkit:\", expected_img)\n",
    "        extra += 1\n",
    "        # extra_images.append(expected_img)\n",
    "print(\"Percentage of imgaes in apperception results but not in devkit results: \", extra, \"/\", len(apperception_results), \"=\", 100 * extra / len(apperception_results), \"%\")\n"
   ]
  },
  {
   "cell_type": "code",
   "execution_count": null,
   "metadata": {},
   "outputs": [],
   "source": []
  }
 ],
 "metadata": {
  "kernelspec": {
   "display_name": "apperception",
   "language": "python",
   "name": "python3"
  },
  "language_info": {
   "codemirror_mode": {
    "name": "ipython",
    "version": 3
   },
   "file_extension": ".py",
   "mimetype": "text/x-python",
   "name": "python",
   "nbconvert_exporter": "python",
   "pygments_lexer": "ipython3",
   "version": "3.10.11"
  }
 },
 "nbformat": 4,
 "nbformat_minor": 2
}
