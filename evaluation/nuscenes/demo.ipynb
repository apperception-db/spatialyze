{
 "cells": [
  {
   "cell_type": "code",
   "execution_count": null,
   "id": "94f008b2-16d2-4a15-9c6a-46c988ff4180",
   "metadata": {},
   "outputs": [],
   "source": [
    "import time\n",
    "from os import environ\n",
    "\n",
    "from spatialyze.database import database\n",
    "from spatialyze.predicate import camera, objects, lit\n",
    "from spatialyze.utils import F\n",
    "from spatialyze.utils.process_raw_nuscenes import process_raw_nuscenes"
   ]
  },
  {
   "cell_type": "code",
   "execution_count": null,
   "id": "acbca09b-2282-4804-827e-adeb8fbe145c",
   "metadata": {},
   "outputs": [],
   "source": [
    "database.load_roadnetworks('../../data/scenic/road-network/boston-seaport', 'boston-seaport')"
   ]
  },
  {
   "cell_type": "code",
   "execution_count": null,
   "id": "731ca12f-0f82-4349-8cdf-8e2a54ca1217",
   "metadata": {},
   "outputs": [],
   "source": [
    "database.reset()"
   ]
  },
  {
   "cell_type": "code",
   "execution_count": null,
   "id": "5bc2215a-5244-494d-a94e-c79f21d1cde2",
   "metadata": {},
   "outputs": [],
   "source": [
    "cameras, annotations = process_raw_nuscenes(environ['NUSCENES_MINI'])"
   ]
  },
  {
   "cell_type": "code",
   "execution_count": null,
   "id": "8b4ff83b-4402-4529-9dd1-6b591fc76a36",
   "metadata": {},
   "outputs": [],
   "source": [
    "database.load_nuscenes(cameras, annotations)"
   ]
  },
  {
   "cell_type": "markdown",
   "id": "b637f71e-59d6-4abe-a09b-8122dcfac697",
   "metadata": {},
   "source": [
    "## Simple Query"
   ]
  },
  {
   "cell_type": "code",
   "execution_count": null,
   "id": "ef5a8f83-0777-467a-836c-673b682d6512",
   "metadata": {},
   "outputs": [],
   "source": [
    "c = camera\n",
    "o = objects[0]\n",
    "output = database.predicate(o.type == 'vehicle.car')"
   ]
  },
  {
   "cell_type": "code",
   "execution_count": null,
   "id": "f67cb36d-8356-437e-9eed-c1679206390f",
   "metadata": {},
   "outputs": [],
   "source": [
    "len(output)"
   ]
  },
  {
   "cell_type": "markdown",
   "id": "7427377a-16a4-4516-9089-aa56fbf84fa1",
   "metadata": {},
   "source": [
    "## Figure 12"
   ]
  },
  {
   "cell_type": "code",
   "execution_count": null,
   "id": "e4fd0aff-3eae-4f2b-87c3-95c86211c04c",
   "metadata": {},
   "outputs": [],
   "source": [
    "t0 = time.time()\n",
    "o = objects[0]\n",
    "c = camera\n",
    "pred1 = (\n",
    "    # (F.like(c.filename, 'samples/CAM_FRONT%')) & \n",
    "    (o.type == 'human.pedestrian.adult') &\n",
    "    # F.contained(c.ego, 'intersection') &\n",
    "    F.contained(o.trans@c.time, 'intersection') &\n",
    "    F.angle_excluding(F.facing_relative(o.traj@c.time, c.cam), lit(-70), lit(70)) &\n",
    "    # F.angle_between(F.facing_relative(c.cam, F.road_direction(c.ego)), lit(-15), lit(15)) &\n",
    "    (F.distance(c.ego, o.traj@c.time) < lit(50)) & # &\n",
    "    (F.view_angle(o.trans@c.time, c.cam) < lit(35))\n",
    ")\n",
    "output = database.predicate(pred1)\n",
    "t1 = time.time()"
   ]
  },
  {
   "cell_type": "code",
   "execution_count": null,
   "id": "c7b172ec-3de8-46a6-877c-aef73fc18a75",
   "metadata": {},
   "outputs": [],
   "source": [
    "print(len(output), t1 - t0)"
   ]
  },
  {
   "cell_type": "markdown",
   "id": "ca118fd3-f3b7-431c-8642-c72a88f660fd",
   "metadata": {},
   "source": [
    "## Figure 13"
   ]
  },
  {
   "cell_type": "code",
   "execution_count": null,
   "id": "b8d6990c-9fd4-435b-b6f1-d0bf798b4ae1",
   "metadata": {},
   "outputs": [],
   "source": [
    "t0 = time.time()\n",
    "obj1 = objects[0]\n",
    "obj2 = objects[1]\n",
    "cam = camera\n",
    "pred2 =(\n",
    "    # (F.like(cam.filename, 'samples/CAM_FRONT%')) & \n",
    "    (obj1.id > obj2.id) &\n",
    "    ((obj1.type == 'vehicle.car') | (obj1.type == 'vehicle.truck')) &\n",
    "    ((obj2.type == 'vehicle.car') | (obj2.type == 'vehicle.truck')) &\n",
    "    # F.angle_between(F.facing_relative(cam.cam, F.road_direction(cam.cam)), -15, 15) &\n",
    "    (F.distance(cam.ego, obj1.trans@cam.time) < 50) &\n",
    "    (F.view_angle(obj1.trans@cam.time, cam.cam) < lit(35)) &\n",
    "    (F.distance(cam.ego, obj2.trans@cam.time) < 50) &\n",
    "    (F.view_angle(obj2.trans@cam.time, cam.cam) < lit(35)) &\n",
    "    F.contained(obj1.trans@cam.time, 'intersection') &\n",
    "    F.contained(obj2.trans@cam.time, 'intersection') &\n",
    "    # F.angle_between(F.facing_relative(obj1.trans@cam.time, cam.cam), 40, 135) &\n",
    "    # F.angle_between(F.facing_relative(obj2.trans@cam.time, cam.cam), -135, -50) &\n",
    "    F.angle_between(F.facing_relative(obj1.traj@cam.time, obj2.traj@cam.time), -180, -90)\n",
    "    # (F.min_distance(cam.ego, 'intersection') < 10) &\n",
    "    # F.angle_between(F.facing_relative(obj1.trans@cam.time, obj2.trans@cam.time), 100, -100)\n",
    ")\n",
    "output = database.predicate(pred2)\n",
    "t1 = time.time()"
   ]
  },
  {
   "cell_type": "code",
   "execution_count": null,
   "id": "1056a41e-a1e2-4aa8-b069-51db7861c765",
   "metadata": {},
   "outputs": [],
   "source": [
    "len(output)"
   ]
  },
  {
   "cell_type": "code",
   "execution_count": null,
   "id": "0d2adb8e-268c-474a-b2a7-cd22a7841c5f",
   "metadata": {
    "tags": []
   },
   "outputs": [],
   "source": [
    "t1 - t0"
   ]
  },
  {
   "cell_type": "markdown",
   "id": "c8f9ad00-e560-4a9b-aa11-d1e69c3bbf04",
   "metadata": {},
   "source": [
    "## Figure 14"
   ]
  },
  {
   "cell_type": "code",
   "execution_count": null,
   "id": "9ae5250f-0910-42cc-9d42-8c67d5f7ab8f",
   "metadata": {},
   "outputs": [],
   "source": [
    "t0 = time.time()\n",
    "obj1 = objects[0]\n",
    "cam = camera\n",
    "pred3 = (\n",
    "    # (F.like(cam.filename, 'samples/CAM_FRONT%')) & \n",
    "    ((obj1.type == 'vehicle.car') | (obj1.type == 'vehicle.truck')) &\n",
    "    (F.view_angle(obj1.trans@cam.time, cam.cam) < lit(35)) &\n",
    "    F.angle_between(F.facing_relative(cam.cam, F.road_direction(cam.ego, cam.ego)), 135, 225) &\n",
    "    F.contained(cam.cam, F.road_segment('lane')) &\n",
    "    F.contained(obj1.trans@cam.time, F.road_segment('lane')) &\n",
    "    F.angle_between(F.facing_relative(obj1.trans@cam.time, F.road_direction(obj1.traj@cam.time, cam.ego)), -15, 15) &\n",
    "    # F.angle_between(F.facing_relative(obj1.trans@cam.time, cam.ego), 135, 225) &\n",
    "    (F.distance(cam.ego, obj1.trans@cam.time) < 10)\n",
    ")\n",
    "output = database.predicate(pred3)\n",
    "t1 = time.time()"
   ]
  },
  {
   "cell_type": "code",
   "execution_count": null,
   "id": "dc6346c6-0626-4010-9406-66ec5274d6be",
   "metadata": {},
   "outputs": [],
   "source": [
    "print(len(output), t1 - t0)"
   ]
  },
  {
   "cell_type": "markdown",
   "id": "255dc25f-1918-4ca0-85a1-e707763cdeb0",
   "metadata": {},
   "source": [
    "## Figure 15"
   ]
  },
  {
   "cell_type": "code",
   "execution_count": null,
   "id": "f12d931d-f7ad-4fb9-915a-6b56f5e8b385",
   "metadata": {},
   "outputs": [],
   "source": [
    "t0 = time.time()\n",
    "cam = camera\n",
    "car1 = objects[0]\n",
    "opposite_car_1 = objects[1]\n",
    "opposite_car_2 = objects[2]\n",
    "\n",
    "pred4 = (\n",
    "    # (F.like(cam.filename, 'samples/CAM_FRONT%')) & \n",
    "    ((car1.type == 'vehicle.car') | (car1.type == 'vehicle.truck')) &\n",
    "    ((opposite_car_2.type == 'vehicle.car') | (opposite_car_2.type == 'vehicle.truck')) &\n",
    "    ((opposite_car_1.type == 'vehicle.car') | (opposite_car_1.type == 'vehicle.truck')) &\n",
    "    (opposite_car_1.id > opposite_car_2.id) &\n",
    "    (car1.id < opposite_car_2.id) &\n",
    "\n",
    "    F.contained(cam.cam, F.road_segment('lane')) &\n",
    "    F.contained(car1.trans@cam.time, F.road_segment('lane')) &\n",
    "    F.contained(opposite_car_1.trans@cam.time, F.road_segment('lane')) &\n",
    "    F.contained(opposite_car_2.trans@cam.time, F.road_segment('lane')) &\n",
    "    F.angle_between(F.facing_relative(cam.cam, F.road_direction(cam.cam, cam.cam)), -15, 15) &\n",
    "    (F.view_angle(car1.trans@cam.time, cam.cam) < lit(35)) &\n",
    "    (F.distance(cam.cam, car1.traj@cam.time) < 40) &\n",
    "    F.angle_between(F.facing_relative(car1.traj@cam.time, cam.ego), -15, 15) &\n",
    "    # F.angle_between(F.facing_relative(car1.traj@cam.time, F.road_direction(car1.traj@cam.time, cam.ego)), -15, 15) &\n",
    "    F.ahead(car1.traj@cam.time, cam.cam) &\n",
    "    # (F.convert_camera(opposite_car.traj@cam.time, cam.ego) > [-10, 0]) &\n",
    "    # (F.convert_camera(opposite_car.traj@cam.time, cam.ego) < [-1, 50]) &\n",
    "    F.angle_between(F.facing_relative(opposite_car_1.traj@cam.time, cam.ego), 135, 225) &\n",
    "    # (F.distance(opposite_car@cam.time, car2@cam.time) < 40)# &\n",
    "    F.angle_between(F.facing_relative(opposite_car_2.traj@cam.time, opposite_car_1.traj@cam.time), -15, 15) &\n",
    "    F.angle_between(F.facing_relative(opposite_car_2.traj@cam.time, F.road_direction(opposite_car_2.traj@cam.time, cam.ego)), -15, 15) &\n",
    "    F.ahead(opposite_car_2.traj@cam.time, opposite_car_1.traj@cam.time)\n",
    "    )\n",
    "output = database.predicate(pred4)\n",
    "t1 = time.time()"
   ]
  },
  {
   "cell_type": "code",
   "execution_count": null,
   "id": "0b30bf4c-5686-4925-a0eb-275caaedc12e",
   "metadata": {
    "tags": []
   },
   "outputs": [],
   "source": [
    "print(len(output), t1 - t0)"
   ]
  }
 ],
 "metadata": {
  "kernelspec": {
   "display_name": "Python 3 (ipykernel)",
   "language": "python",
   "name": "python3"
  },
  "language_info": {
   "codemirror_mode": {
    "name": "ipython",
    "version": 3
   },
   "file_extension": ".py",
   "mimetype": "text/x-python",
   "name": "python",
   "nbconvert_exporter": "python",
   "pygments_lexer": "ipython3",
   "version": "3.10.12"
  }
 },
 "nbformat": 4,
 "nbformat_minor": 5
}
